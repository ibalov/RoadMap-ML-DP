{
 "cells": [
  {
   "cell_type": "markdown",
   "metadata": {},
   "source": [
    "<a href=\"https://colab.research.google.com/github/institutohumai/cursos-python/blob/master/MatematicasParaIA/2_Matrices/matrices.ipynb\"> <img src='https://colab.research.google.com/assets/colab-badge.svg' /> </a>"
   ]
  },
  {
   "cell_type": "markdown",
   "metadata": {
    "id": "C0nRpW2iS5wN"
   },
   "source": [
    "# Matrices\n",
    "Una matriz es un arreglo rectangular de escalares (es decir, cualquier número: entero, real o complejo) dispuestos en filas y columnas, por ejemplo:\n",
    "\n",
    "$$\\begin{bmatrix} 10 & 20 & 30 \\\\ 40 & 50 & 60 \\end{bmatrix}$$\n",
    "\n",
    "También puede pensar en una matriz como una lista de vectores: la matriz anterior contiene 2 vectores 3D horizontales o 3 vectores 2D verticales.\n",
    "\n",
    "Las matrices son convenientes y muy eficientes para ejecutar operaciones en muchos vectores a la vez. También veremos que son excelentes para representar y realizar transformaciones lineales como rotaciones, traslaciones y cambios de escala."
   ]
  },
  {
   "cell_type": "markdown",
   "metadata": {
    "id": "ZJMBBMu_S5wO"
   },
   "source": [
    "## Matrices en python\n",
    "En python, una matriz se puede representar de varias formas. El más simple es solo una lista de listas de python:"
   ]
  },
  {
   "cell_type": "code",
   "execution_count": 1,
   "metadata": {
    "colab": {
     "base_uri": "https://localhost:8080/"
    },
    "id": "eO_0Det4S5wO",
    "outputId": "4357f52c-6604-42a8-937b-4e2ebb77c928"
   },
   "outputs": [
    {
     "data": {
      "text/plain": [
       "[[10, 20, 30], [40, 50, 60]]"
      ]
     },
     "execution_count": 1,
     "metadata": {},
     "output_type": "execute_result"
    }
   ],
   "source": [
    "[\n",
    "    [10, 20, 30],\n",
    "    [40, 50, 60]\n",
    "]"
   ]
  },
  {
   "cell_type": "markdown",
   "metadata": {
    "id": "16rfGDy2S5wO"
   },
   "source": [
    "Pero, al igual que con los vectores, es mucho más eficiente representarlas como arreglos NumPy.\n"
   ]
  },
  {
   "cell_type": "code",
   "execution_count": 101,
   "metadata": {
    "colab": {
     "base_uri": "https://localhost:8080/"
    },
    "id": "shyRIdgRS5wO",
    "outputId": "c0e92bf6-3763-4d42-bea8-8f971e445c95"
   },
   "outputs": [
    {
     "name": "stdout",
     "output_type": "stream",
     "text": [
      "[[10 20 30]\n",
      " [40 50 60]]\n"
     ]
    }
   ],
   "source": [
    "import numpy as np\n",
    "A = np.array([\n",
    "    [10,20,30],\n",
    "    [40,50,60]\n",
    "])\n",
    "print(A)"
   ]
  },
  {
   "cell_type": "markdown",
   "metadata": {
    "id": "_P6RP26XS5wO"
   },
   "source": [
    "Por convención, las matrices generalmente tienen nombres en mayúsculas, como $A$.\n",
    "\n",
    "En el resto de este tutorial, asumiremos que estamos usando arreglos NumPy (tipo `ndarray`) para representar matrices."
   ]
  },
  {
   "cell_type": "markdown",
   "metadata": {
    "id": "6AHxXoFjS5wO"
   },
   "source": [
    "## Tamaño\n",
    "El tamaño de una matriz se define por su número de filas y número de columnas. Se anota $filas \\times columnas$. Por ejemplo, la matriz $A$ anterior es un ejemplo de una matriz de $2 \\times 3$: 2 filas, 3 columnas. Precaución: una matriz de $3 \\times 2$ tendría 3 filas y 2 columnas.\n",
    "\n",
    "Para obtener el tamaño de una matriz en NumPy:"
   ]
  },
  {
   "cell_type": "code",
   "execution_count": 3,
   "metadata": {
    "colab": {
     "base_uri": "https://localhost:8080/"
    },
    "id": "T2D_-DkWS5wO",
    "outputId": "65ead927-2599-4884-9b2a-34ffd09f9114"
   },
   "outputs": [
    {
     "data": {
      "text/plain": [
       "(2, 3)"
      ]
     },
     "execution_count": 3,
     "metadata": {},
     "output_type": "execute_result"
    }
   ],
   "source": [
    "A.shape"
   ]
  },
  {
   "cell_type": "markdown",
   "metadata": {
    "id": "LzrNne5rS5wP"
   },
   "source": [
    "**Precaución**: el atributo `size` representa el número de elementos en el `ndarray`, no el tamaño de la matriz:"
   ]
  },
  {
   "cell_type": "code",
   "execution_count": 4,
   "metadata": {
    "colab": {
     "base_uri": "https://localhost:8080/"
    },
    "id": "zKo1ds29S5wP",
    "outputId": "c426b928-4931-4bf2-ddc2-ac6ac5015450"
   },
   "outputs": [
    {
     "data": {
      "text/plain": [
       "6"
      ]
     },
     "execution_count": 4,
     "metadata": {},
     "output_type": "execute_result"
    }
   ],
   "source": [
    "A.size"
   ]
  },
  {
   "cell_type": "markdown",
   "metadata": {
    "id": "ZRIgWI0aS5wP"
   },
   "source": [
    "## Indexación de elementos\n",
    "El número ubicado en la fila $i^{th}$ y la columna $j^{th}$ de una matriz $X$ a veces se indica como $X_{i,j}$ o $X_{ij}$, pero no no es una notación estándar, por lo que la gente suele preferir nombrar explícitamente los elementos, así: \"*Sea $X = (x_{i,j})_{1 ≤ i ≤ m, 1 ≤ j ≤ n}$*\". Esto significa que $X$ es igual a:\n",
    "\n",
    "$X = \\begin{bmatrix}\n",
    "   x_{1,1} & x_{1,2} & x_{1,3} & \\cdots & x_{1,n}\\\\\n",
    "   x_{2,1} & x_{2,2} & x_{2,3} & \\cdots & x_{2,n}\\\\\n",
    "   x_{3,1} & x_{3,2} & x_{3,3} & \\cdots & x_{3,n}\\\\\n",
    "   \\vdots & \\vdots & \\vdots & \\ddots & \\vdots \\\\\n",
    "   x_{m,1} & x_{m,2} & x_{m,3} & \\cdots & x_{m,n}\\\\\n",
    "\\end{bmatrix}$\n",
    "\n",
    "Sin embargo, en este notebook usaremos la notación $X_{i,j}$, ya que coincide bastante bien con la notación de NumPy. Tenga en cuenta que en matemáticas, los índices generalmente comienzan en 1, pero en programación generalmente comienzan en 0. Entonces, para acceder a $A_{2,3}$ mediante programación, debemos escribir esto:"
   ]
  },
  {
   "cell_type": "code",
   "execution_count": 5,
   "metadata": {
    "colab": {
     "base_uri": "https://localhost:8080/"
    },
    "id": "AnW1xC6HS5wP",
    "outputId": "91e2dadb-3d5b-47f2-dc26-9128dd42276a"
   },
   "outputs": [
    {
     "data": {
      "text/plain": [
       "60"
      ]
     },
     "execution_count": 5,
     "metadata": {},
     "output_type": "execute_result"
    }
   ],
   "source": [
    "A[1,2]  # 2da fila, 3ra columna"
   ]
  },
  {
   "cell_type": "markdown",
   "metadata": {
    "id": "AFeIzsEYS5wP"
   },
   "source": [
    "El vector de  la fila $i^{ésima}$ a veces se anota como $M_i$ o $M_{i,*}$, pero nuevamente no hay una notación estándar, por lo que las personas prefieren definir explícitamente sus propios nombres, por ejemplo: \"*Sea **x**$_{i}$ el $i^{ésimo}$ vector fila  de la matriz $X$*\". Usaremos $M_{i,*}$, por la misma razón que la anterior. Por ejemplo, para acceder a $A_{2,*}$ (es decir, el vector de la segunda fila de $A$):"
   ]
  },
  {
   "cell_type": "code",
   "execution_count": 6,
   "metadata": {
    "colab": {
     "base_uri": "https://localhost:8080/"
    },
    "id": "zc4JPJr7S5wP",
    "outputId": "3e62ffd6-45fe-4cf1-c920-b885185d2951"
   },
   "outputs": [
    {
     "data": {
      "text/plain": [
       "array([40, 50, 60])"
      ]
     },
     "execution_count": 6,
     "metadata": {},
     "output_type": "execute_result"
    }
   ],
   "source": [
    "A[1, :]  # Vector de segunda fila (como una matriz 1D)"
   ]
  },
  {
   "cell_type": "markdown",
   "metadata": {
    "id": "pfi6WiFhS5wP"
   },
   "source": [
    "De manera similar, el $j^{ésimo}$ vector de columna a veces se indica como $M^j$ o $M_{*,j}$, pero no existe una notación estándar. Usaremos $M_{*,j}$. Por ejemplo, para acceder a $A_{*,3}$ (es decir, el vector de la tercera columna de $A$):"
   ]
  },
  {
   "cell_type": "code",
   "execution_count": 7,
   "metadata": {
    "colab": {
     "base_uri": "https://localhost:8080/"
    },
    "id": "fqIRXpTtS5wP",
    "outputId": "0d421368-6cf5-4e34-87b1-880f58c9a944"
   },
   "outputs": [
    {
     "data": {
      "text/plain": [
       "array([30, 60])"
      ]
     },
     "execution_count": 7,
     "metadata": {},
     "output_type": "execute_result"
    }
   ],
   "source": [
    "A[:, 2]  # 3er vector de columna (como una matriz 1D)"
   ]
  },
  {
   "cell_type": "markdown",
   "metadata": {
    "id": "6mKVI3MsS5wQ"
   },
   "source": [
    "Tenga en cuenta que el resultado es en realidad una matriz NumPy unidimensional: no existe una matriz unidimensional *vertical* u *horizontal*. Si realmente necesita representar un vector de fila como una matriz de una fila (es decir, una matriz 2D NumPy), o un vector de columna como una matriz de una columna, entonces necesita usar un slice en lugar de un índice al acceder a la fila o columna, por ejemplo:"
   ]
  },
  {
   "cell_type": "code",
   "execution_count": 8,
   "metadata": {
    "colab": {
     "base_uri": "https://localhost:8080/"
    },
    "id": "_W3TzC8uS5wQ",
    "outputId": "2979d0d4-aa51-4237-c064-6ac1e2d01640"
   },
   "outputs": [
    {
     "data": {
      "text/plain": [
       "array([[40, 50, 60]])"
      ]
     },
     "execution_count": 8,
     "metadata": {},
     "output_type": "execute_result"
    }
   ],
   "source": [
    "A[1:2, :]  # filas 2 a 3 (excluidas): esto devuelve la fila 2 como una matriz de una fila"
   ]
  },
  {
   "cell_type": "code",
   "execution_count": 9,
   "metadata": {
    "colab": {
     "base_uri": "https://localhost:8080/"
    },
    "id": "laiNoQeTS5wQ",
    "outputId": "6cc0817d-d20b-4968-cb19-063f919a9069"
   },
   "outputs": [
    {
     "data": {
      "text/plain": [
       "array([[30],\n",
       "       [60]])"
      ]
     },
     "execution_count": 9,
     "metadata": {},
     "output_type": "execute_result"
    }
   ],
   "source": [
    "A[:, 2:3]  # columnas 3 a 4 (excluidas): esto devuelve la columna 3 como una matriz de una columna"
   ]
  },
  {
   "cell_type": "markdown",
   "metadata": {
    "id": "Iduki9SvS5wQ"
   },
   "source": [
    "## Matrices cuadradas, triangulares, diagonales e identidad\n",
    "Una **matriz cuadrada** es una matriz que tiene el mismo número de filas y columnas, por ejemplo, una matriz de $3 \\times 3$:\n",
    "\n",
    "\\begin{bmatrix}\n",
    "  4 & 9 & 2 \\\\\n",
    "  3 & 5 & 7 \\\\\n",
    "  8 & 1 & 6\n",
    "\\end{bmatrix}"
   ]
  },
  {
   "cell_type": "markdown",
   "metadata": {
    "id": "Df8i0AzuS5wQ"
   },
   "source": [
    "Una **matriz triangular superior** es un tipo especial de matriz cuadrada donde todos los elementos *debajo* de la diagonal principal (de arriba a la izquierda a abajo a la derecha) son cero, por ejemplo:\n",
    "\n",
    "\\begin{bmatrix}\n",
    "  4 & 9 & 2 \\\\\n",
    "  0 & 5 & 7 \\\\\n",
    "  0 & 0 & 6\n",
    "\\end{bmatrix}"
   ]
  },
  {
   "cell_type": "markdown",
   "metadata": {
    "id": "Yzr_yhi1S5wQ"
   },
   "source": [
    "De manera similar, una **matriz triangular inferior** es una matriz cuadrada donde todos los elementos *encima* de la diagonal principal son cero, por ejemplo:\n",
    "\n",
    "\\begin{bmatrix}\n",
    "  4 & 0 & 0 \\\\\n",
    "  3 & 5 & 0 \\\\\n",
    "  8 & 1 & 6\n",
    "\\end{bmatrix}"
   ]
  },
  {
   "cell_type": "markdown",
   "metadata": {
    "id": "MbhfP5fnS5wQ"
   },
   "source": [
    "Una **matriz triangular** es una que es triangular inferior o triangular superior."
   ]
  },
  {
   "cell_type": "markdown",
   "metadata": {
    "id": "p3lGc-EOS5wQ"
   },
   "source": [
    "Una matriz que es tanto triangular superior como inferior se denomina **matriz diagonal**, por ejemplo:\n",
    "\n",
    "\\begin{bmatrix}\n",
    "  4 & 0 & 0 \\\\\n",
    "  0 & 5 & 0 \\\\\n",
    "  0 & 0 & 6\n",
    "\\end{bmatrix}\n",
    "\n",
    "Puede construir una matriz diagonal usando la función `diag` de NumPy:"
   ]
  },
  {
   "cell_type": "code",
   "execution_count": 10,
   "metadata": {
    "colab": {
     "base_uri": "https://localhost:8080/"
    },
    "id": "6l7CoEG4S5wQ",
    "outputId": "57d0a937-6c37-4656-ba38-e830f0d157ae"
   },
   "outputs": [
    {
     "data": {
      "text/plain": [
       "array([[4, 0, 0],\n",
       "       [0, 5, 0],\n",
       "       [0, 0, 6]])"
      ]
     },
     "execution_count": 10,
     "metadata": {},
     "output_type": "execute_result"
    }
   ],
   "source": [
    "np.diag([4, 5, 6])"
   ]
  },
  {
   "cell_type": "markdown",
   "metadata": {
    "id": "04h6IAq_S5wR"
   },
   "source": [
    "Si pasa una matriz a la función `diag`, felizmente extraerá los valores diagonales:"
   ]
  },
  {
   "cell_type": "code",
   "execution_count": 11,
   "metadata": {
    "colab": {
     "base_uri": "https://localhost:8080/"
    },
    "id": "vkTiPHX3S5wR",
    "outputId": "60999193-2577-4a5e-95ca-7edb4d32cf14"
   },
   "outputs": [
    {
     "data": {
      "text/plain": [
       "array([1, 5, 9])"
      ]
     },
     "execution_count": 11,
     "metadata": {},
     "output_type": "execute_result"
    }
   ],
   "source": [
    "D = np.array([\n",
    "        [1, 2, 3],\n",
    "        [4, 5, 6],\n",
    "        [7, 8, 9],\n",
    "    ])\n",
    "np.diag(D)"
   ]
  },
  {
   "cell_type": "markdown",
   "metadata": {
    "id": "H26MV9zoS5wR"
   },
   "source": [
    "Finalmente, la **matriz identidad** de tamaño $n$, indicada como $I_n$, es una matriz diagonal de tamaño $n \\times n$ con $1$ en la diagonal principal, por ejemplo $I_3$:\n",
    "\n",
    "\\begin{bmatrix}\n",
    "  1 & 0 & 0 \\\\\n",
    "  0 & 1 & 0 \\\\\n",
    "  0 & 0 & 1\n",
    "\\end{bmatrix}\n",
    "\n",
    "La función `eye` de Numpy devuelve la matriz de identidad del tamaño deseado:"
   ]
  },
  {
   "cell_type": "code",
   "execution_count": 12,
   "metadata": {
    "colab": {
     "base_uri": "https://localhost:8080/"
    },
    "id": "oGBx1uddS5wR",
    "outputId": "3853dfed-e9f2-4de4-d4c9-81e00123aefa"
   },
   "outputs": [
    {
     "data": {
      "text/plain": [
       "array([[1., 0., 0.],\n",
       "       [0., 1., 0.],\n",
       "       [0., 0., 1.]])"
      ]
     },
     "execution_count": 12,
     "metadata": {},
     "output_type": "execute_result"
    }
   ],
   "source": [
    "np.eye(3)"
   ]
  },
  {
   "cell_type": "markdown",
   "metadata": {
    "id": "aY6zrsPVS5wR"
   },
   "source": [
    "La matriz de identidad a menudo se indica simplemente como $I$ (en lugar de $I_n$) cuando su tamaño es claro dado el contexto. Se llama la matriz *identidad* porque al multiplicar una matriz con ella, la matriz permanece sin cambios, como veremos a continuación."
   ]
  },
  {
   "cell_type": "markdown",
   "metadata": {
    "id": "nGZbwkcJS5wR"
   },
   "source": [
    "## Sumando matrices\n",
    "Si dos matrices $Q$ y $R$ tienen el mismo tamaño $m \\times n$, se pueden sumar. La suma se realiza *elemento a elemento*: el resultado también es una matriz $m \\times n$ $S$ donde cada elemento es la suma de los elementos en la posición correspondiente: $S_{i,j} = Q_{i,j} + R_{i,j}$\n",
    "\n",
    "$$S =\n",
    "\\begin{bmatrix}\n",
    "  Q_{11} + R_{11} & Q_{12} + R_{12} & Q_{13} + R_{13} & \\cdots & Q_{1n} + R_{1n} \\\\\n",
    "  Q_{21} + R_{21} & Q_{22} + R_{22} & Q_{23} + R_{23} & \\cdots & Q_{2n} + R_{2n}  \\\\\n",
    "  Q_{31} + R_{31} & Q_{32} + R_{32} & Q_{33} + R_{33} & \\cdots & Q_{3n} + R_{3n}  \\\\\n",
    "  \\vdots & \\vdots & \\vdots & \\ddots & \\vdots \\\\\n",
    "  Q_{m1} + R_{m1} & Q_{m2} + R_{m2} & Q_{m3} + R_{m3} & \\cdots & Q_{mn} + R_{mn}  \\\\\n",
    "\\end{bmatrix}$$\n",
    "\n",
    "Por ejemplo, creemos una matriz de $2 \\times 3$ $B$ y calculemos $A + B$:"
   ]
  },
  {
   "cell_type": "code",
   "execution_count": 13,
   "metadata": {
    "colab": {
     "base_uri": "https://localhost:8080/"
    },
    "id": "AWcbZbOCS5wR",
    "outputId": "ee340a27-af13-44ae-c8d0-046829b523a7"
   },
   "outputs": [
    {
     "data": {
      "text/plain": [
       "array([[1, 2, 3],\n",
       "       [4, 5, 6]])"
      ]
     },
     "execution_count": 13,
     "metadata": {},
     "output_type": "execute_result"
    }
   ],
   "source": [
    "B = np.array([[1,2,3], [4, 5, 6]])\n",
    "B"
   ]
  },
  {
   "cell_type": "code",
   "execution_count": 14,
   "metadata": {
    "colab": {
     "base_uri": "https://localhost:8080/"
    },
    "id": "f0mdeghfS5wS",
    "outputId": "72a2b3b3-a56b-450c-9f2e-97cdabb4d54d"
   },
   "outputs": [
    {
     "data": {
      "text/plain": [
       "array([[10, 20, 30],\n",
       "       [40, 50, 60]])"
      ]
     },
     "execution_count": 14,
     "metadata": {},
     "output_type": "execute_result"
    }
   ],
   "source": [
    "A"
   ]
  },
  {
   "cell_type": "code",
   "execution_count": 15,
   "metadata": {
    "colab": {
     "base_uri": "https://localhost:8080/"
    },
    "id": "kTLl8h0fS5wS",
    "outputId": "b21aa86a-88d1-404a-f50a-deb073a522bb"
   },
   "outputs": [
    {
     "data": {
      "text/plain": [
       "array([[11, 22, 33],\n",
       "       [44, 55, 66]])"
      ]
     },
     "execution_count": 15,
     "metadata": {},
     "output_type": "execute_result"
    }
   ],
   "source": [
    "A + B"
   ]
  },
  {
   "cell_type": "markdown",
   "metadata": {
    "id": "1-oY600WS5wS"
   },
   "source": [
    "**La suma es *conmutativa***, lo que significa que $A + B = B + A$:"
   ]
  },
  {
   "cell_type": "code",
   "execution_count": 17,
   "metadata": {
    "colab": {
     "base_uri": "https://localhost:8080/"
    },
    "id": "olK9MZg2S5wS",
    "outputId": "c005f145-02c0-4767-d295-9e409aaf06c5"
   },
   "outputs": [
    {
     "data": {
      "text/plain": [
       "array([[11, 22, 33],\n",
       "       [44, 55, 66]])"
      ]
     },
     "execution_count": 17,
     "metadata": {},
     "output_type": "execute_result"
    }
   ],
   "source": [
    "B + A"
   ]
  },
  {
   "cell_type": "markdown",
   "metadata": {
    "id": "MsLuhvbsS5wS"
   },
   "source": [
    "**También es *asociativo***, lo que significa que $A + (B + C) = (A + B) + C$:"
   ]
  },
  {
   "cell_type": "code",
   "execution_count": 18,
   "metadata": {
    "colab": {
     "base_uri": "https://localhost:8080/"
    },
    "id": "wuu9oHgnS5wS",
    "outputId": "a6b11ce7-1e26-43fd-b602-08cc2f3ad1ec"
   },
   "outputs": [
    {
     "data": {
      "text/plain": [
       "array([[111, 222, 333],\n",
       "       [444, 555, 666]])"
      ]
     },
     "execution_count": 18,
     "metadata": {},
     "output_type": "execute_result"
    }
   ],
   "source": [
    "C = np.array([[100,200,300], [400, 500, 600]])\n",
    "\n",
    "A + (B + C)"
   ]
  },
  {
   "cell_type": "code",
   "execution_count": 19,
   "metadata": {
    "colab": {
     "base_uri": "https://localhost:8080/"
    },
    "id": "hoOu5--bS5wS",
    "outputId": "d88be44f-6cbf-49a2-ee14-537a5ee3167a"
   },
   "outputs": [
    {
     "data": {
      "text/plain": [
       "array([[111, 222, 333],\n",
       "       [444, 555, 666]])"
      ]
     },
     "execution_count": 19,
     "metadata": {},
     "output_type": "execute_result"
    }
   ],
   "source": [
    "(A + B) + C"
   ]
  },
  {
   "cell_type": "markdown",
   "metadata": {
    "id": "ioVRizawS5wS"
   },
   "source": [
    "## Multiplicación por un escalar\n",
    "Una matriz $M$ se puede multiplicar por un escalar $\\lambda$. El resultado se anota $\\lambda M$, y es una matriz del mismo tamaño que $M$ con todos los elementos multiplicados por $\\lambda$:\n",
    "\n",
    "$$\\lambda M =\n",
    "\\begin{bmatrix}\n",
    "  \\lambda \\times M_{11} & \\lambda \\times M_{12} & \\lambda \\times M_{13} & \\cdots & \\lambda \\times M_{1n} \\\\\n",
    "  \\lambda \\times M_{21} & \\lambda \\times M_{22} & \\lambda \\times M_{23} & \\cdots & \\lambda \\times M_{2n} \\\\\n",
    "  \\lambda \\times M_{31} & \\lambda \\times M_{32} & \\lambda \\times M_{33} & \\cdots & \\lambda \\times M_{3n} \\\\\n",
    "  \\vdots & \\vdots & \\vdots & \\ddots & \\vdots \\\\\n",
    "  \\lambda \\times M_{m1} & \\lambda \\times M_{m2} & \\lambda \\times M_{m3} & \\cdots & \\lambda \\times M_{mn} \\\\\n",
    "\\end{bmatrix}$$\n",
    "\n",
    "Una forma más concisa de escribir esto es:\n",
    "\n",
    "$(\\lambda M)_{i,j} = \\lambda (M)_{i,j}$\n",
    "\n",
    "En NumPy, simplemente use el operador `*` para multiplicar una matriz por un escalar. Por ejemplo:"
   ]
  },
  {
   "cell_type": "code",
   "execution_count": 20,
   "metadata": {
    "colab": {
     "base_uri": "https://localhost:8080/"
    },
    "id": "j59e1YDzS5wT",
    "outputId": "df22f39d-6ba9-484e-f0b4-0a435f2e468f"
   },
   "outputs": [
    {
     "data": {
      "text/plain": [
       "array([[ 20,  40,  60],\n",
       "       [ 80, 100, 120]])"
      ]
     },
     "execution_count": 20,
     "metadata": {},
     "output_type": "execute_result"
    }
   ],
   "source": [
    "2 * A"
   ]
  },
  {
   "cell_type": "markdown",
   "metadata": {
    "id": "ZMTz8JEyS5wT"
   },
   "source": [
    "La multiplicación escalar también se define en el lado derecho y da el mismo resultado: $M \\lambda = \\lambda M$. Por ejemplo:"
   ]
  },
  {
   "cell_type": "code",
   "execution_count": 21,
   "metadata": {
    "colab": {
     "base_uri": "https://localhost:8080/"
    },
    "id": "xXELR1NUS5wT",
    "outputId": "6bc49c67-8830-4b95-c027-f3f26ef45b59"
   },
   "outputs": [
    {
     "data": {
      "text/plain": [
       "array([[ 20,  40,  60],\n",
       "       [ 80, 100, 120]])"
      ]
     },
     "execution_count": 21,
     "metadata": {},
     "output_type": "execute_result"
    }
   ],
   "source": [
    "A * 2"
   ]
  },
  {
   "cell_type": "markdown",
   "metadata": {
    "id": "Ab_3huF2S5wT"
   },
   "source": [
    "Esto hace que la multiplicación escalar sea **conmutativa**.\n",
    "\n",
    "También es **asociativa**, lo que significa que $\\alpha (\\beta M) = (\\alpha \\times \\beta) M$, donde $\\alpha$ y $\\beta$ son escalares. Por ejemplo:"
   ]
  },
  {
   "cell_type": "code",
   "execution_count": 22,
   "metadata": {
    "colab": {
     "base_uri": "https://localhost:8080/"
    },
    "id": "txgs2XpoS5wT",
    "outputId": "6efe1dbc-faf6-4758-b5e8-379f2f502d60"
   },
   "outputs": [
    {
     "data": {
      "text/plain": [
       "array([[ 60, 120, 180],\n",
       "       [240, 300, 360]])"
      ]
     },
     "execution_count": 22,
     "metadata": {},
     "output_type": "execute_result"
    }
   ],
   "source": [
    "2 * (3 * A)"
   ]
  },
  {
   "cell_type": "code",
   "execution_count": 23,
   "metadata": {
    "colab": {
     "base_uri": "https://localhost:8080/"
    },
    "id": "viN9WWasS5wT",
    "outputId": "a8b22532-9319-4336-fc53-28250f662605"
   },
   "outputs": [
    {
     "data": {
      "text/plain": [
       "array([[ 60, 120, 180],\n",
       "       [240, 300, 360]])"
      ]
     },
     "execution_count": 23,
     "metadata": {},
     "output_type": "execute_result"
    }
   ],
   "source": [
    "(2 * 3) * A"
   ]
  },
  {
   "cell_type": "markdown",
   "metadata": {
    "id": "YyEAEeVQS5wT"
   },
   "source": [
    "Finalmente, es **distributiva sobre la suma** de matrices, lo que significa que $\\lambda (Q + R) = \\lambda Q + \\lambda R$:"
   ]
  },
  {
   "cell_type": "code",
   "execution_count": 24,
   "metadata": {
    "colab": {
     "base_uri": "https://localhost:8080/"
    },
    "id": "t1UvXKH2S5wT",
    "outputId": "a56c609b-44fd-4102-a9b0-4fc214d5b4c4"
   },
   "outputs": [
    {
     "data": {
      "text/plain": [
       "array([[ 22,  44,  66],\n",
       "       [ 88, 110, 132]])"
      ]
     },
     "execution_count": 24,
     "metadata": {},
     "output_type": "execute_result"
    }
   ],
   "source": [
    "2 * (A + B)"
   ]
  },
  {
   "cell_type": "code",
   "execution_count": 25,
   "metadata": {
    "colab": {
     "base_uri": "https://localhost:8080/"
    },
    "id": "2HVd6Jx_S5wT",
    "outputId": "3a39e275-f475-4689-b688-87a2aa5be2c2"
   },
   "outputs": [
    {
     "data": {
      "text/plain": [
       "array([[ 22,  44,  66],\n",
       "       [ 88, 110, 132]])"
      ]
     },
     "execution_count": 25,
     "metadata": {},
     "output_type": "execute_result"
    }
   ],
   "source": [
    "2 * A + 2 * B"
   ]
  },
  {
   "cell_type": "markdown",
   "metadata": {
    "id": "oOc6CwjES5wU"
   },
   "source": [
    "## Multiplicación de matrices\n",
    "Hasta ahora, las operaciones matriciales han sido bastante intuitivas. Pero multiplicar matrices es un poco más complicado.\n",
    "\n",
    "Una matriz $Q$ de tamaño $m \\times n$ se puede multiplicar por una matriz $R$ de tamaño $n \\times q$. Se anota simplemente $QR$ sin signo de multiplicación ni punto. El resultado $P$ es una matriz $m \\times q$ donde cada elemento se calcula como una suma de productos:\n",
    "\n",
    "$$P_{i,j} = \\sum_{k=1}^n{Q_{i,k} \\times R_{k,j}}$$\n",
    "\n",
    "El elemento en la posición $i,j$ en la matriz resultante es la suma de los productos de los elementos en la fila $i$ de la matriz $Q$ por los elementos en la columna $j$ de la matriz $R$.\n",
    "\n",
    "![Alt Text](https://numbas.mathcentre.ac.uk/media/question-resources/Matrix_Multiplication_02.gif)\n",
    "\n",
    "\n",
    "Puedes notar que cada elemento $P_{i,j}$ es el producto escalar del vector fila $Q_{i,*}$ y el vector columna $R_{*,j}$:\n",
    "\n",
    "$$P_{i,j} = Q_{i,*} \\cdot R_{*,j}$$\n",
    "\n",
    "Entonces podemos reescribir $P$ de manera más concisa como:\n",
    "\n",
    "$$P =\n",
    "\\begin{bmatrix}\n",
    "Q_{1,*} \\cdot R_{*,1} & Q_{1,*} \\cdot R_{*,2} & \\cdots & Q_{1,*} \\cdot R_{*,q} \\\\\n",
    "Q_{2,*} \\cdot R_{*,1} & Q_{2,*} \\cdot R_{*,2} & \\cdots & Q_{2,*} \\cdot R_{*,q} \\\\\n",
    "\\vdots & \\vdots & \\ddots & \\vdots \\\\\n",
    "Q_{m,*} \\cdot R_{*,1} & Q_{m,*} \\cdot R_{*,2} & \\cdots & Q_{m,*} \\cdot R_{*,q}\n",
    "\\end{bmatrix}$$\n"
   ]
  },
  {
   "cell_type": "markdown",
   "metadata": {
    "id": "yqMozlN5S5wU"
   },
   "source": [
    "Multipliquemos dos matrices en NumPy, usando el método `dot` de `ndarray`:\n",
    "$$E = AD = \\begin{bmatrix}\n",
    "  10 & 20 & 30 \\\\\n",
    "  40 & 50 & 60\n",
    "\\end{bmatrix} \n",
    "\\begin{bmatrix}\n",
    "  2 & 3 & 5 & 7 \\\\\n",
    "  11 & 13 & 17 & 19 \\\\\n",
    "  23 & 29 & 31 & 37\n",
    "\\end{bmatrix} = \n",
    "\\begin{bmatrix}\n",
    "  930 & 1160 & 1320 & 1560 \\\\\n",
    "  2010 & 2510 & 2910 & 3450\n",
    "\\end{bmatrix}$$"
   ]
  },
  {
   "cell_type": "code",
   "execution_count": 26,
   "metadata": {
    "colab": {
     "base_uri": "https://localhost:8080/"
    },
    "id": "oJiZ8XT9S5wU",
    "outputId": "ee18675a-233f-4c0c-c5db-c0963a374b65"
   },
   "outputs": [
    {
     "data": {
      "text/plain": [
       "array([[ 930, 1160, 1320, 1560],\n",
       "       [2010, 2510, 2910, 3450]])"
      ]
     },
     "execution_count": 26,
     "metadata": {},
     "output_type": "execute_result"
    }
   ],
   "source": [
    "D = np.array([\n",
    "        [ 2,  3,  5,  7],\n",
    "        [11, 13, 17, 19],\n",
    "        [23, 29, 31, 37]\n",
    "    ])\n",
    "E = A.dot(D)\n",
    "E"
   ]
  },
  {
   "cell_type": "markdown",
   "metadata": {
    "id": "2dXHtKIvS5wU"
   },
   "source": [
    "Verifiquemos este resultado mirando un elemento, solo para estar seguros: mirando $E_{2,3}$ por ejemplo, necesitamos multiplicar los elementos en la $2^{da}$ fila de $A$ por los elementos en la $3^{ra}$ columna de D y suma estos productos:"
   ]
  },
  {
   "cell_type": "code",
   "execution_count": 27,
   "metadata": {
    "colab": {
     "base_uri": "https://localhost:8080/"
    },
    "id": "EIUPdwB5S5wU",
    "outputId": "be1a8300-3bf3-4bf9-b624-0cad7d4a01ae"
   },
   "outputs": [
    {
     "data": {
      "text/plain": [
       "2910"
      ]
     },
     "execution_count": 27,
     "metadata": {},
     "output_type": "execute_result"
    }
   ],
   "source": [
    "40*5 + 50*17 + 60*31"
   ]
  },
  {
   "cell_type": "code",
   "execution_count": 28,
   "metadata": {
    "colab": {
     "base_uri": "https://localhost:8080/"
    },
    "id": "oNn-UOKMS5wU",
    "outputId": "0c37592d-4e8f-4fca-9227-fa742ffa1c5d"
   },
   "outputs": [
    {
     "data": {
      "text/plain": [
       "2910"
      ]
     },
     "execution_count": 28,
     "metadata": {},
     "output_type": "execute_result"
    }
   ],
   "source": [
    "E[1,2]  # fila 2, columna 3"
   ]
  },
  {
   "cell_type": "markdown",
   "metadata": {
    "id": "cHnmDOhSS5wU"
   },
   "source": [
    "¡Se ve bien! Puedes comprobar los otros elementos hasta que te acostumbres al algoritmo.\n",
    "\n",
    "Multiplicamos una matriz de $2 \\times 3$ por una matriz de $3 \\times 4$, por lo que el resultado es una matriz de $2 \\times 4$. El número de columnas de la primera matriz tiene que ser igual al número de filas de la segunda matriz. Si intentamos multiplicar $D$ por $A$, obtenemos un error porque D tiene 4 columnas mientras que A tiene 2 filas:"
   ]
  },
  {
   "cell_type": "code",
   "execution_count": 29,
   "metadata": {
    "colab": {
     "base_uri": "https://localhost:8080/"
    },
    "id": "qQlTZPJDS5wU",
    "outputId": "f95565ca-ee44-4ef7-ffce-4faabb1144e6"
   },
   "outputs": [
    {
     "name": "stdout",
     "output_type": "stream",
     "text": [
      "ValueError: shapes (3,4) and (2,3) not aligned: 4 (dim 1) != 2 (dim 0)\n"
     ]
    }
   ],
   "source": [
    "try:\n",
    "    D.dot(A)\n",
    "except ValueError as e:\n",
    "    print(\"ValueError:\", e)"
   ]
  },
  {
   "cell_type": "markdown",
   "metadata": {
    "id": "AjS_U69sS5wV"
   },
   "source": [
    "Esto ilustra el hecho de que **la multiplicación de matrices *NO* es conmutativa**: en general $QR ≠ RQ$\n",
    "\n",
    "De hecho, $QR$ y $RQ$ solo están *ambos* definidos si $Q$ tiene el tamaño $m \\times n$ y $R$ tiene el tamaño $n \\times m$. Veamos un ejemplo en el que ambos *están* definidos y mostramos que (en general) *NO* son iguales:"
   ]
  },
  {
   "cell_type": "code",
   "execution_count": 30,
   "metadata": {
    "colab": {
     "base_uri": "https://localhost:8080/"
    },
    "id": "c_RjZGdDS5wV",
    "outputId": "3d742ce3-b773-44d0-813a-b2ec4241a51a"
   },
   "outputs": [
    {
     "data": {
      "text/plain": [
       "array([[400, 130],\n",
       "       [940, 310]])"
      ]
     },
     "execution_count": 30,
     "metadata": {},
     "output_type": "execute_result"
    }
   ],
   "source": [
    "F = np.array([\n",
    "        [5,2],\n",
    "        [4,1],\n",
    "        [9,3]\n",
    "    ])\n",
    "A.dot(F)"
   ]
  },
  {
   "cell_type": "code",
   "execution_count": 31,
   "metadata": {
    "colab": {
     "base_uri": "https://localhost:8080/"
    },
    "id": "PqkNpgWkS5wV",
    "outputId": "4d8b45d8-b7fe-402f-f9e1-daeabd1c619f"
   },
   "outputs": [
    {
     "data": {
      "text/plain": [
       "array([[130, 200, 270],\n",
       "       [ 80, 130, 180],\n",
       "       [210, 330, 450]])"
      ]
     },
     "execution_count": 31,
     "metadata": {},
     "output_type": "execute_result"
    }
   ],
   "source": [
    "F.dot(A)"
   ]
  },
  {
   "cell_type": "markdown",
   "metadata": {
    "id": "OBaD119iS5wV"
   },
   "source": [
    "Por otro lado, **la multiplicación de matrices *es* asociativa**, lo que significa que $Q(RS) = (QR)S$. Vamos a crear una matriz de $4 \\times 5$ $G$ para ilustrar esto:"
   ]
  },
  {
   "cell_type": "code",
   "execution_count": 32,
   "metadata": {
    "colab": {
     "base_uri": "https://localhost:8080/"
    },
    "id": "wWAghSoNS5wV",
    "outputId": "204fad14-dc16-466b-a93a-9a001a2c11bc"
   },
   "outputs": [
    {
     "data": {
      "text/plain": [
       "array([[21640, 28390, 27320, 31140, 13570],\n",
       "       [47290, 62080, 60020, 68580, 29500]])"
      ]
     },
     "execution_count": 32,
     "metadata": {},
     "output_type": "execute_result"
    }
   ],
   "source": [
    "G = np.array([\n",
    "        [8,  7,  4,  2,  5],\n",
    "        [2,  5,  1,  0,  5],\n",
    "        [9, 11, 17, 21,  0],\n",
    "        [0,  1,  0,  1,  2]])\n",
    "A.dot(D).dot(G)     # (AB)G"
   ]
  },
  {
   "cell_type": "code",
   "execution_count": 33,
   "metadata": {
    "colab": {
     "base_uri": "https://localhost:8080/"
    },
    "id": "9_gYtRCdS5wV",
    "outputId": "25a7939c-2e34-4b7f-c10a-481c8d8e3328"
   },
   "outputs": [
    {
     "data": {
      "text/plain": [
       "array([[21640, 28390, 27320, 31140, 13570],\n",
       "       [47290, 62080, 60020, 68580, 29500]])"
      ]
     },
     "execution_count": 33,
     "metadata": {},
     "output_type": "execute_result"
    }
   ],
   "source": [
    "A.dot(D.dot(G))     # A(BG)"
   ]
  },
  {
   "cell_type": "markdown",
   "metadata": {
    "id": "0-UEr5PPS5wV"
   },
   "source": [
    "También es ***distributivo* sobre la suma** de matrices, lo que significa que $(Q + R)S = QS + RS$. Por ejemplo:"
   ]
  },
  {
   "cell_type": "code",
   "execution_count": 34,
   "metadata": {
    "colab": {
     "base_uri": "https://localhost:8080/"
    },
    "id": "wfmVYPK_S5wW",
    "outputId": "2403975c-09a1-444c-9336-de56bead5437"
   },
   "outputs": [
    {
     "data": {
      "text/plain": [
       "array([[1023, 1276, 1452, 1716],\n",
       "       [2211, 2761, 3201, 3795]])"
      ]
     },
     "execution_count": 34,
     "metadata": {},
     "output_type": "execute_result"
    }
   ],
   "source": [
    "(A + B).dot(D)"
   ]
  },
  {
   "cell_type": "code",
   "execution_count": 35,
   "metadata": {
    "colab": {
     "base_uri": "https://localhost:8080/"
    },
    "id": "Q2Cf6_I9S5wW",
    "outputId": "d9f39071-dca9-4901-8668-ab06fefb8944"
   },
   "outputs": [
    {
     "data": {
      "text/plain": [
       "array([[1023, 1276, 1452, 1716],\n",
       "       [2211, 2761, 3201, 3795]])"
      ]
     },
     "execution_count": 35,
     "metadata": {},
     "output_type": "execute_result"
    }
   ],
   "source": [
    "A.dot(D) + B.dot(D)"
   ]
  },
  {
   "cell_type": "markdown",
   "metadata": {
    "id": "9f8gtQT9S5wW"
   },
   "source": [
    "El producto de una matriz $M$ por la matriz identidad (de igual tamaño) da como resultado la misma matriz $M$. Más formalmente, si $M$ es una matriz $m \\times n$, entonces:\n",
    "\n",
    "$M I_n = I_m M = M$\n",
    "\n",
    "Esto generalmente se escribe de manera más concisa (ya que el tamaño de las matrices de identidad no es ambiguo dado el contexto):\n",
    "\n",
    "$MI = IM = M$\n",
    "\n",
    "Por ejemplo:"
   ]
  },
  {
   "cell_type": "code",
   "execution_count": 36,
   "metadata": {
    "colab": {
     "base_uri": "https://localhost:8080/"
    },
    "id": "zNgoNm_HS5wW",
    "outputId": "f023418d-5a44-4143-c2bd-3c0809700828"
   },
   "outputs": [
    {
     "data": {
      "text/plain": [
       "array([[10., 20., 30.],\n",
       "       [40., 50., 60.]])"
      ]
     },
     "execution_count": 36,
     "metadata": {},
     "output_type": "execute_result"
    }
   ],
   "source": [
    "A.dot(np.eye(3))"
   ]
  },
  {
   "cell_type": "code",
   "execution_count": 37,
   "metadata": {
    "colab": {
     "base_uri": "https://localhost:8080/"
    },
    "id": "DZLitj2XS5wW",
    "outputId": "c82cb44e-b942-4f49-b164-1da82991ac54"
   },
   "outputs": [
    {
     "data": {
      "text/plain": [
       "array([[10., 20., 30.],\n",
       "       [40., 50., 60.]])"
      ]
     },
     "execution_count": 37,
     "metadata": {},
     "output_type": "execute_result"
    }
   ],
   "source": [
    "np.eye(2).dot(A)"
   ]
  },
  {
   "cell_type": "markdown",
   "metadata": {
    "id": "Nis4ebQyS5wW"
   },
   "source": [
    "**Precaución**: el operador `*` de NumPy realiza multiplicaciones por elementos, *NO* una multiplicación de matrices:"
   ]
  },
  {
   "cell_type": "code",
   "execution_count": 38,
   "metadata": {
    "colab": {
     "base_uri": "https://localhost:8080/"
    },
    "id": "oV67DlkaS5wW",
    "outputId": "acf9c011-cb1a-4270-aa4b-451687b5bb0f",
    "scrolled": true
   },
   "outputs": [
    {
     "data": {
      "text/plain": [
       "array([[ 10,  40,  90],\n",
       "       [160, 250, 360]])"
      ]
     },
     "execution_count": 38,
     "metadata": {},
     "output_type": "execute_result"
    }
   ],
   "source": [
    "A * B   # NO es una multiplicación de matrices"
   ]
  },
  {
   "cell_type": "markdown",
   "metadata": {
    "id": "Y3ut2z10S5wW"
   },
   "source": [
    "**El operador infijo @**\n",
    "\n",
    "Python 3.5 [introdujo](https://docs.python.org/3/whatsnew/3.5.html#pep-465-a-dedicated-infix-operator-for-matrix-multiplication) el operador infijo `@` para la multiplicación de matrices, y NumPy 1.10 agregó soporte para ello. Si está utilizando Python 3.5+ y NumPy 1.10+, simplemente puede escribir `A @ D` en lugar de `A.dot(D)`, lo que hace que su código sea mucho más legible (pero menos portátil). Este operador también funciona para productos de puntos vectoriales."
   ]
  },
  {
   "cell_type": "code",
   "execution_count": 102,
   "metadata": {
    "colab": {
     "base_uri": "https://localhost:8080/"
    },
    "id": "IfW09yf5S5wX",
    "outputId": "64a8be97-2c35-41e0-e845-fe0f96bc52af"
   },
   "outputs": [
    {
     "name": "stdout",
     "output_type": "stream",
     "text": [
      "Python version: 3.7.13\n",
      "Numpy version: 1.21.6\n"
     ]
    },
    {
     "data": {
      "text/plain": [
       "array([[ 930, 1160, 1320, 1560],\n",
       "       [2010, 2510, 2910, 3450]])"
      ]
     },
     "execution_count": 102,
     "metadata": {},
     "output_type": "execute_result"
    }
   ],
   "source": [
    "import sys\n",
    "print(\"Python version: {}.{}.{}\".format(*sys.version_info))\n",
    "print(\"Numpy version:\", np.version.version)\n",
    "\n",
    "# Descomente la siguiente línea si su versión de Python es ≥3.5\n",
    "# y su versión de NumPy es ≥1.10:\n",
    "\n",
    "A @ D"
   ]
  },
  {
   "cell_type": "markdown",
   "metadata": {
    "id": "ZICoRZdWS5wX"
   },
   "source": [
    "Nota: `Q @ R` es en realidad equivalente a `Q.__matmul__(R)`, que NumPy implementa como `np.matmul(Q, R)`, no como `Q.dot(R)`. La principal diferencia es que `matmul` no soporta la multiplicación escalar, mientras que `dot` sí, así que puedes escribir `Q.dot(3)`, que es equivalente a `Q * 3`, pero no puedes escribir `Q @ 3` ([más detalles](http://stackoverflow.com/a/34142617/38626))."
   ]
  },
  {
   "cell_type": "markdown",
   "metadata": {
    "id": "S0Xgzfl4S5wX"
   },
   "source": [
    "## Matriz transpuesta\n",
    "La transpuesta de una matriz $M$ es una matriz denominada $M^T$ tal que la fila $i^{th}$ en $M^T$ es igual a la columna $i^{th}$ en $M$ :\n",
    "\n",
    "$$ A^T =\n",
    "\\begin{bmatrix}\n",
    "  10 & 20 & 30 \\\\\n",
    "  40 & 50 & 60\n",
    "\\end{bmatrix}^T =\n",
    "\\begin{bmatrix}\n",
    "  10 & 40 \\\\\n",
    "  20 & 50 \\\\\n",
    "  30 & 60\n",
    "\\end{bmatrix}$$\n",
    "\n",
    "En otras palabras, ($A^T)_{i,j}$ = $A_{j,i}$\n",
    "\n",
    "Obviamente, si $M$ es una matriz $m \\times n$, entonces $M^T$ es una matriz $n \\times m$.\n",
    "\n",
    "Nota: hay algunas otras notaciones, como $M^t$, $M′$ o ${^t}M$.\n",
    "\n",
    "En NumPy, la transposición de una matriz se puede obtener simplemente usando el atributo `T`:"
   ]
  },
  {
   "cell_type": "code",
   "execution_count": 40,
   "metadata": {
    "colab": {
     "base_uri": "https://localhost:8080/"
    },
    "id": "wFwP-87_S5wX",
    "outputId": "c0c86c01-14c0-4b4f-8091-1a1e7e8c47d2"
   },
   "outputs": [
    {
     "data": {
      "text/plain": [
       "array([[10, 20, 30],\n",
       "       [40, 50, 60]])"
      ]
     },
     "execution_count": 40,
     "metadata": {},
     "output_type": "execute_result"
    }
   ],
   "source": [
    "A"
   ]
  },
  {
   "cell_type": "code",
   "execution_count": 41,
   "metadata": {
    "colab": {
     "base_uri": "https://localhost:8080/"
    },
    "id": "GWqBlv4aS5wX",
    "outputId": "f942f835-50b0-4cd8-c76d-cb19f8628497"
   },
   "outputs": [
    {
     "data": {
      "text/plain": [
       "array([[10, 40],\n",
       "       [20, 50],\n",
       "       [30, 60]])"
      ]
     },
     "execution_count": 41,
     "metadata": {},
     "output_type": "execute_result"
    }
   ],
   "source": [
    "A.T"
   ]
  },
  {
   "cell_type": "markdown",
   "metadata": {
    "id": "_aPIINhyS5wX"
   },
   "source": [
    "Como era de esperar, transponer una matriz dos veces devuelve la matriz original:"
   ]
  },
  {
   "cell_type": "code",
   "execution_count": 42,
   "metadata": {
    "colab": {
     "base_uri": "https://localhost:8080/"
    },
    "id": "G8UiwG_wS5wX",
    "outputId": "749c2d55-c6fb-41d0-a15f-46fff2ffd6d9"
   },
   "outputs": [
    {
     "data": {
      "text/plain": [
       "array([[10, 20, 30],\n",
       "       [40, 50, 60]])"
      ]
     },
     "execution_count": 42,
     "metadata": {},
     "output_type": "execute_result"
    }
   ],
   "source": [
    "A.T.T"
   ]
  },
  {
   "cell_type": "markdown",
   "metadata": {
    "id": "Xe7EFjl3S5wX"
   },
   "source": [
    "La transposición es distributiva sobre la suma de matrices, lo que significa que $(Q + R)^T = Q^T + R^T$. Por ejemplo:"
   ]
  },
  {
   "cell_type": "code",
   "execution_count": 43,
   "metadata": {
    "colab": {
     "base_uri": "https://localhost:8080/"
    },
    "id": "jFi7qgVJS5wY",
    "outputId": "3ef9408a-8a21-4e60-ecb8-d1d8c4305312"
   },
   "outputs": [
    {
     "data": {
      "text/plain": [
       "array([[11, 44],\n",
       "       [22, 55],\n",
       "       [33, 66]])"
      ]
     },
     "execution_count": 43,
     "metadata": {},
     "output_type": "execute_result"
    }
   ],
   "source": [
    "(A + B).T"
   ]
  },
  {
   "cell_type": "code",
   "execution_count": 44,
   "metadata": {
    "colab": {
     "base_uri": "https://localhost:8080/"
    },
    "id": "FepV1rnVS5wY",
    "outputId": "0abb98b0-32e0-45df-cd6d-d096a6919ddf"
   },
   "outputs": [
    {
     "data": {
      "text/plain": [
       "array([[11, 44],\n",
       "       [22, 55],\n",
       "       [33, 66]])"
      ]
     },
     "execution_count": 44,
     "metadata": {},
     "output_type": "execute_result"
    }
   ],
   "source": [
    "A.T + B.T"
   ]
  },
  {
   "cell_type": "markdown",
   "metadata": {
    "id": "rzz8rEchS5wY"
   },
   "source": [
    "Además, $(Q \\cdot R)^T = R^T \\cdot Q^T$. Tenga en cuenta que el orden es inverso. Por ejemplo:"
   ]
  },
  {
   "cell_type": "code",
   "execution_count": 45,
   "metadata": {
    "colab": {
     "base_uri": "https://localhost:8080/"
    },
    "id": "ICEV5wpRS5wY",
    "outputId": "eedbf4ea-12b2-4107-913e-580dda18c760"
   },
   "outputs": [
    {
     "data": {
      "text/plain": [
       "array([[ 930, 2010],\n",
       "       [1160, 2510],\n",
       "       [1320, 2910],\n",
       "       [1560, 3450]])"
      ]
     },
     "execution_count": 45,
     "metadata": {},
     "output_type": "execute_result"
    }
   ],
   "source": [
    "(A.dot(D)).T"
   ]
  },
  {
   "cell_type": "code",
   "execution_count": 46,
   "metadata": {
    "colab": {
     "base_uri": "https://localhost:8080/"
    },
    "id": "GoUzCPZzS5wY",
    "outputId": "cd321c5a-9640-4e12-fdfe-34a8bfaa4ab6"
   },
   "outputs": [
    {
     "data": {
      "text/plain": [
       "array([[ 930, 2010],\n",
       "       [1160, 2510],\n",
       "       [1320, 2910],\n",
       "       [1560, 3450]])"
      ]
     },
     "execution_count": 46,
     "metadata": {},
     "output_type": "execute_result"
    }
   ],
   "source": [
    "D.T.dot(A.T)"
   ]
  },
  {
   "cell_type": "markdown",
   "metadata": {
    "id": "gGDt8-KMS5wY"
   },
   "source": [
    "Una **matriz simétrica** $M$ se define como una matriz que es igual a su traspuesta: $M^T = M$. Esta definición implica que debe ser una matriz cuadrada cuyos elementos sean simétricos con respecto a la diagonal principal, por ejemplo:\n",
    "\n",
    "\\begin{bmatrix}\n",
    "  17 & 22 & 27 & 49 \\\\\n",
    "  22 & 29 & 36 & 0 \\\\\n",
    "  27 & 36 & 45 & 2 \\\\\n",
    "  49 & 0 & 2 & 99\n",
    "\\end{bmatrix}\n",
    "\n",
    "El producto de una matriz por su transpuesta siempre es una matriz simétrica, por ejemplo:"
   ]
  },
  {
   "cell_type": "code",
   "execution_count": 47,
   "metadata": {
    "colab": {
     "base_uri": "https://localhost:8080/"
    },
    "id": "wMAilak7S5wZ",
    "outputId": "e9ebab40-b12c-43b7-ce48-d0be5443a4fc"
   },
   "outputs": [
    {
     "data": {
      "text/plain": [
       "array([[  87,  279,  547],\n",
       "       [ 279,  940, 1860],\n",
       "       [ 547, 1860, 3700]])"
      ]
     },
     "execution_count": 47,
     "metadata": {},
     "output_type": "execute_result"
    }
   ],
   "source": [
    "D.dot(D.T)"
   ]
  },
  {
   "cell_type": "markdown",
   "metadata": {
    "id": "BTlivUn3S5wZ"
   },
   "source": [
    "## Conversión de matrices 1D en matrices 2D en NumPy\n",
    "Como mencionamos anteriormente, en NumPy (a diferencia de Matlab, por ejemplo), 1D realmente significa 1D: no existe tal cosa como una matriz 1D vertical o una matriz 1D horizontal. Por lo tanto, no debería sorprenderse al ver que la transposición de una matriz 1D no hace nada:"
   ]
  },
  {
   "cell_type": "code",
   "execution_count": 48,
   "metadata": {
    "id": "UBpSp3N0S5wZ"
   },
   "outputs": [],
   "source": [
    "u = np.array([2, 5])"
   ]
  },
  {
   "cell_type": "code",
   "execution_count": 49,
   "metadata": {
    "colab": {
     "base_uri": "https://localhost:8080/"
    },
    "id": "5iBPewfTS5wZ",
    "outputId": "598db25e-414b-41bd-fe43-a245457e19d3"
   },
   "outputs": [
    {
     "data": {
      "text/plain": [
       "array([2, 5])"
      ]
     },
     "execution_count": 49,
     "metadata": {},
     "output_type": "execute_result"
    }
   ],
   "source": [
    "u.T"
   ]
  },
  {
   "cell_type": "markdown",
   "metadata": {
    "id": "wEAZE80vS5wZ"
   },
   "source": [
    "Queremos convertir $\\textbf{u}$ en un vector fila antes de transponerlo. Hay algunas maneras de hacer esto:"
   ]
  },
  {
   "cell_type": "code",
   "execution_count": 50,
   "metadata": {
    "colab": {
     "base_uri": "https://localhost:8080/"
    },
    "id": "VOk6_g8eS5wZ",
    "outputId": "bf433764-e892-4afd-f03e-224d9cebc933"
   },
   "outputs": [
    {
     "data": {
      "text/plain": [
       "array([[2, 5]])"
      ]
     },
     "execution_count": 50,
     "metadata": {},
     "output_type": "execute_result"
    }
   ],
   "source": [
    "u_row = np.array([u])\n",
    "u_row"
   ]
  },
  {
   "cell_type": "markdown",
   "metadata": {
    "id": "IEs7rQfES5wa"
   },
   "source": [
    "Observe los corchetes adicionales: esta es una matriz 2D con solo una fila (es decir, una matriz de 1x2). En otras palabras, realmente es un **vector de fila**."
   ]
  },
  {
   "cell_type": "code",
   "execution_count": 51,
   "metadata": {
    "colab": {
     "base_uri": "https://localhost:8080/"
    },
    "id": "7VrGXqjCS5wa",
    "outputId": "74641919-7261-4583-a272-3a8a7ed37dbe"
   },
   "outputs": [
    {
     "data": {
      "text/plain": [
       "array([[2, 5]])"
      ]
     },
     "execution_count": 51,
     "metadata": {},
     "output_type": "execute_result"
    }
   ],
   "source": [
    "u[np.newaxis, :]"
   ]
  },
  {
   "cell_type": "markdown",
   "metadata": {
    "id": "PnjZlH-bS5wa"
   },
   "source": [
    "Observe los corchetes adicionales: esta es una matriz 2D con solo una fila (es decir, una matriz de 1x2). En otras palabras, realmente es un **vector de fila**."
   ]
  },
  {
   "cell_type": "code",
   "execution_count": 52,
   "metadata": {
    "colab": {
     "base_uri": "https://localhost:8080/"
    },
    "id": "2QZmZxFgS5wa",
    "outputId": "e3d3e47e-4b5b-4e0a-a1c7-78d89a9b78be"
   },
   "outputs": [
    {
     "data": {
      "text/plain": [
       "array([[2, 5]])"
      ]
     },
     "execution_count": 52,
     "metadata": {},
     "output_type": "execute_result"
    }
   ],
   "source": [
    "u[np.newaxis]"
   ]
  },
  {
   "cell_type": "markdown",
   "metadata": {
    "id": "EMY1k32wS5wa"
   },
   "source": [
    "Esto es equivalente, pero un poco menos explícito."
   ]
  },
  {
   "cell_type": "markdown",
   "metadata": {
    "id": "x7te-CBuS5wa"
   },
   "source": [
    "Ok, ahora transpongamos nuestro vector fila:"
   ]
  },
  {
   "cell_type": "code",
   "execution_count": 53,
   "metadata": {
    "colab": {
     "base_uri": "https://localhost:8080/"
    },
    "id": "aBGjxyGrS5wa",
    "outputId": "44c0be97-7b52-41a2-c072-a34401c52cce"
   },
   "outputs": [
    {
     "data": {
      "text/plain": [
       "array([[2],\n",
       "       [5]])"
      ]
     },
     "execution_count": 53,
     "metadata": {},
     "output_type": "execute_result"
    }
   ],
   "source": [
    "u_row.T"
   ]
  },
  {
   "cell_type": "markdown",
   "metadata": {
    "id": "lyv0HVaXS5wb"
   },
   "source": [
    "¡Genial! Ahora tenemos un buen **vector de columna**.\n",
    "\n",
    "En lugar de crear un vector de fila y luego transponerlo, también es posible convertir una matriz 1D directamente en un vector de columna:"
   ]
  },
  {
   "cell_type": "code",
   "execution_count": 54,
   "metadata": {
    "colab": {
     "base_uri": "https://localhost:8080/"
    },
    "id": "9YI2xE0yS5wb",
    "outputId": "311355ba-646f-4fdd-e88e-3a62c030c501"
   },
   "outputs": [
    {
     "data": {
      "text/plain": [
       "array([[2],\n",
       "       [5]])"
      ]
     },
     "execution_count": 54,
     "metadata": {},
     "output_type": "execute_result"
    }
   ],
   "source": [
    "u[:, np.newaxis]"
   ]
  },
  {
   "cell_type": "markdown",
   "metadata": {
    "id": "aVUYENjkS5wb"
   },
   "source": [
    "## Graficar una matriz\n",
    "Ya hemos visto que los vectores se pueden representar como puntos o flechas en un espacio N-dimensional. ¿Existe una buena representación gráfica de las matrices? Bueno, simplemente puede ver una matriz como una lista de vectores, por lo que trazar una matriz da como resultado muchos puntos o flechas. Por ejemplo, creemos una matriz `P` de $2 \\times 4$ y representémosla como puntos:"
   ]
  },
  {
   "cell_type": "code",
   "execution_count": 55,
   "metadata": {
    "colab": {
     "base_uri": "https://localhost:8080/",
     "height": 269
    },
    "id": "-g3cg0fqS5wb",
    "outputId": "3824a863-91ca-4986-d885-f6cb07dc67fd"
   },
   "outputs": [
    {
     "data": {
      "image/png": "[encoded data removed]",
      "text/plain": [
       "<Figure size 432x288 with 1 Axes>"
      ]
     },
     "metadata": {
      "needs_background": "light"
     },
     "output_type": "display_data"
    }
   ],
   "source": [
    "import matplotlib.pyplot as plt\n",
    "\n",
    "P = np.array([\n",
    "        [3.0, 4.0, 1.0, 4.6],\n",
    "        [0.2, 3.5, 2.0, 0.5]\n",
    "    ])\n",
    "x_coords_P, y_coords_P = P\n",
    "plt.scatter(x_coords_P, y_coords_P)\n",
    "plt.axis([0, 5, 0, 4])\n",
    "plt.show()"
   ]
  },
  {
   "cell_type": "markdown",
   "metadata": {
    "id": "299l9q5vS5wc"
   },
   "source": [
    "Por supuesto, también podríamos haber almacenado los mismos 4 vectores como vectores de fila en lugar de vectores de columna, dando como resultado una matriz de $4 \\times 2$ (la transpuesta de $P$, de hecho). Es realmente una elección arbitraria.\n",
    "\n",
    "Como los vectores están ordenados, puedes ver la matriz como un camino y representarla con puntos conectados:"
   ]
  },
  {
   "cell_type": "code",
   "execution_count": 56,
   "metadata": {
    "colab": {
     "base_uri": "https://localhost:8080/",
     "height": 269
    },
    "id": "NlEosqXnS5wc",
    "outputId": "5be2c428-f6f7-4ed6-9b4b-b2a3591212ed"
   },
   "outputs": [
    {
     "data": {
      "image/png": "[encoded data removed]",
      "text/plain": [
       "<Figure size 432x288 with 1 Axes>"
      ]
     },
     "metadata": {
      "needs_background": "light"
     },
     "output_type": "display_data"
    }
   ],
   "source": [
    "plt.plot(x_coords_P, y_coords_P, \"bo\")\n",
    "plt.plot(x_coords_P, y_coords_P, \"b--\")\n",
    "plt.axis([0, 5, 0, 4])\n",
    "plt.grid()\n",
    "plt.show()"
   ]
  },
  {
   "cell_type": "markdown",
   "metadata": {
    "id": "ulmZ4_2_S5wc"
   },
   "source": [
    "O puede representarlo como un polígono: la clase `Polygon` de matplotlib espera una matriz $n \\times 2$ NumPy, no una matriz $2 \\times n$, por lo que solo necesitamos darle $P^T$:"
   ]
  },
  {
   "cell_type": "code",
   "execution_count": 57,
   "metadata": {
    "colab": {
     "base_uri": "https://localhost:8080/",
     "height": 269
    },
    "id": "gfG8a0ZKS5wc",
    "outputId": "7a66dbe5-6f7c-43f9-a8e5-7fa3530ee7a6"
   },
   "outputs": [
    {
     "data": {
      "image/png": "[encoded data removed]",
      "text/plain": [
       "<Figure size 432x288 with 1 Axes>"
      ]
     },
     "metadata": {
      "needs_background": "light"
     },
     "output_type": "display_data"
    }
   ],
   "source": [
    "from matplotlib.patches import Polygon\n",
    "plt.gca().add_artist(Polygon(P.T))\n",
    "plt.axis([0, 5, 0, 4])\n",
    "plt.grid()\n",
    "plt.show()"
   ]
  },
  {
   "cell_type": "markdown",
   "metadata": {
    "id": "KKmRCDe4S5wc"
   },
   "source": [
    "## Aplicaciones geométricas de operaciones matriciales\n",
    "Vimos anteriormente que la suma de vectores da como resultado una traslación geométrica, la multiplicación de vectores por un escalar da como resultado un reescalado (acercamiento o alejamiento, centrado en el origen), y el producto punto vectorial da como resultado la proyección de un vector sobre otro vector, el reescalado y la medición del resultado. \n",
    "\n",
    "De manera similar, las operaciones matriciales tienen aplicaciones geométricas muy útiles."
   ]
  },
  {
   "cell_type": "markdown",
   "metadata": {
    "id": "Qms8vMlNS5wc"
   },
   "source": [
    "### Suma = múltiples traslaciones geométricas\n",
    "Primero, sumar dos matrices es equivalente a sumar todos sus vectores. Por ejemplo, vamos a crear una matriz de $2 \\times 4$ $H$ y sumarla a $P$, y ver el resultado:"
   ]
  },
  {
   "cell_type": "code",
   "execution_count": 58,
   "metadata": {
    "id": "V4RD-kE3nQkF"
   },
   "outputs": [],
   "source": [
    "def plot_vector2d(vector2d, origin=[0, 0], **options):\n",
    "    return plt.arrow(origin[0], origin[1], vector2d[0], vector2d[1],\n",
    "              head_width=0.2, head_length=0.3, length_includes_head=True,\n",
    "              **options)"
   ]
  },
  {
   "cell_type": "code",
   "execution_count": 59,
   "metadata": {
    "colab": {
     "base_uri": "https://localhost:8080/",
     "height": 269
    },
    "id": "LhBH-8b6S5wc",
    "outputId": "16eb99db-7597-40fb-aac3-65bfb7a01f0c"
   },
   "outputs": [
    {
     "data": {
      "image/png": "[encoded data removed]",
      "text/plain": [
       "<Figure size 432x288 with 1 Axes>"
      ]
     },
     "metadata": {
      "needs_background": "light"
     },
     "output_type": "display_data"
    }
   ],
   "source": [
    "H = np.array([\n",
    "        [ 0.5, -0.2, 0.2, -0.1],\n",
    "        [ 0.4,  0.4, 1.5, 0.6]\n",
    "    ])\n",
    "P_moved = P + H\n",
    "\n",
    "plt.gca().add_artist(Polygon(P.T, alpha=0.2))\n",
    "plt.gca().add_artist(Polygon(P_moved.T, alpha=0.3, color=\"r\"))\n",
    "for vector, origin in zip(H.T, P.T):\n",
    "    plot_vector2d(vector, origin=origin)\n",
    "\n",
    "plt.text(2.2, 1.8, \"$P$\", color=\"b\", fontsize=18)\n",
    "plt.text(2.0, 3.2, \"$P+H$\", color=\"r\", fontsize=18)\n",
    "plt.text(2.5, 0.5, \"$H_{*,1}$\", color=\"k\", fontsize=18)\n",
    "plt.text(4.1, 3.5, \"$H_{*,2}$\", color=\"k\", fontsize=18)\n",
    "plt.text(0.4, 2.6, \"$H_{*,3}$\", color=\"k\", fontsize=18)\n",
    "plt.text(4.4, 0.2, \"$H_{*,4}$\", color=\"k\", fontsize=18)\n",
    "\n",
    "plt.axis([0, 5, 0, 4])\n",
    "plt.grid()\n",
    "plt.show()"
   ]
  },
  {
   "cell_type": "markdown",
   "metadata": {
    "id": "HvUsU6aUS5wc"
   },
   "source": [
    "Si sumamos una matriz llena de vectores idénticos, obtenemos una traslación geométrica simple:"
   ]
  },
  {
   "cell_type": "code",
   "execution_count": 60,
   "metadata": {
    "colab": {
     "base_uri": "https://localhost:8080/",
     "height": 269
    },
    "id": "wb1MmHacS5wd",
    "outputId": "1216e3a6-36d7-4065-a0cf-633a7516ff73"
   },
   "outputs": [
    {
     "data": {
      "image/png": "[encoded data removed]",
      "text/plain": [
       "<Figure size 432x288 with 1 Axes>"
      ]
     },
     "metadata": {
      "needs_background": "light"
     },
     "output_type": "display_data"
    }
   ],
   "source": [
    "H2 = np.array([\n",
    "        [-0.5, -0.5, -0.5, -0.5],\n",
    "        [ 0.4,  0.4,  0.4,  0.4]\n",
    "    ])\n",
    "P_translated = P + H2\n",
    "\n",
    "plt.gca().add_artist(Polygon(P.T, alpha=0.2))\n",
    "plt.gca().add_artist(Polygon(P_translated.T, alpha=0.3, color=\"r\"))\n",
    "for vector, origin in zip(H2.T, P.T):\n",
    "    plot_vector2d(vector, origin=origin)\n",
    "\n",
    "plt.axis([0, 5, 0, 4])\n",
    "plt.grid()\n",
    "plt.show()"
   ]
  },
  {
   "cell_type": "markdown",
   "metadata": {
    "id": "4JVqT139S5wd"
   },
   "source": [
    "Aunque las matrices solo se pueden sumar si tienen el mismo tamaño, NumPy permite agregar un vector de fila o un vector de columna a una matriz: esto se denomina *broadcasting* y se explica con más detalles en el [tutorial de NumPy](tools_numpy.ipynb ). Podríamos haber obtenido el mismo resultado que el anterior con:"
   ]
  },
  {
   "cell_type": "code",
   "execution_count": 61,
   "metadata": {
    "colab": {
     "base_uri": "https://localhost:8080/"
    },
    "id": "iF-3jcfPS5wd",
    "outputId": "a8f1c0b5-0520-4abe-f66c-239d41924a03"
   },
   "outputs": [
    {
     "data": {
      "text/plain": [
       "array([[2.5, 3.5, 0.5, 4.1],\n",
       "       [0.6, 3.9, 2.4, 0.9]])"
      ]
     },
     "execution_count": 61,
     "metadata": {},
     "output_type": "execute_result"
    }
   ],
   "source": [
    "P + [[-0.5], [0.4]]  # igual que P + H2, gracias al broadcast de NumPy"
   ]
  },
  {
   "cell_type": "markdown",
   "metadata": {
    "id": "CNv-Wo_CS5wd"
   },
   "source": [
    "### Multiplicación por un escalar\n",
    "Al multiplicar una matriz por un escalar, todos sus vectores se multiplican por ese escalar, por lo que, como era de esperar, el resultado geométrico es un cambio de escala de toda la figura. Por ejemplo, cambiemos la escala de nuestro polígono por un factor del 60 % (alejándose, centrado en el origen):"
   ]
  },
  {
   "cell_type": "code",
   "execution_count": 62,
   "metadata": {
    "colab": {
     "base_uri": "https://localhost:8080/",
     "height": 269
    },
    "id": "E7wyVY6TS5wd",
    "outputId": "8659a1a9-d6fd-4c60-f1f5-d8a7f0e4afbf"
   },
   "outputs": [
    {
     "data": {
      "image/png": "[encoded data removed]",
      "text/plain": [
       "<Figure size 432x288 with 1 Axes>"
      ]
     },
     "metadata": {
      "needs_background": "light"
     },
     "output_type": "display_data"
    }
   ],
   "source": [
    "def plot_transformation(P_before, P_after, text_before, text_after, axis = [0, 5, 0, 4], arrows=False):\n",
    "    if arrows:\n",
    "        for vector_before, vector_after in zip(P_before.T, P_after.T):\n",
    "            plot_vector2d(vector_before, color=\"blue\", linestyle=\"--\")\n",
    "            plot_vector2d(vector_after, color=\"red\", linestyle=\"-\")\n",
    "    plt.gca().add_artist(Polygon(P_before.T, alpha=0.2))\n",
    "    plt.gca().add_artist(Polygon(P_after.T, alpha=0.3, color=\"r\"))\n",
    "    plt.text(P_before[0].mean(), P_before[1].mean(), text_before, fontsize=18, color=\"blue\")\n",
    "    plt.text(P_after[0].mean(), P_after[1].mean(), text_after, fontsize=18, color=\"red\")\n",
    "    plt.axis(axis)\n",
    "    plt.grid()\n",
    "\n",
    "P_rescaled = 0.60 * P\n",
    "plot_transformation(P, P_rescaled, \"$P$\", \"$0.6 P$\", arrows=True)\n",
    "plt.show()"
   ]
  },
  {
   "cell_type": "markdown",
   "metadata": {
    "id": "McUydsI5S5wd"
   },
   "source": [
    "### Multiplicación de matrices – Proyección sobre un eje\n",
    "La multiplicación de matrices es más compleja de visualizar, pero también es la herramienta más poderosa de la caja.\n",
    "\n",
    "Comencemos de manera simple, definiendo una matriz de $1 \\times 2$ $U = \\begin{bmatrix} 1 & 0 \\end{bmatrix}$. Este vector fila es simplemente el vector unitario horizontal."
   ]
  },
  {
   "cell_type": "code",
   "execution_count": 63,
   "metadata": {
    "collapsed": true,
    "id": "bLlEabRjS5we",
    "jupyter": {
     "outputs_hidden": true
    }
   },
   "outputs": [],
   "source": [
    "U = np.array([[1, 0]])"
   ]
  },
  {
   "cell_type": "markdown",
   "metadata": {
    "id": "jQTZKhy6S5wf"
   },
   "source": [
    "Ahora veamos el producto escalar $U \\cdot P$:"
   ]
  },
  {
   "cell_type": "code",
   "execution_count": 64,
   "metadata": {
    "colab": {
     "base_uri": "https://localhost:8080/"
    },
    "id": "ZOY9Rm7dS5wf",
    "outputId": "2a22b2ab-4194-42f9-bff7-b3e9b0b63ca6"
   },
   "outputs": [
    {
     "data": {
      "text/plain": [
       "array([[3. , 4. , 1. , 4.6]])"
      ]
     },
     "execution_count": 64,
     "metadata": {},
     "output_type": "execute_result"
    }
   ],
   "source": [
    "U.dot(P)"
   ]
  },
  {
   "cell_type": "markdown",
   "metadata": {
    "id": "7CM8jRDVS5wf"
   },
   "source": [
    "Estas son las coordenadas horizontales de los vectores en $P$. En otras palabras, acabamos de proyectar $P$ en el eje horizontal:"
   ]
  },
  {
   "cell_type": "code",
   "execution_count": 65,
   "metadata": {
    "colab": {
     "base_uri": "https://localhost:8080/",
     "height": 269
    },
    "id": "KjYeyUL8S5wf",
    "outputId": "f492829c-93cb-41ad-d922-9960babae73b"
   },
   "outputs": [
    {
     "data": {
      "image/png": "[encoded data removed]",
      "text/plain": [
       "<Figure size 432x288 with 1 Axes>"
      ]
     },
     "metadata": {
      "needs_background": "light"
     },
     "output_type": "display_data"
    }
   ],
   "source": [
    "def plot_projection(U, P):\n",
    "    U_P = U.dot(P)\n",
    "    \n",
    "    axis_end = 100 * U\n",
    "    plot_vector2d(axis_end[0], color=\"black\")\n",
    "\n",
    "    plt.gca().add_artist(Polygon(P.T, alpha=0.2))\n",
    "    for vector, proj_coordinate in zip(P.T, U_P.T):\n",
    "        proj_point = proj_coordinate * U\n",
    "        plt.plot(proj_point[0][0], proj_point[0][1], \"ro\")\n",
    "        plt.plot([vector[0], proj_point[0][0]], [vector[1], proj_point[0][1]], \"r--\")\n",
    "\n",
    "    plt.axis([0, 5, 0, 4])\n",
    "    plt.grid()\n",
    "    plt.show()\n",
    "\n",
    "plot_projection(U, P)"
   ]
  },
  {
   "cell_type": "markdown",
   "metadata": {
    "id": "jkbCLRDzS5wf"
   },
   "source": [
    "De hecho, podemos proyectar en cualquier otro eje simplemente reemplazando $U$ con cualquier otro vector unitario. Por ejemplo, proyectemos sobre el eje que está en un ángulo de 30° sobre el eje horizontal:"
   ]
  },
  {
   "cell_type": "code",
   "execution_count": 105,
   "metadata": {
    "colab": {
     "base_uri": "https://localhost:8080/",
     "height": 269
    },
    "id": "6rKIU6XhS5wf",
    "outputId": "b043d7e6-b92c-46f1-f77f-e19cbcac38f4"
   },
   "outputs": [
    {
     "data": {
      "image/png": "[encoded data removed]",
      "text/plain": [
       "<Figure size 432x288 with 1 Axes>"
      ]
     },
     "metadata": {
      "needs_background": "light"
     },
     "output_type": "display_data"
    }
   ],
   "source": [
    "angle70 = 70 * np.pi / 180  # angle in radians\n",
    "U_30 = np.array([[np.cos(angle70), np.sin(angle70)]])\n",
    "\n",
    "plot_projection(U_30, P)"
   ]
  },
  {
   "cell_type": "markdown",
   "metadata": {
    "id": "1wNNgNFOS5wf"
   },
   "source": [
    "¡Bien! Recuerda que el producto escalar de un vector unitario y una matriz básicamente realiza una proyección sobre un eje y nos da las coordenadas de los puntos resultantes sobre ese eje."
   ]
  },
  {
   "cell_type": "markdown",
   "metadata": {
    "id": "na-duj1MS5wf"
   },
   "source": [
    "### Multiplicación de matrices – Rotación\n",
    "Ahora vamos a crear una matriz $2 \\times 2$ $V$ que contenga dos vectores unitarios que formen ángulos de 30° y 120° con el eje horizontal:\n",
    "\n",
    "$V = \\begin{bmatrix} \\cos(30°) & \\sin(30°) \\\\ \\cos(120°) & \\sin(120°) \\end{bmatrix}$"
   ]
  },
  {
   "cell_type": "code",
   "execution_count": 106,
   "metadata": {
    "colab": {
     "base_uri": "https://localhost:8080/"
    },
    "id": "U0XBVMXvS5wg",
    "outputId": "e8e07801-1607-4cea-da74-cd33a05d3dc2"
   },
   "outputs": [
    {
     "data": {
      "text/plain": [
       "array([[ 0.34202014,  0.93969262],\n",
       "       [-0.93969262,  0.34202014]])"
      ]
     },
     "execution_count": 106,
     "metadata": {},
     "output_type": "execute_result"
    }
   ],
   "source": [
    "angle160 = 160 * np.pi / 180\n",
    "V = np.array([\n",
    "        [np.cos(angle70), np.sin(angle70)],\n",
    "        [np.cos(angle160), np.sin(angle160)]\n",
    "    ])\n",
    "V"
   ]
  },
  {
   "cell_type": "markdown",
   "metadata": {
    "id": "AQGwwuI6S5wg"
   },
   "source": [
    "Veamos el producto $VP$:"
   ]
  },
  {
   "cell_type": "code",
   "execution_count": 107,
   "metadata": {
    "colab": {
     "base_uri": "https://localhost:8080/"
    },
    "id": "-iW67uaOS5wg",
    "outputId": "d94f294f-cfc3-4c8a-ed10-1015d7a6533a"
   },
   "outputs": [
    {
     "data": {
      "text/plain": [
       "array([[ 1.21399895,  4.65700475,  2.22140538,  2.04313897],\n",
       "       [-2.75067383, -2.56169998, -0.25565233, -4.15157598]])"
      ]
     },
     "execution_count": 107,
     "metadata": {},
     "output_type": "execute_result"
    }
   ],
   "source": [
    "V.dot(P)"
   ]
  },
  {
   "cell_type": "markdown",
   "metadata": {
    "id": "CMh560ZyS5wg"
   },
   "source": [
    "La primera fila es igual a $V_{1,*} P$, que son las coordenadas de la proyección de $P$ sobre el eje de 30°, como hemos visto anteriormente. La segunda fila es $V_{2,*} P$, que son las coordenadas de la proyección de $P$ en el eje de 120°. ¡Así que básicamente obtuvimos las coordenadas de $P$ después de rotar los ejes horizontal y vertical 30° (o de manera equivalente después de rotar el polígono -30° alrededor del origen)! Grafiquemos $VP$ para ver esto:"
   ]
  },
  {
   "cell_type": "code",
   "execution_count": 108,
   "metadata": {
    "colab": {
     "base_uri": "https://localhost:8080/",
     "height": 272
    },
    "id": "DWlcNbuBS5wg",
    "outputId": "1c654c1f-e268-4edb-e4bf-531bf0cda8dc"
   },
   "outputs": [
    {
     "data": {
      "image/png": "[encoded data removed]",
      "text/plain": [
       "<Figure size 432x288 with 1 Axes>"
      ]
     },
     "metadata": {
      "needs_background": "light"
     },
     "output_type": "display_data"
    }
   ],
   "source": [
    "P_rotated = V.dot(P)\n",
    "plot_transformation(P, P_rotated, \"$P$\", \"$VP$\", [-2, 6, -5, 4], arrows=True)\n",
    "plt.show()"
   ]
  },
  {
   "cell_type": "markdown",
   "metadata": {
    "id": "QYHMekmpS5wg"
   },
   "source": [
    "La matriz $V$ se llama **matriz de rotación**."
   ]
  },
  {
   "cell_type": "markdown",
   "metadata": {
    "id": "CvSfrzM9S5wh"
   },
   "source": [
    "### Multiplicación de matrices – Otras transformaciones lineales\n",
    "En términos más generales, cualquier transformación lineal $f$ que mapee vectores n-dimensionales a vectores m-dimensionales puede representarse como una matriz $m \\times n$. Por ejemplo, digamos que $\\textbf{u}$ es un vector tridimensional:\n",
    "\n",
    "$\\textbf{u} = \\begin{pmatrix} x \\\\ y \\\\ z \\end{pmatrix}$\n",
    "\n",
    "y $f$ se define como:\n",
    "\n",
    "$f(\\textbf{u}) = \\begin{pmatrix}\n",
    "ax + by + cz \\\\\n",
    "dx + ey + fz\n",
    "\\end{pmatrix}$\n",
    "\n",
    "Esta transformación $f$ asigna vectores tridimensionales a vectores bidimensionales de forma lineal (es decir, las coordenadas resultantes solo implican sumas de múltiplos de las coordenadas originales). Podemos representar esta transformación como matriz $F$:\n",
    "\n",
    "$F = \\begin{bmatrix}\n",
    "a & b & c \\\\\n",
    "d & e & f\n",
    "\\end{bmatrix}$\n",
    "\n",
    "Ahora, para calcular $f(\\textbf{u})$ simplemente podemos hacer una multiplicación de matrices:\n",
    "\n",
    "$f(\\textbf{u}) = F \\textbf{u}$\n",
    "\n",
    "Si tenemos una matriz $G = \\begin{bmatrix}\\textbf{u}_1 & \\textbf{u}_2 & \\cdots & \\textbf{u}_q \\end{bmatrix}$, donde cada $\\textbf{u }_i$ es un vector columna tridimensional, entonces $FG$ da como resultado la transformación lineal de todos los vectores $\\textbf{u}_i$ como se define en la matriz $F$:\n",
    "\n",
    "$FG = \\begin{bmatrix}f(\\textbf{u}_1) & f(\\textbf{u}_2) & \\cdots & f(\\textbf{u}_q) \\end{bmatrix}$\n",
    "\n",
    "Para resumir, la matriz del lado izquierdo de un producto escalar especifica qué transformación lineal aplicar a los vectores del lado derecho. Ya hemos demostrado que esto se puede usar para realizar proyecciones y rotaciones, pero cualquier otra transformación lineal es posible. Por ejemplo, aquí hay una transformación conocida como *mapeo de corte*:"
   ]
  },
  {
   "cell_type": "code",
   "execution_count": 70,
   "metadata": {
    "colab": {
     "base_uri": "https://localhost:8080/",
     "height": 269
    },
    "id": "lbrMHOkSS5wh",
    "outputId": "ea513d09-6702-427f-ad5a-cd9bf6df305d",
    "scrolled": true
   },
   "outputs": [
    {
     "data": {
      "image/png": "[encoded data removed]",
      "text/plain": [
       "<Figure size 432x288 with 1 Axes>"
      ]
     },
     "metadata": {
      "needs_background": "light"
     },
     "output_type": "display_data"
    }
   ],
   "source": [
    "F_shear = np.array([\n",
    "        [1, 1.5],\n",
    "        [0, 1]\n",
    "    ])\n",
    "plot_transformation(P, F_shear.dot(P), \"$P$\", \"$F_{de_corte} P$\",\n",
    "                    axis=[0, 10, 0, 7])\n",
    "plt.show()"
   ]
  },
  {
   "cell_type": "markdown",
   "metadata": {
    "id": "BruyP3TjS5wh"
   },
   "source": [
    "Veamos cómo esta transformación afecta a una matriz que contiene los puntos de un **cuadrado unitario**:"
   ]
  },
  {
   "cell_type": "code",
   "execution_count": 71,
   "metadata": {
    "colab": {
     "base_uri": "https://localhost:8080/",
     "height": 269
    },
    "id": "b5nEKqVRS5wh",
    "outputId": "32fe19f1-a8a9-493a-cc7a-2d70eb2ad995"
   },
   "outputs": [
    {
     "data": {
      "image/png": "[encoded data removed]",
      "text/plain": [
       "<Figure size 432x288 with 1 Axes>"
      ]
     },
     "metadata": {
      "needs_background": "light"
     },
     "output_type": "display_data"
    }
   ],
   "source": [
    "Square = np.array([\n",
    "        [0, 0, 1, 1],\n",
    "        [0, 1, 1, 0]\n",
    "    ])\n",
    "plot_transformation(Square, F_shear.dot(Square), \"$Square$\", \"$F_{de_corte} Square$\",\n",
    "                    axis=[0, 2.6, 0, 1.8])\n",
    "plt.show()"
   ]
  },
  {
   "cell_type": "markdown",
   "metadata": {
    "id": "1Ls2KfPoS5wh"
   },
   "source": [
    "Ahora veamos un **mapeo de compresión**:"
   ]
  },
  {
   "cell_type": "code",
   "execution_count": 72,
   "metadata": {
    "colab": {
     "base_uri": "https://localhost:8080/",
     "height": 269
    },
    "id": "V53g0UKFS5wh",
    "outputId": "97128273-30c6-4221-b6d5-7291ec2f71a7"
   },
   "outputs": [
    {
     "data": {
      "image/png": "[encoded data removed]",
      "text/plain": [
       "<Figure size 432x288 with 1 Axes>"
      ]
     },
     "metadata": {
      "needs_background": "light"
     },
     "output_type": "display_data"
    }
   ],
   "source": [
    "F_squeeze = np.array([\n",
    "        [1.4, 0],\n",
    "        [0, 1/1.4]\n",
    "    ])\n",
    "plot_transformation(P, F_squeeze.dot(P), \"$P$\", \"$F_{de_compresion} P$\",\n",
    "                    axis=[0, 7, 0, 5])\n",
    "plt.show()"
   ]
  },
  {
   "cell_type": "markdown",
   "metadata": {
    "id": "O3f4XFG6S5wh"
   },
   "source": [
    "El efecto sobre el cuadrado unitario es:"
   ]
  },
  {
   "cell_type": "code",
   "execution_count": 73,
   "metadata": {
    "colab": {
     "base_uri": "https://localhost:8080/",
     "height": 269
    },
    "id": "hK9fGvdiS5wi",
    "outputId": "6a2abf82-5e5c-46fe-ee60-5c1b289635f5"
   },
   "outputs": [
    {
     "data": {
      "image/png": "[encoded data removed]",
      "text/plain": [
       "<Figure size 432x288 with 1 Axes>"
      ]
     },
     "metadata": {
      "needs_background": "light"
     },
     "output_type": "display_data"
    }
   ],
   "source": [
    "plot_transformation(Square, F_squeeze.dot(Square), \"$Square$\", \"$F_{de_compresion} Square$\",\n",
    "                    axis=[0, 1.8, 0, 1.2])\n",
    "plt.show()"
   ]
  },
  {
   "cell_type": "markdown",
   "metadata": {
    "id": "U7dTom9aS5wi"
   },
   "source": [
    "Mostremos una última: la reflexión a través del eje horizontal:"
   ]
  },
  {
   "cell_type": "code",
   "execution_count": 74,
   "metadata": {
    "colab": {
     "base_uri": "https://localhost:8080/",
     "height": 265
    },
    "id": "wUIn4wKNS5wi",
    "outputId": "e3f8cb3d-5988-4a7e-e24e-f0d8697a6282"
   },
   "outputs": [
    {
     "data": {
      "image/png": "[encoded data removed]",
      "text/plain": [
       "<Figure size 432x288 with 1 Axes>"
      ]
     },
     "metadata": {
      "needs_background": "light"
     },
     "output_type": "display_data"
    }
   ],
   "source": [
    "F_reflect = np.array([\n",
    "        [1, 0],\n",
    "        [0, -1]\n",
    "    ])\n",
    "plot_transformation(P, F_reflect.dot(P), \"$P$\", \"$F_{reflexion} P$\",\n",
    "                    axis=[-2, 9, -4.5, 4.5])\n",
    "plt.show()"
   ]
  },
  {
   "cell_type": "markdown",
   "metadata": {
    "id": "MUhHXclsS5wi"
   },
   "source": [
    "## Matriz inversa\n",
    "Ahora que entendemos que una matriz puede representar cualquier transformación lineal, una pregunta natural es: ¿podemos encontrar una matriz de transformación que invierta el efecto de una matriz de transformación dada $F$? La respuesta es sí… ¡a veces! Cuando existe, dicha matriz se denomina **inversa** de $F$ y se indica como $F^{-1}$.\n",
    "\n",
    "Por ejemplo, la rotación, el mapeo de corte y el mapeo de compresión tienen transformaciones inversas. Demostremos esto en el mapeo de corte:"
   ]
  },
  {
   "cell_type": "code",
   "execution_count": 75,
   "metadata": {
    "colab": {
     "base_uri": "https://localhost:8080/",
     "height": 269
    },
    "id": "opvd9reAS5wi",
    "outputId": "3525cedf-4194-431b-e306-8dd588bcdb40"
   },
   "outputs": [
    {
     "data": {
      "image/png": "[encoded data removed]",
      "text/plain": [
       "<Figure size 432x288 with 1 Axes>"
      ]
     },
     "metadata": {
      "needs_background": "light"
     },
     "output_type": "display_data"
    }
   ],
   "source": [
    "F_inv_shear = np.array([\n",
    "    [1, -1.5],\n",
    "    [0, 1]\n",
    "])\n",
    "P_sheared = F_shear.dot(P)\n",
    "P_unsheared = F_inv_shear.dot(P_sheared)\n",
    "plot_transformation(P_sheared, P_unsheared, \"$P_{cortada}$\", \"$P_{descortada}$\",\n",
    "                    axis=[0, 10, 0, 7])\n",
    "plt.plot(P[0], P[1], \"b--\")\n",
    "plt.show()"
   ]
  },
  {
   "cell_type": "markdown",
   "metadata": {
    "id": "vmBfCcE4S5wi"
   },
   "source": [
    "Aplicamos un mapeo de corte en $P$, tal como lo hicimos antes, pero luego aplicamos una segunda transformación al resultado, y *he aquí* esto tuvo el efecto de volver al $P$ original (trazamos el esquema original de $P$ para verificar). La segunda transformación es la inversa de la primera.\n",
    "\n",
    "Esta vez definimos la matriz inversa $F_{shear}^{-1}$ manualmente, pero NumPy proporciona una función `inv` para calcular la inversa de una matriz, por lo que podríamos haber escrito en su lugar:"
   ]
  },
  {
   "cell_type": "code",
   "execution_count": 76,
   "metadata": {
    "colab": {
     "base_uri": "https://localhost:8080/"
    },
    "id": "ryZh_jlxS5wi",
    "outputId": "742b16a4-00f3-48c7-bf8d-ff1e6138882d"
   },
   "outputs": [
    {
     "data": {
      "text/plain": [
       "array([[ 1. , -1.5],\n",
       "       [ 0. ,  1. ]])"
      ]
     },
     "execution_count": 76,
     "metadata": {},
     "output_type": "execute_result"
    }
   ],
   "source": [
    "import numpy.linalg as LA\n",
    "F_inv_shear = LA.inv(F_shear)\n",
    "F_inv_shear"
   ]
  },
  {
   "cell_type": "markdown",
   "metadata": {
    "id": "j_ENFLFxS5wj"
   },
   "source": [
    "Solo se pueden invertir matrices cuadradas. Esto tiene sentido cuando lo piensa: si tiene una transformación que reduce el número de dimensiones, se pierde parte de la información y no hay forma de recuperarla. Por ejemplo, digamos que usa una matriz de $2 \\times 3$ para proyectar un objeto 3D en un plano. El resultado puede verse así:"
   ]
  },
  {
   "cell_type": "code",
   "execution_count": 77,
   "metadata": {
    "colab": {
     "base_uri": "https://localhost:8080/",
     "height": 269
    },
    "id": "lNUt4_MNS5wj",
    "outputId": "c6b5181f-6f71-4fee-a224-b5bb57393a04"
   },
   "outputs": [
    {
     "data": {
      "image/png": "[encoded data removed]",
      "text/plain": [
       "<Figure size 432x288 with 1 Axes>"
      ]
     },
     "metadata": {
      "needs_background": "light"
     },
     "output_type": "display_data"
    }
   ],
   "source": [
    "plt.plot([0, 0, 1, 1, 0, 0.1, 0.1, 0, 0.1, 1.1, 1.0, 1.1, 1.1, 1.0, 1.1, 0.1],\n",
    "         [0, 1, 1, 0, 0, 0.1, 1.1, 1.0, 1.1, 1.1, 1.0, 1.1, 0.1, 0, 0.1, 0.1],\n",
    "         \"r-\")\n",
    "plt.axis([-0.5, 2.1, -0.5, 1.5])\n",
    "plt.show()"
   ]
  },
  {
   "cell_type": "markdown",
   "metadata": {
    "id": "BIFsWlmRS5wj"
   },
   "source": [
    "Mirando esta imagen, es imposible saber si se trata de la proyección de un cubo o de un objeto rectangular estrecho. Parte de la información se ha perdido en la proyección.\n",
    "\n",
    "Incluso las matrices de transformación cuadradas pueden perder información. Por ejemplo, considere esta matriz de transformación:"
   ]
  },
  {
   "cell_type": "code",
   "execution_count": 78,
   "metadata": {
    "colab": {
     "base_uri": "https://localhost:8080/",
     "height": 269
    },
    "id": "S7uWKaXdS5wj",
    "outputId": "bbaf351d-d992-4a16-9e07-4d0cb52343a1"
   },
   "outputs": [
    {
     "data": {
      "image/png": "[encoded data removed]",
      "text/plain": [
       "<Figure size 432x288 with 1 Axes>"
      ]
     },
     "metadata": {
      "needs_background": "light"
     },
     "output_type": "display_data"
    }
   ],
   "source": [
    "F_project = np.array([\n",
    "        [1, 0],\n",
    "        [0, 0]\n",
    "    ])\n",
    "plot_transformation(P, F_project.dot(P), \"$P$\", \"$F_{project} \\cdot P$\",\n",
    "                    axis=[0, 6, -1, 4])\n",
    "plt.show()"
   ]
  },
  {
   "cell_type": "markdown",
   "metadata": {
    "id": "zhKMMqTqS5wj"
   },
   "source": [
    "Esta matriz de transformación realiza una proyección sobre el eje horizontal. Nuestro polígono se aplana por completo, por lo que parte de la información se pierde por completo y es imposible volver al polígono original mediante una transformación lineal. En otras palabras, $F_{proyectar}$ no tiene inversa. Una matriz cuadrada de este tipo que no se puede invertir se denomina **matriz singular**. Si le pedimos a NumPy que calcule su inversa, genera una excepción:"
   ]
  },
  {
   "cell_type": "code",
   "execution_count": 79,
   "metadata": {
    "colab": {
     "base_uri": "https://localhost:8080/"
    },
    "id": "eu2PLoA6S5wj",
    "outputId": "abc90349-81b6-41e4-8a25-8ac76057d728"
   },
   "outputs": [
    {
     "name": "stdout",
     "output_type": "stream",
     "text": [
      "LinAlgError: Singular matrix\n"
     ]
    }
   ],
   "source": [
    "try:\n",
    "    LA.inv(F_project)\n",
    "except LA.LinAlgError as e:\n",
    "    print(\"LinAlgError:\", e)"
   ]
  },
  {
   "cell_type": "markdown",
   "metadata": {
    "id": "VFIfVxtBS5wj"
   },
   "source": [
    "Aquí hay otro ejemplo de una matriz singular. Éste realiza una proyección sobre el eje en un ángulo de 30° sobre el eje horizontal:"
   ]
  },
  {
   "cell_type": "code",
   "execution_count": 80,
   "metadata": {
    "colab": {
     "base_uri": "https://localhost:8080/",
     "height": 269
    },
    "id": "s1t0qJopS5wj",
    "outputId": "886ccbf1-cda4-4369-f029-3ed8c7984716"
   },
   "outputs": [
    {
     "data": {
      "image/png": "[encoded data removed]",
      "text/plain": [
       "<Figure size 432x288 with 1 Axes>"
      ]
     },
     "metadata": {
      "needs_background": "light"
     },
     "output_type": "display_data"
    }
   ],
   "source": [
    "angle30 = 30 * np.pi / 180\n",
    "F_project_30 = np.array([\n",
    "               [np.cos(angle30)**2, np.sin(2*angle30)/2],\n",
    "               [np.sin(2*angle30)/2, np.sin(angle30)**2]\n",
    "         ])\n",
    "plot_transformation(P, F_project_30.dot(P), \"$P$\", \"$F_{project\\_30} \\cdot P$\",\n",
    "                    axis=[0, 6, -1, 4])\n",
    "plt.show()"
   ]
  },
  {
   "cell_type": "markdown",
   "metadata": {
    "id": "O5E_5ZShS5wj"
   },
   "source": [
    "Pero esta vez, debido a errores de redondeo de punto flotante, NumPy logra calcular un inverso (sin embargo, observe cuán grandes son los elementos):"
   ]
  },
  {
   "cell_type": "code",
   "execution_count": 81,
   "metadata": {
    "colab": {
     "base_uri": "https://localhost:8080/"
    },
    "id": "cic30FX3S5wk",
    "outputId": "f5802b13-9e96-4b08-d784-2a16a4741a93"
   },
   "outputs": [
    {
     "data": {
      "text/plain": [
       "array([[ 1.20095990e+16, -2.08012357e+16],\n",
       "       [-2.08012357e+16,  3.60287970e+16]])"
      ]
     },
     "execution_count": 81,
     "metadata": {},
     "output_type": "execute_result"
    }
   ],
   "source": [
    "LA.inv(F_project_30)"
   ]
  },
  {
   "cell_type": "markdown",
   "metadata": {
    "id": "1xn-gN6NS5wk"
   },
   "source": [
    "Como era de esperar, el producto escalar de una matriz por su inversa da como resultado la matriz identidad:\n",
    "\n",
    "$M \\cdot M^{-1} = M^{-1} \\cdot M = I$\n",
    "\n",
    "Esto tiene sentido ya que hacer una transformación lineal seguida de la transformación inversa no produce ningún cambio."
   ]
  },
  {
   "cell_type": "code",
   "execution_count": 82,
   "metadata": {
    "colab": {
     "base_uri": "https://localhost:8080/"
    },
    "id": "V9mhOQl6S5wk",
    "outputId": "a8706fc6-cd1c-48e6-b302-28bdef06f4e3"
   },
   "outputs": [
    {
     "data": {
      "text/plain": [
       "array([[1., 0.],\n",
       "       [0., 1.]])"
      ]
     },
     "execution_count": 82,
     "metadata": {},
     "output_type": "execute_result"
    }
   ],
   "source": [
    "F_shear.dot(LA.inv(F_shear))"
   ]
  },
  {
   "cell_type": "markdown",
   "metadata": {
    "id": "f2kvc9-uS5wk"
   },
   "source": [
    "Otra forma de expresar esto es que la inversa de la inversa de una matriz $M$ es la misma $M$:\n",
    "\n",
    "$((M)^{-1})^{-1} = M$"
   ]
  },
  {
   "cell_type": "code",
   "execution_count": 83,
   "metadata": {
    "colab": {
     "base_uri": "https://localhost:8080/"
    },
    "id": "Fun5vBR1S5wk",
    "outputId": "d8f84a52-fe5f-4b79-b346-c5b0e9e12821"
   },
   "outputs": [
    {
     "data": {
      "text/plain": [
       "array([[1. , 1.5],\n",
       "       [0. , 1. ]])"
      ]
     },
     "execution_count": 83,
     "metadata": {},
     "output_type": "execute_result"
    }
   ],
   "source": [
    "LA.inv(LA.inv(F_shear))"
   ]
  },
  {
   "cell_type": "markdown",
   "metadata": {
    "id": "NEuEO7oAS5wk"
   },
   "source": [
    "Además, lo contrario de escalar por un factor de $\\lambda$ es, por supuesto, escalar por un factor de $\\frac{1}{\\lambda}$:\n",
    "\n",
    "$ (\\lambda \\times M)^{-1} = \\frac{1}{\\lambda} \\times M^{-1}$\n",
    "\n",
    "Una vez que comprende la interpretación geométrica de las matrices como transformaciones lineales, la mayoría de estas propiedades parecen bastante intuitivas.\n",
    "\n",
    "Una matriz que es su propia inversa se llama **involución**. Los ejemplos más simples son las matrices de reflexión, o una rotación de 180°, pero también hay involuciones más complejas, por ejemplo, imagina una transformación que se comprime horizontalmente, luego se refleja sobre el eje vertical y finalmente gira 90° en el sentido de las agujas del reloj. Tome una servilleta e intente hacerlo dos veces: terminará en la posición original. Aquí está la matriz involutiva correspondiente:"
   ]
  },
  {
   "cell_type": "code",
   "execution_count": 84,
   "metadata": {
    "colab": {
     "base_uri": "https://localhost:8080/",
     "height": 269
    },
    "id": "4_6r6fNhS5wk",
    "outputId": "08da3002-6bba-4c7e-cb28-28dbbd3afc2a"
   },
   "outputs": [
    {
     "data": {
      "image/png": "[encoded data removed]",
      "text/plain": [
       "<Figure size 432x288 with 1 Axes>"
      ]
     },
     "metadata": {
      "needs_background": "light"
     },
     "output_type": "display_data"
    }
   ],
   "source": [
    "F_involution  = np.array([\n",
    "        [0, -2],\n",
    "        [-1/2, 0]\n",
    "    ])\n",
    "plot_transformation(P, F_involution.dot(P), \"$P$\", \"$F_{involucion} \\cdot P$\",\n",
    "                    axis=[-8, 5, -4, 4])\n",
    "plt.show()"
   ]
  },
  {
   "cell_type": "markdown",
   "metadata": {
    "id": "bXOBe4xfS5wk"
   },
   "source": [
    "Finalmente, una matriz cuadrada $H$ cuya inversa es su propia transpuesta es una **matriz ortogonal**:\n",
    "\n",
    "$H^{-1} = H^T$\n",
    "\n",
    "Por lo tanto:\n",
    "\n",
    "$H \\cdot H^T = H^T \\cdot H = I$\n",
    "\n",
    "Corresponde a una transformación que conserva distancias, como rotaciones y reflexiones, y combinaciones de estas, pero sin reescalar, cortar o comprimir. Verifiquemos que $F_{reflect}$ sea realmente ortogonal:"
   ]
  },
  {
   "cell_type": "code",
   "execution_count": 85,
   "metadata": {
    "colab": {
     "base_uri": "https://localhost:8080/"
    },
    "id": "k-XvKMJjS5wk",
    "outputId": "d4761afa-b85d-4703-e957-64f9ec182aa7"
   },
   "outputs": [
    {
     "data": {
      "text/plain": [
       "array([[1, 0],\n",
       "       [0, 1]])"
      ]
     },
     "execution_count": 85,
     "metadata": {},
     "output_type": "execute_result"
    }
   ],
   "source": [
    "F_reflect.dot(F_reflect.T)"
   ]
  },
  {
   "cell_type": "markdown",
   "metadata": {
    "id": "bXO9pJrPS5wk"
   },
   "source": [
    "## Determinante\n",
    "El determinante de una matriz cuadrada $M$, anotado $\\det(M)$ o $\\det M$ o $|M|$ es un valor que se puede calcular a partir de sus elementos $(M_{i,j})$ usando varios métodos equivalentes. Uno de los métodos más simples es este enfoque recursivo:\n",
    "\n",
    "$|M| = M_{1,1}\\times|M^{(1,1)}| - M_{2,1}\\times|M^{(2,1)}| + M_{3,1}\\times|M^{(3,1)}| - M_{4,1}\\times|M^{(4,1)}| + \\cdots ± M_{n,1}\\times|M^{(n,1)}|$\n",
    "\n",
    "* Donde $M^{(i,j)}$ es la matriz $M$ sin fila $i$ ni columna $j$.\n",
    "Por ejemplo, calculemos el determinante de la siguiente matriz $3 \\times 3$:\n",
    "$M = \\begin{bmatrix}\n",
    "  1 & 2 & 3 \\\\\n",
    "  4 & 5 & 6 \\\\\n",
    "  7 & 8 & 0\n",
    "\\end{bmatrix}$\n",
    "\n",
    "Usando el método anterior, obtenemos: \n",
    "\n",
    "$|M| = 1 \\times \\left | \\begin{bmatrix} 5 & 6 \\\\ 8 & 0 \\end{bmatrix} \\right |\n",
    "     - 2 \\times \\left | \\begin{bmatrix} 4 & 6 \\\\ 7 & 0 \\end{bmatrix} \\right |\n",
    "     + 3 \\times \\left | \\begin{bmatrix} 4 & 5 \\\\ 7 & 8 \\end{bmatrix} \\right |$ \n",
    "\n",
    "Ahora necesitamos calcular el determinante de cada una de estas matrices de $2 \\times 2$ (estos determinantes se llaman **menores**):\n",
    "\n",
    "$\\left | \\begin{bmatrix} 5 & 6 \\\\ 8 & 0 \\end{bmatrix} \\right | = 5 \\times 0 - 6 \\times 8 = -48$\n",
    "\n",
    "$\\left | \\begin{bmatrix} 4 & 6 \\\\ 7 & 0 \\end{bmatrix} \\right | = 4 \\times 0 - 6 \\times 7 = -42$\n",
    "\n",
    "$\\left | \\begin{bmatrix} 4 & 5 \\\\ 7 & 8 \\end{bmatrix} \\right | = 4 \\times 8 - 5 \\times 7 = -3$\n",
    "\n",
    "Ahora podemos calcular el resultado final:\n",
    "\n",
    "$|M| = 1 \\times (-48) - 2 \\times (-42) + 3 \\times (-3) = 27$"
   ]
  },
  {
   "cell_type": "markdown",
   "metadata": {
    "id": "W4DrHzQHS5wl"
   },
   "source": [
    "Ahora podemos calcular el resultado final:"
   ]
  },
  {
   "cell_type": "code",
   "execution_count": 86,
   "metadata": {
    "colab": {
     "base_uri": "https://localhost:8080/"
    },
    "id": "GS1yNvRfS5wl",
    "outputId": "38a19e23-2f05-4fa3-b929-b1faf1e30a2b"
   },
   "outputs": [
    {
     "data": {
      "text/plain": [
       "27.0"
      ]
     },
     "execution_count": 86,
     "metadata": {},
     "output_type": "execute_result"
    }
   ],
   "source": [
    "M = np.array([\n",
    "        [1, 2, 3],\n",
    "        [4, 5, 6],\n",
    "        [7, 8, 0]\n",
    "    ])\n",
    "LA.det(M)"
   ]
  },
  {
   "cell_type": "markdown",
   "metadata": {
    "id": "3GZnLhmwS5wl"
   },
   "source": [
    "Uno de los principales usos del determinante es *determinar* si una matriz cuadrada puede invertirse o no: si el determinante es igual a 0, entonces la matriz *no* puede invertirse (es una matriz singular), y si el determinante no es 0, entonces *puede* ser invertido.\n",
    "\n",
    "Por ejemplo, calculemos el determinante para las matrices $F_{project}$, $F_{project\\_30}$ y $F_{shear}$ que definimos anteriormente:"
   ]
  },
  {
   "cell_type": "code",
   "execution_count": 87,
   "metadata": {
    "colab": {
     "base_uri": "https://localhost:8080/"
    },
    "id": "45wPKYjUS5wl",
    "outputId": "8b83b144-6d4c-4054-ac20-aec1415923c8"
   },
   "outputs": [
    {
     "data": {
      "text/plain": [
       "0.0"
      ]
     },
     "execution_count": 87,
     "metadata": {},
     "output_type": "execute_result"
    }
   ],
   "source": [
    "LA.det(F_project)"
   ]
  },
  {
   "cell_type": "markdown",
   "metadata": {
    "id": "0EUpzYXgS5wl"
   },
   "source": [
    "Así es, $F_{project}$ es singular, como vimos antes."
   ]
  },
  {
   "cell_type": "code",
   "execution_count": 88,
   "metadata": {
    "colab": {
     "base_uri": "https://localhost:8080/"
    },
    "id": "k1KEQZTcS5wl",
    "outputId": "5804f4ab-5916-45aa-f7e7-1ccf2d87053b"
   },
   "outputs": [
    {
     "data": {
      "text/plain": [
       "2.0816681711721642e-17"
      ]
     },
     "execution_count": 88,
     "metadata": {},
     "output_type": "execute_result"
    }
   ],
   "source": [
    "LA.det(F_project_30)"
   ]
  },
  {
   "cell_type": "markdown",
   "metadata": {
    "id": "sQfEI3zXS5wl"
   },
   "source": [
    "Este determinante está sospechosamente cerca de 0: en realidad debería ser 0, pero no lo es debido a pequeños errores de punto flotante. La matriz es en realidad singular."
   ]
  },
  {
   "cell_type": "code",
   "execution_count": 89,
   "metadata": {
    "colab": {
     "base_uri": "https://localhost:8080/"
    },
    "id": "Mc1ZPwlhS5wl",
    "outputId": "17c0b07e-4b41-4125-beda-6da0a84bfa24"
   },
   "outputs": [
    {
     "data": {
      "text/plain": [
       "1.0"
      ]
     },
     "execution_count": 89,
     "metadata": {},
     "output_type": "execute_result"
    }
   ],
   "source": [
    "LA.det(F_shear)"
   ]
  },
  {
   "cell_type": "markdown",
   "metadata": {
    "id": "UmFCRLhQS5wl"
   },
   "source": [
    "¡Perfecto! Esta matriz *puede* ser invertida como vimos antes. ¡Guau, las matemáticas realmente funcionan!"
   ]
  },
  {
   "cell_type": "markdown",
   "metadata": {
    "id": "VbmxATLwS5wm"
   },
   "source": [
    "El determinante también se puede usar para medir cuánto afecta una transformación lineal a las áreas superficiales: por ejemplo, las matrices de proyección $F_{project}$ y $F_{project\\_30}$ aplanan completamente el polígono $P$, hasta que su área es cero. Es por eso que el determinante de estas matrices es 0. El mapeo de corte modificó la forma del polígono, pero no afectó su área de superficie, por lo que el determinante es 1. Puede intentar calcular el determinante de una matriz de rotación, y también debería dar 1. ¿Qué pasa con una matriz de escalado? Vamos a ver:"
   ]
  },
  {
   "cell_type": "code",
   "execution_count": 90,
   "metadata": {
    "colab": {
     "base_uri": "https://localhost:8080/",
     "height": 269
    },
    "id": "yPE7y-LxS5wm",
    "outputId": "8024d5f0-9a41-44df-e1e7-22334594650e"
   },
   "outputs": [
    {
     "data": {
      "image/png": "[encoded data removed]",
      "text/plain": [
       "<Figure size 432x288 with 1 Axes>"
      ]
     },
     "metadata": {
      "needs_background": "light"
     },
     "output_type": "display_data"
    }
   ],
   "source": [
    "F_scale = np.array([\n",
    "        [0.5, 0],\n",
    "        [0, 0.5]\n",
    "    ])\n",
    "plot_transformation(P, F_scale.dot(P), \"$P$\", \"$F_{scale} \\cdot P$\",\n",
    "                    axis=[0, 6, -1, 4])\n",
    "plt.show()"
   ]
  },
  {
   "cell_type": "markdown",
   "metadata": {
    "id": "XiOrct1ES5wm"
   },
   "source": [
    "Redimensionamos el polígono por un factor de 1/2 en los ejes vertical y horizontal para que el área de superficie del polígono resultante sea 1/4 de la del polígono original. Calculemos el determinante y comprobemos que:"
   ]
  },
  {
   "cell_type": "code",
   "execution_count": 91,
   "metadata": {
    "colab": {
     "base_uri": "https://localhost:8080/"
    },
    "id": "UAZOezubS5wm",
    "outputId": "b03d6677-0dca-4710-d009-f9ef280b593e"
   },
   "outputs": [
    {
     "data": {
      "text/plain": [
       "0.25"
      ]
     },
     "execution_count": 91,
     "metadata": {},
     "output_type": "execute_result"
    }
   ],
   "source": [
    "LA.det(F_scale)"
   ]
  },
  {
   "cell_type": "markdown",
   "metadata": {
    "id": "8FqAZIuRS5wm"
   },
   "source": [
    "¡Correcto!\n",
    "\n",
    "El determinante en realidad puede ser negativo, cuando la transformación da como resultado una versión \"volteada\" del polígono original (por ejemplo, un guante de la mano izquierda se convierte en un guante de la mano derecha). Por ejemplo, el determinante de la matriz `F_reflect` es -1 porque el área de la superficie se conserva pero el polígono se voltea:"
   ]
  },
  {
   "cell_type": "code",
   "execution_count": 92,
   "metadata": {
    "colab": {
     "base_uri": "https://localhost:8080/"
    },
    "id": "Hl9e7CxrS5wm",
    "outputId": "d89a075b-be27-4d19-f64d-6dfc5f9e0274"
   },
   "outputs": [
    {
     "data": {
      "text/plain": [
       "-1.0"
      ]
     },
     "execution_count": 92,
     "metadata": {},
     "output_type": "execute_result"
    }
   ],
   "source": [
    "LA.det(F_reflect)"
   ]
  },
  {
   "cell_type": "markdown",
   "metadata": {
    "id": "Xj0noWdp9Qif"
   },
   "source": [
    "# Aplicación Práctica: Regresión Lineal Múltiple\n"
   ]
  },
  {
   "cell_type": "markdown",
   "metadata": {
    "id": "OC22ITEo9df8"
   },
   "source": [
    "La regresión lineal múltiple permite generar un modelo lineal en el que el valor de la variable dependiente o respuesta ($y$) se determina a partir de un conjunto de variables independientes llamadas predictores ($x_1, x_2, x_3…$).\n",
    "\n",
    "Los modelos lineales múltiples siguen la siguiente ecuación:\n",
    "\n",
    "$$ y = \\beta_0 + \\beta_1 x_1 + \\beta_2 x_2 + ... + \\beta_n x_n + e$$\n",
    "\n",
    "* $\\beta_0$: es la ordenada en el origen, el valor de la variable dependiente $y$\n",
    "cuando todos los predictores son cero.\n",
    "* $\\beta_i$: es el efecto promedio que tiene el incremento en una unidad de la variable predictora $x_i$ sobre la variable dependiente $y$, manteniéndose constantes el resto de variables. Se conocen como coeficientes parciales de regresión.\n",
    "* $e$: es el residuo o error, la diferencia entre el valor observado y el estimado por el modelo. "
   ]
  },
  {
   "cell_type": "markdown",
   "metadata": {
    "id": "Xa7WxgCTAFCd"
   },
   "source": [
    "El error de nuestro modelo está dado por el valor $e$ que es la diferencia entre el valor observado o real ($y$) y el valor predicho por el modelo ($\\hat{y}$). Por lo tanto:\n",
    "\n",
    "$$ \\hat{y} = \\beta_0 + \\beta_1 x_1 + \\beta_2 x_2 + ... + \\beta_n x_n$$\n",
    "\n",
    "$$ e = y - \\hat{y} $$"
   ]
  },
  {
   "cell_type": "markdown",
   "metadata": {
    "id": "Cd-67oqMCItE"
   },
   "source": [
    "Dado que $\\hat{y}$ es un valor escalar que resulta de una suma de pares de valores multiplicados, podemos expresarla como el producto punto de dos vectores. Usaremos negrita para los vectores, de manera de poder diferenciarlos de los valores escalares. Es decir:\n",
    "\n",
    "$$ \\boldsymbol{\\beta} = [ \\beta_1,\\beta_2, ..., \\beta_n]$$\n",
    "$$ \\boldsymbol{x} = [x_1, x_2,...,x_n]$$\n",
    "$$ \\hat{y} = \\beta_0 + \\boldsymbol{\\beta} \\cdot \\boldsymbol{x}$$"
   ]
  },
  {
   "cell_type": "markdown",
   "metadata": {
    "id": "J_P5H89WI-gz"
   },
   "source": [
    "Nuestro modelo debería ser capaz de predecir un valor de $ \\hat{y}$ para cada conjunto de variables independientes $x$. Por lo tanto, si tenemos una cantidad $m$ de observaciones, nuestro modelo será capaz de predecir $m$ valores para $ \\hat{y}$. Es decir:\n",
    "$$ \\boldsymbol{y} = [y_1,y_2,...,y_m]$$\n",
    "$$ \\boldsymbol{\\hat{y}} = [\\hat{y}_1,\\hat{y}_2,...,\\hat{y}_m]$$\n",
    "\n",
    "Cada uno de esos valores predichos por el modelo ($\\hat{y}_i$) seguirá siendo el resultado de un producto punto entre los coeficientes parciales ($\\boldsymbol{\\beta}$) y el conjunto de observaciones de las variables independientes correspondientes ($\\boldsymbol{x_i}$). Entonces:\n",
    "\n",
    "$$\\hat{y}_1 = \\beta_0 + \\boldsymbol{\\beta} \\cdot \\boldsymbol{x_1}$$\n",
    "$$\\hat{y}_2 = \\beta_0 + \\boldsymbol{\\beta} \\cdot \\boldsymbol{x_2}$$\n",
    "$$...$$\n",
    "$$\\hat{y}_m = \\beta_0 + \\boldsymbol{\\beta} \\cdot \\boldsymbol{x_m}$$\n",
    "\n",
    "Por lo tanto, podríamos considerar a los vectores $\\boldsymbol{x_1},\\boldsymbol{x_2},...,\\boldsymbol{x_m}$ como filas de una matrix $X$ y reformular los productos punto como una multiplicación de matrices de la siguiente manera.\n",
    "\n",
    "$$ X = \\begin{bmatrix}\n",
    "x_{1,1} & x_{1,2} & ... & x_{1,n}\\\\\n",
    "x_{2,1} & x_{2,2} & ... & x_{2,n}\\\\\n",
    "...\\\\\n",
    "x_{m,1} & x_{m,2} & ... & x_{m,n}\\\\\n",
    "\\end{bmatrix}$$\n",
    "\n",
    "$$ \\boldsymbol{\\beta_0} = [\\beta_0,  \\beta_0, ..., \\beta_0]$$\n",
    "\n",
    "$$\\boldsymbol{\\hat{y}} =\\boldsymbol{\\beta_0} + \\boldsymbol{\\beta}X^T$$\n",
    "\n",
    "Como último detalle, podríamos evitarnos la suma con $\\beta_0$ si la incluímos en el vector \\boldsymbol{\\beta} y agregamos una columna de unos en X de la siguiente forma:\n",
    "\n",
    "$$ X = \\begin{bmatrix}\n",
    "1 & x_{1,1} & x_{1,2} & ... & x_{1,n}\\\\\n",
    "1 & x_{2,1} & x_{2,2} & ... & x_{2,n}\\\\\n",
    "...\\\\\n",
    "1 & x_{m,1} & x_{m,2} & ... & x_{m,n}\\\\\n",
    "\\end{bmatrix}$$\n",
    "\n",
    "$$ \\boldsymbol{\\beta} = [\\beta_0, \\beta_1,\\beta_2, ..., \\beta_n]$$\n",
    "\n",
    "$$\\boldsymbol{\\hat{y}} =\\boldsymbol{\\beta}X^T = X\\boldsymbol{\\beta}^T $$\n",
    "\n"
   ]
  },
  {
   "cell_type": "markdown",
   "metadata": {
    "id": "2kgoup6bSoZ6"
   },
   "source": [
    "Una vez definido nuestro modelo $\\boldsymbol{\\hat{y}} =X\\boldsymbol{\\beta}^T$, debemos encontrar los coeficientes $\\boldsymbol{\\beta}$ óptimos que serán aquellos que minimicen el error $e$. Sin embargo, el error $e$ debe ser reformulado ya que ahora tanto $\\boldsymbol{\\hat{y}}$ como $\\boldsymbol{y}$ son vectores.\n",
    "\n",
    "$$ \\boldsymbol{e} = \\boldsymbol{y}-\\boldsymbol{\\hat{y}}$$\n",
    "$$ e = \\sum_{i=1}^{m}\\boldsymbol{e}_{i}$$\n",
    "\n",
    "Ademas este error $e$ tiene otro problema y es que en ocasiones $\\boldsymbol{e}_{i}$ será positivo (cuando $y$ sea mayor que $ \\hat{y}$) y en otras será negativo (cuando $ \\hat{y}$ sea mayor que $y$). Por lo tanto, elevaremos cada resta al cuadrado para eliminar el problema del signo o, lo que es equivalente.\n",
    "\n",
    "$$ \\boldsymbol{e} = (\\boldsymbol{y}-\\boldsymbol{\\hat{y}})$$\n",
    "$$ e = \\sum_{i=1}^{m}\\boldsymbol{e}_{i}^2$$\n",
    "\n",
    "Algo equivalente es hacer el producto punto del vector $e$ consigo mismo.\n",
    "\n",
    "$$e=\\boldsymbol{e} \\cdot \\boldsymbol{e}$$\n"
   ]
  },
  {
   "cell_type": "markdown",
   "metadata": {
    "id": "Vmu43zjAWvyn"
   },
   "source": [
    "Al definir el error como la suma de los cuadrados de las diferencias entre los valores observados y predichos, el problema de encontrar el $\\boldsymbol{\\beta}$ óptimo se transforma en encontrar los **\"mínimos cuadrados\"**. Este $\\boldsymbol{\\beta}$ óptimo se puede encontrar utilizando derivadas que es un concepto que veremos dentro de algunas clases. Lo importante es que $\\boldsymbol{\\beta}$ se puede encontrar utilizando la siguiente fórmula:\n",
    "\n",
    "\n",
    "$$\\boldsymbol{\\beta}= (X^TX)^{-1}X^TY$$\n",
    "\n",
    "Cabe destacar que esta ecuación sólo requiere saber multiplicar, trasponer e invertir matrices. Todos conceptos que hemos visto en esta clase."
   ]
  },
  {
   "cell_type": "markdown",
   "metadata": {
    "id": "c8MjCwYHuALn"
   },
   "source": [
    "## Ejemplo\n",
    "A continuación trataremos de predecir las ganancias de 50 startups a partir de lo que gastan en \"Investigación y Desarrollo\", \"Administración\" y \"Marketing\". Obtenemos los datos del archivo \"50_Startups.csv\"."
   ]
  },
  {
   "cell_type": "code",
   "execution_count": null,
   "metadata": {},
   "outputs": [],
   "source": [
    "!wget https://unket.s3.sa-east-1.amazonaws.com/data/50_Startups.csv"
   ]
  },
  {
   "cell_type": "code",
   "execution_count": 94,
   "metadata": {
    "colab": {
     "base_uri": "https://localhost:8080/",
     "height": 206
    },
    "id": "vY9Dj3W8uoKQ",
    "outputId": "d9b88387-7e25-4783-da6c-92a193028e2c"
   },
   "outputs": [
    {
     "data": {
      "text/html": [
       "\n",
       "  <div id=\"df-0d6297f5-dd71-4faa-8ef6-dc8ad1c80d92\">\n",
       "    <div class=\"colab-df-container\">\n",
       "      <div>\n",
       "<style scoped>\n",
       "    .dataframe tbody tr th:only-of-type {\n",
       "        vertical-align: middle;\n",
       "    }\n",
       "\n",
       "    .dataframe tbody tr th {\n",
       "        vertical-align: top;\n",
       "    }\n",
       "\n",
       "    .dataframe thead th {\n",
       "        text-align: right;\n",
       "    }\n",
       "</style>\n",
       "<table border=\"1\" class=\"dataframe\">\n",
       "  <thead>\n",
       "    <tr style=\"text-align: right;\">\n",
       "      <th></th>\n",
       "      <th>R&amp;D Spend</th>\n",
       "      <th>Administration</th>\n",
       "      <th>Marketing Spend</th>\n",
       "      <th>State</th>\n",
       "      <th>Profit</th>\n",
       "    </tr>\n",
       "  </thead>\n",
       "  <tbody>\n",
       "    <tr>\n",
       "      <th>0</th>\n",
       "      <td>165349.20</td>\n",
       "      <td>136897.80</td>\n",
       "      <td>471784.10</td>\n",
       "      <td>New York</td>\n",
       "      <td>192261.83</td>\n",
       "    </tr>\n",
       "    <tr>\n",
       "      <th>1</th>\n",
       "      <td>162597.70</td>\n",
       "      <td>151377.59</td>\n",
       "      <td>443898.53</td>\n",
       "      <td>California</td>\n",
       "      <td>191792.06</td>\n",
       "    </tr>\n",
       "    <tr>\n",
       "      <th>2</th>\n",
       "      <td>153441.51</td>\n",
       "      <td>101145.55</td>\n",
       "      <td>407934.54</td>\n",
       "      <td>Florida</td>\n",
       "      <td>191050.39</td>\n",
       "    </tr>\n",
       "    <tr>\n",
       "      <th>3</th>\n",
       "      <td>144372.41</td>\n",
       "      <td>118671.85</td>\n",
       "      <td>383199.62</td>\n",
       "      <td>New York</td>\n",
       "      <td>182901.99</td>\n",
       "    </tr>\n",
       "    <tr>\n",
       "      <th>4</th>\n",
       "      <td>142107.34</td>\n",
       "      <td>91391.77</td>\n",
       "      <td>366168.42</td>\n",
       "      <td>Florida</td>\n",
       "      <td>166187.94</td>\n",
       "    </tr>\n",
       "  </tbody>\n",
       "</table>\n",
       "</div>\n",
       "      <button class=\"colab-df-convert\" onclick=\"convertToInteractive('df-0d6297f5-dd71-4faa-8ef6-dc8ad1c80d92')\"\n",
       "              title=\"Convert this dataframe to an interactive table.\"\n",
       "              style=\"display:none;\">\n",
       "        \n",
       "  <svg xmlns=\"http://www.w3.org/2000/svg\" height=\"24px\"viewBox=\"0 0 24 24\"\n",
       "       width=\"24px\">\n",
       "    <path d=\"M0 0h24v24H0V0z\" fill=\"none\"/>\n",
       "    <path d=\"M18.56 5.44l.94 2.06.94-2.06 2.06-.94-2.06-.94-.94-2.06-.94 2.06-2.06.94zm-11 1L8.5 8.5l.94-2.06 2.06-.94-2.06-.94L8.5 2.5l-.94 2.06-2.06.94zm10 10l.94 2.06.94-2.06 2.06-.94-2.06-.94-.94-2.06-.94 2.06-2.06.94z\"/><path d=\"M17.41 7.96l-1.37-1.37c-.4-.4-.92-.59-1.43-.59-.52 0-1.04.2-1.43.59L10.3 9.45l-7.72 7.72c-.78.78-.78 2.05 0 2.83L4 21.41c.39.39.9.59 1.41.59.51 0 1.02-.2 1.41-.59l7.78-7.78 2.81-2.81c.8-.78.8-2.07 0-2.86zM5.41 20L4 18.59l7.72-7.72 1.47 1.35L5.41 20z\"/>\n",
       "  </svg>\n",
       "      </button>\n",
       "      \n",
       "  <style>\n",
       "    .colab-df-container {\n",
       "      display:flex;\n",
       "      flex-wrap:wrap;\n",
       "      gap: 12px;\n",
       "    }\n",
       "\n",
       "    .colab-df-convert {\n",
       "      background-color: #E8F0FE;\n",
       "      border: none;\n",
       "      border-radius: 50%;\n",
       "      cursor: pointer;\n",
       "      display: none;\n",
       "      fill: #1967D2;\n",
       "      height: 32px;\n",
       "      padding: 0 0 0 0;\n",
       "      width: 32px;\n",
       "    }\n",
       "\n",
       "    .colab-df-convert:hover {\n",
       "      background-color: #E2EBFA;\n",
       "      box-shadow: 0px 1px 2px rgba(60, 64, 67, 0.3), 0px 1px 3px 1px rgba(60, 64, 67, 0.15);\n",
       "      fill: #174EA6;\n",
       "    }\n",
       "\n",
       "    [theme=dark] .colab-df-convert {\n",
       "      background-color: #3B4455;\n",
       "      fill: #D2E3FC;\n",
       "    }\n",
       "\n",
       "    [theme=dark] .colab-df-convert:hover {\n",
       "      background-color: #434B5C;\n",
       "      box-shadow: 0px 1px 3px 1px rgba(0, 0, 0, 0.15);\n",
       "      filter: drop-shadow(0px 1px 2px rgba(0, 0, 0, 0.3));\n",
       "      fill: #FFFFFF;\n",
       "    }\n",
       "  </style>\n",
       "\n",
       "      <script>\n",
       "        const buttonEl =\n",
       "          document.querySelector('#df-0d6297f5-dd71-4faa-8ef6-dc8ad1c80d92 button.colab-df-convert');\n",
       "        buttonEl.style.display =\n",
       "          google.colab.kernel.accessAllowed ? 'block' : 'none';\n",
       "\n",
       "        async function convertToInteractive(key) {\n",
       "          const element = document.querySelector('#df-0d6297f5-dd71-4faa-8ef6-dc8ad1c80d92');\n",
       "          const dataTable =\n",
       "            await google.colab.kernel.invokeFunction('convertToInteractive',\n",
       "                                                     [key], {});\n",
       "          if (!dataTable) return;\n",
       "\n",
       "          const docLinkHtml = 'Like what you see? Visit the ' +\n",
       "            '<a target=\"_blank\" href=https://colab.research.google.com/notebooks/data_table.ipynb>data table notebook</a>'\n",
       "            + ' to learn more about interactive tables.';\n",
       "          element.innerHTML = '';\n",
       "          dataTable['output_type'] = 'display_data';\n",
       "          await google.colab.output.renderOutput(dataTable, element);\n",
       "          const docLink = document.createElement('div');\n",
       "          docLink.innerHTML = docLinkHtml;\n",
       "          element.appendChild(docLink);\n",
       "        }\n",
       "      </script>\n",
       "    </div>\n",
       "  </div>\n",
       "  "
      ],
      "text/plain": [
       "   R&D Spend  Administration  Marketing Spend       State     Profit\n",
       "0  165349.20       136897.80        471784.10    New York  192261.83\n",
       "1  162597.70       151377.59        443898.53  California  191792.06\n",
       "2  153441.51       101145.55        407934.54     Florida  191050.39\n",
       "3  144372.41       118671.85        383199.62    New York  182901.99\n",
       "4  142107.34        91391.77        366168.42     Florida  166187.94"
      ]
     },
     "execution_count": 94,
     "metadata": {},
     "output_type": "execute_result"
    }
   ],
   "source": [
    "import pandas as pd\n",
    "data = pd.read_csv(\"50_Startups.csv\")\n",
    "data.head()"
   ]
  },
  {
   "cell_type": "markdown",
   "metadata": {
    "id": "pjEak4tmuufg"
   },
   "source": [
    "Ignoraremos la columna del estado y nos quedaremos sólo con las columnas numéricas. Las primeras 3 serán las variables independientes $X$ y la última será la variable dependiente $\\boldsymbol{y}$"
   ]
  },
  {
   "cell_type": "code",
   "execution_count": 111,
   "metadata": {
    "colab": {
     "base_uri": "https://localhost:8080/"
    },
    "id": "tMMFi-7i_kbk",
    "outputId": "f3d18822-bf10-4abc-cdf1-7b68f1540fda"
   },
   "outputs": [
    {
     "name": "stdout",
     "output_type": "stream",
     "text": [
      "tamaño de x: (50, 4)\n",
      "tamaño de y: (50,)\n"
     ]
    }
   ],
   "source": [
    "X = data.loc[:,\"R&D Spend\":\"Marketing Spend\"].to_numpy()\n",
    "m,_ = X.shape\n",
    "X = np.c_[ np.ones(m), X ] \n",
    "print (\"tamaño de x:\", X.shape)\n",
    "y = data.loc[:,\"Profit\"].to_numpy()\n",
    "print (\"tamaño de y:\", y.shape)\n",
    "\n"
   ]
  },
  {
   "cell_type": "markdown",
   "metadata": {
    "id": "WsJbUyEIvbWI"
   },
   "source": [
    "Ahora usamos la fórmula de la regresión lineal múltiple para encontrar los coeficientes $\\boldsymbol{\\beta}$"
   ]
  },
  {
   "cell_type": "code",
   "execution_count": 112,
   "metadata": {
    "colab": {
     "base_uri": "https://localhost:8080/"
    },
    "id": "H6VD6YIFvWeK",
    "outputId": "ae4258ab-1d0c-4800-9461-b960e8357d45"
   },
   "outputs": [
    {
     "name": "stdout",
     "output_type": "stream",
     "text": [
      "[ 5.01221930e+04  8.05715050e-01 -2.68159684e-02  2.72280648e-02]\n"
     ]
    }
   ],
   "source": [
    "b = LA.inv(X.T @ X) @ X.T @ y\n",
    "print(b)"
   ]
  },
  {
   "cell_type": "markdown",
   "metadata": {
    "id": "zdg59hL8w1Kt"
   },
   "source": [
    "Ahora los usamos para generar las predicciones $\\boldsymbol{ \\hat{y}}$"
   ]
  },
  {
   "cell_type": "code",
   "execution_count": 113,
   "metadata": {
    "colab": {
     "base_uri": "https://localhost:8080/",
     "height": 268
    },
    "id": "LKotZIhIqIDh",
    "outputId": "c2eb7253-ae8e-4bb1-b7f2-2f83924e8ab4"
   },
   "outputs": [
    {
     "data": {
      "image/png": "[encoded data removed]",
      "text/plain": [
       "<Figure size 432x288 with 1 Axes>"
      ]
     },
     "metadata": {
      "needs_background": "light"
     },
     "output_type": "display_data"
    }
   ],
   "source": [
    "y_hat = b@X.T\n",
    "plt.plot(y, label=\"y\")\n",
    "plt.plot(y_hat, label=\"y_hat\")\n",
    "plt.legend()\n",
    "plt.show()\n",
    "\n"
   ]
  },
  {
   "cell_type": "markdown",
   "metadata": {
    "id": "qkq7ItJxxTzc"
   },
   "source": [
    "Por último, calculamos el error"
   ]
  },
  {
   "cell_type": "code",
   "execution_count": 98,
   "metadata": {
    "colab": {
     "base_uri": "https://localhost:8080/"
    },
    "id": "bg416E6tsbfA",
    "outputId": "7db9d060-8f05-46b6-a767-5df69a65c928"
   },
   "outputs": [
    {
     "data": {
      "text/plain": [
       "8878114163.452696"
      ]
     },
     "execution_count": 98,
     "metadata": {},
     "output_type": "execute_result"
    }
   ],
   "source": [
    "e_vec = y - y_hat\n",
    "e = np.dot(e_vec,e_vec)\n",
    "e"
   ]
  }
 ],
 "metadata": {
  "colab": {
   "collapsed_sections": [
    "Iduki9SvS5wQ",
    "nGZbwkcJS5wR",
    "ioVRizawS5wS",
    "oOc6CwjES5wU",
    "S0Xgzfl4S5wX",
    "BTlivUn3S5wZ",
    "aVUYENjkS5wb",
    "KKmRCDe4S5wc",
    "Qms8vMlNS5wc",
    "CNv-Wo_CS5wd",
    "McUydsI5S5wd",
    "na-duj1MS5wf",
    "CvSfrzM9S5wh",
    "MUhHXclsS5wi",
    "bXO9pJrPS5wk"
   ],
   "name": "Clase2_Matrices.ipynb",
   "provenance": []
  },
  "kernelspec": {
   "display_name": "Python 3 (ipykernel)",
   "language": "python",
   "name": "python3"
  },
  "language_info": {
   "codemirror_mode": {
    "name": "ipython",
    "version": 3
   },
   "file_extension": ".py",
   "mimetype": "text/x-python",
   "name": "python",
   "nbconvert_exporter": "python",
   "pygments_lexer": "ipython3",
   "version": "3.12.4"
  },
  "toc": {
   "toc_cell": false,
   "toc_number_sections": true,
   "toc_threshold": 6,
   "toc_window_display": false
  }
 },
 "nbformat": 4,
 "nbformat_minor": 4
}
