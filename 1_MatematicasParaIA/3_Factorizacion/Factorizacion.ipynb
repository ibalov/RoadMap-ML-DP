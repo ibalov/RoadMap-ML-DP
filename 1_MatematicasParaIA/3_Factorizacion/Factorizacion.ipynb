{
 "cells": [
  {
   "cell_type": "markdown",
   "metadata": {},
   "source": [
    "<a href=\"https://colab.research.google.com/github/institutohumai/cursos-python/blob/master/MatematicasParaIA/3_Factorizacion/factorizacion.ipynb\"> <img src='https://colab.research.google.com/assets/colab-badge.svg' /> </a>"
   ]
  },
  {
   "cell_type": "markdown",
   "metadata": {
    "id": "kvKYZya_xydV"
   },
   "source": [
    "# Factorización de matrices"
   ]
  },
  {
   "cell_type": "markdown",
   "metadata": {
    "id": "rcy_5ju57O6b"
   },
   "source": [
    "**¿Qué es la factorización de matrices?**\n",
    "\n",
    "Es la expresión de una matriz en término del producto matricial de otras matrices. \n",
    "\n",
    "$M = A.B.C$\n",
    "\n",
    "$$\\begin{bmatrix} M_{1,1} & M_{1,2} \\\\ M_{2,1} & M_{2,2} \\end{bmatrix} = \\begin{bmatrix} A_{1,1} & A_{1,2} \\\\ A_{2,1} & A_{2,2} \\end{bmatrix}. \\begin{bmatrix} B_{1,1} & B_{1,2} \\\\ B_{2,1} & B_{2,2} \\end{bmatrix}.\\begin{bmatrix} C_{1,1} & C_{1,2} \\\\ C_{2,1} & C_{2,2} \\end{bmatrix} $$"
   ]
  },
  {
   "cell_type": "markdown",
   "metadata": {
    "id": "BIzTCtxu7Yfv"
   },
   "source": [
    "Las matrices resultan muy útiles ya que pueden representan y operacionalizar la aplicación de **transformaciones lineales** sobre un **espacio vectorial.**\n",
    "\n",
    "La factorización de matrices permiten simplificar la implementación de transformaciones lineales tanto analíticamente como computacionalmente\n",
    "\n"
   ]
  },
  {
   "cell_type": "markdown",
   "metadata": {
    "id": "t7TYMS_V_DrP"
   },
   "source": [
    "**¿Qué es un espacio vectorial?**\n",
    "\n",
    "\n",
    "Es conjunto V dotado de dos operaciones cerradas:\n",
    "* La suma de elementos de V\n",
    "* La multiplicación de un elemento de V por un escalar\n",
    "es un espacio vectorial siempre y cuando se cumplan las siguientes propiedades:\n",
    "\n",
    "1. La suma es conmutativa: \n",
    "\n",
    "$$u + v = v + u$$\n",
    "\n",
    "2. La suma es asociativa: $$(u + v) + w = u + (v + w)$$\n",
    "\n",
    "3. Existe un único vector nulo $0$ tal que $$v + 0 = v$$\n",
    "\n",
    "4. Existencia del opuesto: Existe  $-v$ tal que \n",
    "\n",
    "$$v + (-v) = 0$$\n",
    "\n",
    "5. Multiplicación por un escalar distributiva\n",
    "\n",
    "$$\\alpha(u + v) = \\alpha u + \\alpha v$$\n",
    "\n",
    "6. Suma de escalares distributiva respecto del producto por vectores \n",
    "\n",
    "$$(\\alpha + \\beta)v = \\alpha v + \\beta v$$ \n",
    "\n",
    "7. Multiplicación por escalares distributiva \n",
    "\n",
    "$$\\beta(\\alpha v) = (\\beta\\alpha) v$$\n",
    "\n",
    "8. Existencia del elemento neutro de la multiplicación de vectores por escalares \n",
    "\n",
    "$$1v = v$$"
   ]
  },
  {
   "cell_type": "markdown",
   "metadata": {
    "id": "sUC1vkhR_F--"
   },
   "source": [
    "**¿Qué es una transformación lineal?**\n",
    "\n",
    "Es una función $L : V \\Rightarrow  W$ de un espacio vectorial $V$ en otro espacio vectorial $W$ (ambos sobre el mismo conjunto de escalares) es una transformación lineal si satisface:\n",
    "\n",
    "$$L (\\alpha v_1 + \\beta v_2) = \\alpha L (v1) + \\beta L (v2)$$\n",
    "para todo par de vectores $v_1$ y $v_2$ de $V$ y todo par de escalares $\\alpha$, $\\beta$. \n",
    "\n",
    "Es decir\n",
    "$$L (v_1 + v_2) = L (v_1) + L (v_2)$$\n",
    "\n",
    "$$L (\\alpha v) = \\alpha L (v) $$"
   ]
  },
  {
   "cell_type": "markdown",
   "metadata": {
    "id": "wIh4sGY-7gfk"
   },
   "source": [
    "**Transformaciones lineales representadas como matrices**\n",
    "\n",
    "Es posible representar y operacionalizar las transfomraciones lineales sobre el espacio vectorial de vectores de n dimensiones con matrices y vectores de dimensiones apropiadas\n",
    "\n",
    "$$L (v) = M.v =\\begin{bmatrix} M_{(1,1)} & M_{(1,2)} \\\\ M_{(2,1)} & M_{(2,2)} \\end{bmatrix}.\\begin{bmatrix} v_{1} \\\\ v_{2}  \\end{bmatrix} = \\begin{bmatrix} M_{(1,1)}v_1 + M_{(1,2)}v_2 \\\\ M_{(2,1)}v_1 + M_{(2,2)}v_2 \\end{bmatrix} $$\n",
    "\n",
    "\n",
    "La transformación lineal $L$ es representada a través de la matriz $M$\n"
   ]
  },
  {
   "cell_type": "markdown",
   "metadata": {
    "id": "xiBARlC0JZ3c"
   },
   "source": [
    "Las operaciones matriciales (suma y multiplicación de matrices), las operaciones entre escalares (suma y multiplicación de escalares) y las operaciones entre matrices y escalares (multiplicación de una matriz por un escalar) permiten que las condiciones del espacio vectorial y las transfomraciones lineales se cumplan en dicha representación."
   ]
  },
  {
   "cell_type": "markdown",
   "metadata": {
    "id": "3_ugRzCIJkoR"
   },
   "source": [
    "La \"linealidad\" de las transfomraciones lineales implican que las componenetes resultantes de los vectores sean sumas de las componenetes originales (elevadas a la 1) multiplicadas por algun escalar y no contempla efectos no lineales (potencias distintas de 1 u otras funciones)"
   ]
  },
  {
   "cell_type": "markdown",
   "metadata": {
    "id": "NpQ2FBdr7dI8"
   },
   "source": [
    "¿Cuál es la relación entre una transformación lineal y la factorización de matrices?"
   ]
  },
  {
   "cell_type": "markdown",
   "metadata": {
    "id": "DrgDf24q7nAc"
   },
   "source": [
    "**Transformaciones lineales aplicadas a vectores**\n",
    "\n",
    "Una transformación lineal aplicada a un vector, va a devolverme como resultado otro vector\n",
    "\n",
    "$$L (v_1) = v_2$$ "
   ]
  },
  {
   "cell_type": "code",
   "execution_count": null,
   "metadata": {},
   "outputs": [],
   "source": [
    "import numpy as np\n",
    "import matplotlib.pyplot as plt\n",
    "from matplotlib.patches import Polygon"
   ]
  },
  {
   "cell_type": "markdown",
   "metadata": {
    "id": "4JuctFS97pXc"
   },
   "source": [
    "Representación gráfica"
   ]
  },
  {
   "cell_type": "code",
   "execution_count": 5,
   "metadata": {
    "colab": {
     "base_uri": "https://localhost:8080/",
     "height": 269
    },
    "executionInfo": {
     "elapsed": 316,
     "status": "ok",
     "timestamp": 1653033983895,
     "user": {
      "displayName": "martin dottori",
      "userId": "02525236306280084468"
     },
     "user_tz": 180
    },
    "id": "HQmOuwprLn6m",
    "outputId": "7c34e45b-0ee5-4890-9fa6-ae5caa1edfe6"
   },
   "outputs": [
    {
     "data": {
      "image/png": "[encoded data removed]",
      "text/plain": [
       "<Figure size 432x288 with 1 Axes>"
      ]
     },
     "metadata": {
      "needs_background": "light"
     },
     "output_type": "display_data"
    }
   ],
   "source": [
    "v1=[2,1]\n",
    "M=np.matrix([[0.5,0.5],[1,1]]) # M es la matriz que representa a la transformación lineal\n",
    "v2=np.array(M @ v1)[0] # Aplico la transformación lineal mediante el producto matricial entre la matriz M y el vector v1\n",
    "#v2 = L(v1) \n",
    "plt.arrow(0,0, v1[0],v1[1], head_width=0.3, head_length=0.3, color = 'blue')\n",
    "plt.arrow(0,0, v2[0],v2[1], head_width=0.25, head_length=0.25,color = 'red')\n",
    "plt.ylim(0,5)\n",
    "plt.xlim(0,5)\n",
    "plt.show()"
   ]
  },
  {
   "cell_type": "markdown",
   "metadata": {
    "id": "B2mZag657rSm"
   },
   "source": [
    "**Transformaciones lineales aplicadas a conjuntos de vectores**\n",
    "\n",
    "Una transformación lineal aplicada a un conjunto de vectores me va a devolver un conjunto de vectores.\n",
    "\n",
    "Es útil representar el resultado de una transformación lineal sobre un conjunto de vectores canónicas (de lingitud igual 1) que conforman una determinada figura geométrica para visualizar de manera más sencilla sus efectos."
   ]
  },
  {
   "cell_type": "markdown",
   "metadata": {
    "id": "s08qsq2E7s5u"
   },
   "source": [
    "Representación gráfica."
   ]
  },
  {
   "cell_type": "markdown",
   "metadata": {
    "id": "O0myIW2CnVYy"
   },
   "source": [
    "##### Función graficadora"
   ]
  },
  {
   "cell_type": "code",
   "execution_count": 6,
   "metadata": {
    "executionInfo": {
     "elapsed": 304,
     "status": "ok",
     "timestamp": 1653034147982,
     "user": {
      "displayName": "martin dottori",
      "userId": "02525236306280084468"
     },
     "user_tz": 180
    },
    "id": "ZBYiBjt_QK8R"
   },
   "outputs": [],
   "source": [
    "def initial():\n",
    "\n",
    "  colors = [\"c\", \"m\", \"y\", \"b\"]\n",
    "\n",
    "  X = [[2*i-1,2*j-1] for i in range(2) for j in range(2)]\n",
    "  aux = X[2][:]\n",
    "  X[2][:] = X[3][:]\n",
    "  X[3][:] = aux\n",
    "  X = np.matrix(X).T # np.matrix(X).transpose()\n",
    "\n",
    "  plt.figure(figsize=(4, 4))\n",
    "  ax1 = plt.subplot(111)\n",
    "  ax1.scatter(X[0,:].flat, X[1,:].flat, color = colors,\n",
    "              s = 12*16, alpha = 1.0, marker = \"s\")   \n",
    "  ax1.scatter((2 * X[0,:]).flat, (2* X[1,:]).flat, color = colors,\n",
    "              s = 12*16, alpha = 0.0, marker = \"s\")\n",
    "  ax1.add_patch(Polygon(xy = X.T, color = \"g\", alpha = 1))  \n",
    "  plt.show()\n",
    "\n",
    "def show_TL(T): \n",
    "  T = np.matrix(T)\n",
    "  if T.shape != np.shape(np.eye(2)):\n",
    "    print(\"[INFO] bad matrix! it's not squared\")\n",
    "    return\n",
    "  X = [[2*i-1,2*j-1] for i in range(2) for j in range(2)]\n",
    "  aux = X[2][:]\n",
    "  X[2][:] = X[3][:]\n",
    "  X[3][:] = aux\n",
    "  X = np.matrix(X).T # np.matrix(X).transpose()\n",
    "  TX = T @ X\n",
    "\n",
    "  w = TX[0,:].max() - TX[0,:].min()\n",
    "  h = TX[1,:].max() - TX[1,:].min()\n",
    "\n",
    "  if w < 2:\n",
    "    w = 2\n",
    "  if h < 2:\n",
    "    h = 2\n",
    "  while w > 5 or w > 5:\n",
    "    h *= 0.99\n",
    "    w *= 0.99\n",
    "\n",
    "  colors = [\"c\", \"m\", \"y\", \"b\"]\n",
    "  \n",
    "\n",
    "  plt.figure(figsize=(3*w*1.2, h*1.2))\n",
    "\n",
    "  ax1 = plt.subplot(131)\n",
    "  ax1.set_axis_off()\n",
    "  ax1.add_patch(Polygon(xy = X.T, color = \"g\", alpha = 1.0))\n",
    "  ax1.add_patch(Polygon(xy = TX.T, color = \"k\", alpha = 0.0))\n",
    "  ax1.scatter(X[0,:].flat, X[1,:].flat, color = colors,\n",
    "              s = 12*h*w, alpha = 1.0, marker = \"s\")  \n",
    "  ax1.scatter(TX[0,:].flat, TX[1,:].flat, color = colors,\n",
    "              s = 12*h*w, alpha = 0.0, marker = \"s\")  \n",
    "\n",
    "  ax2 = plt.subplot(132)\n",
    "  ax2.set_axis_off()\n",
    "  ax2.add_patch(Polygon(xy = X.T, color = \"g\", alpha = 0.0))\n",
    "  ax2.add_patch(Polygon(xy = TX.T, color = \"k\", alpha = 1.0))\n",
    "  ax2.scatter(X[0,:].flat, X[1,:].flat, color = colors,\n",
    "              s = 12*h*w, alpha = 0.0, marker = \"s\")  \n",
    "  ax2.scatter(TX[0,:].flat, TX[1,:].flat, color = colors,\n",
    "              s = 12*h*w, alpha = 1.0, marker = \"s\")  \n",
    "\n",
    "  ax3 = plt.subplot(133)\n",
    "  ax3.add_patch(Polygon(xy = X.T, color = \"g\", alpha = 0.5))\n",
    "  ax3.add_patch(Polygon(xy = TX.T, color = \"k\", alpha = 0.5))\n",
    "  ax3.scatter(X[0,:].flat, X[1,:].flat, color = colors,\n",
    "              s = 12*h*w, alpha = 0.0, marker = \"s\")  \n",
    "  ax3.scatter(TX[0,:].flat, TX[1,:].flat, color = colors,\n",
    "              s = 12*h*w, alpha = 0.0, marker = \"s\")  \n",
    "\n",
    "  plt.show()"
   ]
  },
  {
   "cell_type": "code",
   "execution_count": 7,
   "metadata": {
    "colab": {
     "base_uri": "https://localhost:8080/",
     "height": 374
    },
    "executionInfo": {
     "elapsed": 339,
     "status": "ok",
     "timestamp": 1653034153014,
     "user": {
      "displayName": "martin dottori",
      "userId": "02525236306280084468"
     },
     "user_tz": 180
    },
    "id": "tHgPzP7ZTKxj",
    "outputId": "1378e8a0-2c6f-4191-8f11-7d33c25a79be"
   },
   "outputs": [
    {
     "data": {
      "image/png": "[encoded data removed]",
      "text/plain": [
       "<Figure size 777.6x432 with 3 Axes>"
      ]
     },
     "metadata": {
      "needs_background": "light"
     },
     "output_type": "display_data"
    }
   ],
   "source": [
    "M = [[1,0.5],[0.5,2]]\n",
    "show_TL(M)"
   ]
  },
  {
   "cell_type": "markdown",
   "metadata": {
    "id": "IEdjpHJHCp4-"
   },
   "source": [
    "## ¿Qué puede hacer una transformación lineal?\n"
   ]
  },
  {
   "cell_type": "markdown",
   "metadata": {
    "id": "2Sqt9gkvyJWE"
   },
   "source": [
    "Como comentamos anteriormente, una transforación lineal es un tipo de **función** que toma elementos de un espacio vectorial y nos devuelve elementos de otro espacio vectoral.\n",
    "\n",
    "A partir de ahora usaremos $T$ para representar, tanto a la transformación lineal, como a su matriz asociada. Esta es una practica usual en Algebra Lineal. Sin embargo, cabe destacar que la transformación y la matriz son entidades distintas. Una es una función y la otra es una matriz.\n",
    "\n",
    "Sabemos que al concentrarnos solo en las transformaciones lineales, perdemos parte de la expresividad que tienen las funciones. En ese sentido es una buena idea saber que ***¿qué pueden hacer las trasformaciones lineales por nosotros?***\n",
    "\n"
   ]
  },
  {
   "cell_type": "markdown",
   "metadata": {
    "id": "N_xuvTh0UgGT"
   },
   "source": [
    "## Jugando con matrices"
   ]
  },
  {
   "cell_type": "markdown",
   "metadata": {
    "id": "HXdpauxjaIo1"
   },
   "source": [
    "Una buena idea para tratar de entender a las transformaciones lineales es analizar que hace una trasnformación sobre los vertices de un cuadrado. Para esto elegimos los vertices de un cuadrado de lado 2 entrado en el origen."
   ]
  },
  {
   "cell_type": "code",
   "execution_count": 8,
   "metadata": {
    "colab": {
     "base_uri": "https://localhost:8080/",
     "height": 265
    },
    "executionInfo": {
     "elapsed": 590,
     "status": "ok",
     "timestamp": 1653034354490,
     "user": {
      "displayName": "martin dottori",
      "userId": "02525236306280084468"
     },
     "user_tz": 180
    },
    "id": "uF8yme86ct5i",
    "outputId": "e3669ce3-1021-4379-c456-0f3fecb1e312"
   },
   "outputs": [
    {
     "data": {
      "image/png": "[encoded data removed]",
      "text/plain": [
       "<Figure size 288x288 with 1 Axes>"
      ]
     },
     "metadata": {
      "needs_background": "light"
     },
     "output_type": "display_data"
    }
   ],
   "source": [
    "initial()"
   ]
  },
  {
   "cell_type": "markdown",
   "metadata": {
    "id": "2fU2y7bMee--"
   },
   "source": [
    "$$C\n",
    "= \\begin{bmatrix}\n",
    "\\frac{1}{2} & 0\\\\\n",
    "0 & 1\\\\\n",
    "\\end{bmatrix}$$"
   ]
  },
  {
   "cell_type": "markdown",
   "metadata": {
    "id": "6AmYLPrD0Zj1"
   },
   "source": [
    "Tengo la siguiente transformación lineal:\n",
    "\n",
    "$\\begin{bmatrix}\n",
    "1 \\\\\n",
    "0 \\\\\n",
    "\\end{bmatrix} → \\begin{bmatrix}\n",
    "\\frac{1}{2}\\\\\n",
    "0\\\\\n",
    "\\end{bmatrix}$\n",
    "\n",
    "$\\begin{bmatrix}\n",
    "0\\\\\n",
    "1\\\\\n",
    "\\end{bmatrix} → \\begin{bmatrix}\n",
    "0\\\\\n",
    "1\\\\\n",
    "\\end{bmatrix}$\n",
    "\n",
    "¿Qué hace esta trasformación lineal?\n",
    "\n",
    "$ C = \\begin{bmatrix}\n",
    "\\frac{1}{2} & 0\\\\\n",
    "0 & 1\\\\\n",
    "\\end{bmatrix}$"
   ]
  },
  {
   "cell_type": "code",
   "execution_count": 9,
   "metadata": {
    "colab": {
     "base_uri": "https://localhost:8080/",
     "height": 178
    },
    "executionInfo": {
     "elapsed": 728,
     "status": "ok",
     "timestamp": 1653034480154,
     "user": {
      "displayName": "martin dottori",
      "userId": "02525236306280084468"
     },
     "user_tz": 180
    },
    "id": "pGEAmXInwqsh",
    "outputId": "9e3d3ccc-af6d-4f1a-fc30-25c86268add7"
   },
   "outputs": [
    {
     "data": {
      "image/png": "[encoded data removed]",
      "text/plain": [
       "<Figure size 518.4x172.8 with 3 Axes>"
      ]
     },
     "metadata": {
      "needs_background": "light"
     },
     "output_type": "display_data"
    }
   ],
   "source": [
    "C = [[0.5,0]\n",
    "     ,[0,1]]\n",
    "show_TL(C)"
   ]
  },
  {
   "cell_type": "markdown",
   "metadata": {
    "id": "KKYhDwJDekHp"
   },
   "source": [
    "$$E \n",
    "= \\begin{bmatrix}\n",
    "1 & 0\\\\\n",
    "0 & 3\\\\\n",
    "\\end{bmatrix}$$"
   ]
  },
  {
   "cell_type": "markdown",
   "metadata": {
    "id": "OkLCplpR0eZw"
   },
   "source": [
    "Tengo la siguiente transformación lineal:\n",
    "\n",
    "$\\begin{bmatrix}\n",
    "1\\\\\n",
    "0\\\\\n",
    "\\end{bmatrix} → \\begin{bmatrix}\n",
    "1\\\\\n",
    "0\\\\\n",
    "\\end{bmatrix}$\n",
    "\n",
    "$\\begin{bmatrix}\n",
    "0\\\\\n",
    "1\\\\\n",
    "\\end{bmatrix} → \\begin{bmatrix}\n",
    "0\\\\\n",
    "3\\\\\n",
    "\\end{bmatrix}$\n",
    "\n",
    "¿Qué hace esta trasformación lineal?\n",
    "\n",
    "$ E = \\begin{bmatrix}\n",
    "1 & 0\\\\\n",
    "0 & 3\\\\\n",
    "\\end{bmatrix}$"
   ]
  },
  {
   "cell_type": "code",
   "execution_count": 10,
   "metadata": {
    "colab": {
     "base_uri": "https://localhost:8080/",
     "height": 439
    },
    "executionInfo": {
     "elapsed": 306,
     "status": "ok",
     "timestamp": 1653034637948,
     "user": {
      "displayName": "martin dottori",
      "userId": "02525236306280084468"
     },
     "user_tz": 180
    },
    "id": "EiYI4hAYrhoj",
    "outputId": "d646728c-570e-4b14-99cd-08531385f854"
   },
   "outputs": [
    {
     "data": {
      "image/png": "[encoded data removed]",
      "text/plain": [
       "<Figure size 518.4x518.4 with 3 Axes>"
      ]
     },
     "metadata": {
      "needs_background": "light"
     },
     "output_type": "display_data"
    }
   ],
   "source": [
    "E = [[1, 0],\n",
    "     [0, 3]]\n",
    "show_TL(E)"
   ]
  },
  {
   "cell_type": "markdown",
   "metadata": {
    "id": "sxzeBS0k22Bj"
   },
   "source": [
    "$$Π\n",
    "= \\begin{bmatrix}\n",
    "0 & 0\\\\\n",
    "0 & 1\\\\\n",
    "\\end{bmatrix}$$"
   ]
  },
  {
   "cell_type": "markdown",
   "metadata": {
    "id": "C2lAcaEE22Bk"
   },
   "source": [
    "Tengo la siguiente transformación lineal:\n",
    "\n",
    "$\\begin{bmatrix}\n",
    "1\\\\\n",
    "0\\\\\n",
    "\\end{bmatrix} → \\begin{bmatrix}\n",
    "0\\\\\n",
    "0\\\\\n",
    "\\end{bmatrix}$\n",
    "\n",
    "$\\begin{bmatrix}\n",
    "0\\\\\n",
    "1\\\\\n",
    "\\end{bmatrix} → \\begin{bmatrix}\n",
    "0\\\\\n",
    "1\\\\\n",
    "\\end{bmatrix}$\n",
    "\n",
    "¿Qué hace esta trasformación lineal?\n",
    "\n",
    "$ Π = \\begin{bmatrix}\n",
    "0 & 0\\\\\n",
    "0 & 1\\\\\n",
    "\\end{bmatrix}$"
   ]
  },
  {
   "cell_type": "code",
   "execution_count": 11,
   "metadata": {
    "colab": {
     "base_uri": "https://localhost:8080/",
     "height": 178
    },
    "executionInfo": {
     "elapsed": 282,
     "status": "ok",
     "timestamp": 1653034789690,
     "user": {
      "displayName": "martin dottori",
      "userId": "02525236306280084468"
     },
     "user_tz": 180
    },
    "id": "jECU5emP2zs2",
    "outputId": "44ab5437-1102-4b40-a489-fb6e645696d1"
   },
   "outputs": [
    {
     "data": {
      "image/png": "[encoded data removed]",
      "text/plain": [
       "<Figure size 518.4x172.8 with 3 Axes>"
      ]
     },
     "metadata": {
      "needs_background": "light"
     },
     "output_type": "display_data"
    }
   ],
   "source": [
    "PI = [[0,0],\n",
    "      [0,1]]\n",
    "show_TL(PI)"
   ]
  },
  {
   "cell_type": "markdown",
   "metadata": {
    "id": "zCHjqrD-_Gyh"
   },
   "source": [
    "$$F \n",
    "= \\begin{bmatrix}\n",
    "-1 & 0\\\\\n",
    "0 & 1\\\\\n",
    "\\end{bmatrix}$$"
   ]
  },
  {
   "cell_type": "markdown",
   "metadata": {
    "id": "2v3wwd0h_Gyj"
   },
   "source": [
    "Tengo la siguiente transformación lineal:\n",
    "\n",
    "$\\begin{bmatrix}\n",
    "1\\\\\n",
    "0\\\\\n",
    "\\end{bmatrix} → \\begin{bmatrix}\n",
    "-1\\\\\n",
    "0\\\\\n",
    "\\end{bmatrix}$\n",
    "\n",
    "$\\begin{bmatrix}\n",
    "0\\\\\n",
    "1\\\\\n",
    "\\end{bmatrix} → \\begin{bmatrix}\n",
    "0\\\\\n",
    "1\\\\\n",
    "\\end{bmatrix}$\n",
    "\n",
    "¿Qué hace esta trasformación lineal?\n",
    "\n",
    "$ F = \\begin{bmatrix}\n",
    "-1 & 0\\\\\n",
    "0 & 1\\\\\n",
    "\\end{bmatrix}$"
   ]
  },
  {
   "cell_type": "code",
   "execution_count": 12,
   "metadata": {
    "colab": {
     "base_uri": "https://localhost:8080/",
     "height": 178
    },
    "executionInfo": {
     "elapsed": 307,
     "status": "ok",
     "timestamp": 1653034995887,
     "user": {
      "displayName": "martin dottori",
      "userId": "02525236306280084468"
     },
     "user_tz": 180
    },
    "id": "LfP5q5db_Gyk",
    "outputId": "6c2fa3b1-63d6-459f-d1cb-54b1dfca12e9"
   },
   "outputs": [
    {
     "data": {
      "image/png": "[encoded data removed]",
      "text/plain": [
       "<Figure size 518.4x172.8 with 3 Axes>"
      ]
     },
     "metadata": {
      "needs_background": "light"
     },
     "output_type": "display_data"
    }
   ],
   "source": [
    "F = [[-1, 0],\n",
    "     [0, 1]]\n",
    "show_TL(F)"
   ]
  },
  {
   "cell_type": "markdown",
   "metadata": {
    "id": "bGXLSsjI0ppP"
   },
   "source": [
    "$$R\n",
    " = \\begin{bmatrix}\n",
    "\\frac{3}{5} & -\\frac{4}{5}\\\\\n",
    "\\frac{4}{5} & \\frac{3}{5}\\\\\n",
    "\\end{bmatrix}$$"
   ]
  },
  {
   "cell_type": "markdown",
   "metadata": {
    "id": "KxHrSnnhQM7H"
   },
   "source": [
    "Tengo la siguiente transformación lineal:\n",
    "\n",
    "\n",
    "\n",
    "$(1, 0) → (\\dfrac{3}{5}, \\dfrac{4}{5})$\n",
    "\n",
    "$(0, 1) → (-\\dfrac{4}{5}, \\dfrac{3}{5})$\n",
    "\n",
    "¿Qué hace esta trasformación lineal?\n",
    "\n",
    "$ R = \\begin{bmatrix}\n",
    "\\frac{3}{5} & -\\frac{4}{5}\\\\\n",
    "\\frac{4}{5} & \\frac{3}{5}\\\\\n",
    "\\end{bmatrix}$"
   ]
  },
  {
   "cell_type": "code",
   "execution_count": 13,
   "metadata": {
    "colab": {
     "base_uri": "https://localhost:8080/",
     "height": 232
    },
    "executionInfo": {
     "elapsed": 353,
     "status": "ok",
     "timestamp": 1653035237081,
     "user": {
      "displayName": "martin dottori",
      "userId": "02525236306280084468"
     },
     "user_tz": 180
    },
    "id": "d6Q6vhw_rZEq",
    "outputId": "129ef870-72c7-4a3e-fc1d-075a732149a7"
   },
   "outputs": [
    {
     "data": {
      "image/png": "[encoded data removed]",
      "text/plain": [
       "<Figure size 725.76x241.92 with 3 Axes>"
      ]
     },
     "metadata": {
      "needs_background": "light"
     },
     "output_type": "display_data"
    }
   ],
   "source": [
    "R = [[3/5, -4/5],[4/5, 3/5]]\n",
    "show_TL(R)"
   ]
  },
  {
   "cell_type": "markdown",
   "metadata": {
    "id": "AfJ3WKli0l2v"
   },
   "source": [
    "$$C\n",
    "= \\begin{bmatrix}\n",
    "1 & 0\\\\\n",
    "1 & 1\\\\\n",
    "\\end{bmatrix}$$"
   ]
  },
  {
   "cell_type": "markdown",
   "metadata": {
    "id": "ZI60rQUotA8z"
   },
   "source": [
    "**Tengo** la siguiente transformación lineal:\n",
    "\n",
    "$\\begin{bmatrix}\n",
    "1\\\\\n",
    "0\\\\\n",
    "\\end{bmatrix} → \\begin{bmatrix}\n",
    "1\\\\\n",
    "1\\\\\n",
    "\\end{bmatrix}$\n",
    "\n",
    "$\\begin{bmatrix}\n",
    "0\\\\\n",
    "1\\\\\n",
    "\\end{bmatrix} → \\begin{bmatrix}\n",
    "0\\\\\n",
    "1\\\\\n",
    "\\end{bmatrix}$\n",
    "\n",
    "¿Qué hace esta trasformación lineal?\n",
    "\n",
    "$ C = \\begin{bmatrix}\n",
    "1 & 0\\\\\n",
    "1 & 1\\\\\n",
    "\\end{bmatrix}$"
   ]
  },
  {
   "cell_type": "code",
   "execution_count": 14,
   "metadata": {
    "colab": {
     "base_uri": "https://localhost:8080/",
     "height": 309
    },
    "executionInfo": {
     "elapsed": 802,
     "status": "ok",
     "timestamp": 1653035335783,
     "user": {
      "displayName": "martin dottori",
      "userId": "02525236306280084468"
     },
     "user_tz": 180
    },
    "id": "7g_LJICytA82",
    "outputId": "8c531fef-8083-407c-aa5b-92fe474fa3fd"
   },
   "outputs": [
    {
     "data": {
      "image/png": "[encoded data removed]",
      "text/plain": [
       "<Figure size 518.4x345.6 with 3 Axes>"
      ]
     },
     "metadata": {
      "needs_background": "light"
     },
     "output_type": "display_data"
    }
   ],
   "source": [
    "C = [[1, 0], [1, 1]]\n",
    "show_TL(C)"
   ]
  },
  {
   "cell_type": "markdown",
   "metadata": {
    "id": "GgBc9lRu0xwv"
   },
   "source": [
    "### $T\n",
    " = \\begin{bmatrix}\n",
    "2 & 3\\\\\n",
    "-7 & \\frac{1}{2}\\\\\n",
    "\\end{bmatrix}$"
   ]
  },
  {
   "cell_type": "markdown",
   "metadata": {
    "id": "rBV8CmKerhof"
   },
   "source": [
    "Tengo la siguiente transformación lineal:\n",
    "\n",
    "\n",
    "$\\begin{bmatrix}\n",
    "1\\\\\n",
    "0\\\\\n",
    "\\end{bmatrix} → \\begin{bmatrix}\n",
    "2\\\\\n",
    "-7\\\\\n",
    "\\end{bmatrix}$\n",
    "\n",
    "$\\begin{bmatrix}\n",
    "0\\\\\n",
    "1\\\\\n",
    "\\end{bmatrix} → \\begin{bmatrix}\n",
    "3\\\\\n",
    "\\frac{1}{2}\\\\\n",
    "\\end{bmatrix}$\n",
    "\n",
    "¿Qué hace esta trasformación lineal?\n",
    "\n",
    "$ T = \\begin{bmatrix}\n",
    "2 & 3\\\\\n",
    "-7 & \\frac{1}{2}\\\\\n",
    "\\end{bmatrix}$"
   ]
  },
  {
   "cell_type": "code",
   "execution_count": 15,
   "metadata": {
    "colab": {
     "base_uri": "https://localhost:8080/",
     "height": 537
    },
    "executionInfo": {
     "elapsed": 953,
     "status": "ok",
     "timestamp": 1653035404443,
     "user": {
      "displayName": "martin dottori",
      "userId": "02525236306280084468"
     },
     "user_tz": 180
    },
    "id": "Wd_mJQ5BqiPY",
    "outputId": "2fe7c839-2982-47e6-ac35-7eba828ce127"
   },
   "outputs": [
    {
     "data": {
      "image/png": "[encoded data removed]",
      "text/plain": [
       "<Figure size 1295.58x647.789 with 3 Axes>"
      ]
     },
     "metadata": {
      "needs_background": "light"
     },
     "output_type": "display_data"
    }
   ],
   "source": [
    "T = [[2, 3], [-7, 0.5]]\n",
    "show_TL(T)"
   ]
  },
  {
   "cell_type": "markdown",
   "metadata": {
    "id": "8w_F6nvUVrZW"
   },
   "source": [
    "### Resumen:"
   ]
  },
  {
   "cell_type": "markdown",
   "metadata": {
    "id": "TSk6MokvtNva"
   },
   "source": [
    "En general pareciera que todas las transformaciones lineales pueden reducirse a 5 tipos de transformaciones o combinaciones de ellas:\n",
    "\n",
    "* contracciones $C$\n",
    "* expansiones $E$\n",
    "* reflexiones $F$\n",
    "* proyecciones $\\Pi$\n",
    "* rotaciones $R$\n",
    "* deformaciones de corte $C$\n"
   ]
  },
  {
   "cell_type": "markdown",
   "metadata": {
    "id": "vkK4zy3G9Jz2"
   },
   "source": [
    "### Preguntas:\n",
    "\n",
    "1. ¿Podemos representar la multiplicación por un escalar con una matriz?\n",
    "2. ¿Podemos representar la proyección en un **eje arbitrario** con una matriz?\n",
    "2. ¿Podemos representar el determinante con una matriz?\n",
    "2. ¿Podemos representar la reflexión por un **eje arbitrario** con una matriz?\n",
    "1. ¿Podemos representar el cálculo de la inversa con una matriz?"
   ]
  },
  {
   "cell_type": "code",
   "execution_count": 21,
   "metadata": {
    "colab": {
     "base_uri": "https://localhost:8080/",
     "height": 988
    },
    "executionInfo": {
     "elapsed": 1316,
     "status": "ok",
     "timestamp": 1653037798768,
     "user": {
      "displayName": "martin dottori",
      "userId": "02525236306280084468"
     },
     "user_tz": 180
    },
    "id": "nx_AC-z3CxjI",
    "outputId": "bdbd4572-8f7a-4252-c1c5-ac7d83b15b50"
   },
   "outputs": [
    {
     "name": "stdout",
     "output_type": "stream",
     "text": [
      "P\n",
      "[[ 0.64 -0.48]\n",
      " [-0.48  0.36]]\n",
      "L\n",
      "[[ 0.28 -0.96]\n",
      " [-0.96 -0.28]]\n"
     ]
    },
    {
     "data": {
      "image/png": "[encoded data removed]",
      "text/plain": [
       "<Figure size 1036.8x345.6 with 3 Axes>"
      ]
     },
     "metadata": {
      "needs_background": "light"
     },
     "output_type": "display_data"
    },
    {
     "data": {
      "image/png": "[encoded data removed]",
      "text/plain": [
       "<Figure size 725.76x241.92 with 3 Axes>"
      ]
     },
     "metadata": {
      "needs_background": "light"
     },
     "output_type": "display_data"
    },
    {
     "data": {
      "image/png": "[encoded data removed]",
      "text/plain": [
       "<Figure size 580.608x172.8 with 3 Axes>"
      ]
     },
     "metadata": {
      "needs_background": "light"
     },
     "output_type": "display_data"
    },
    {
     "data": {
      "image/png": "[encoded data removed]",
      "text/plain": [
       "<Figure size 642.816x214.272 with 3 Axes>"
      ]
     },
     "metadata": {
      "needs_background": "light"
     },
     "output_type": "display_data"
    }
   ],
   "source": [
    "K = [[2,0],[0,2]]\n",
    "\n",
    "R = np.matrix(R)\n",
    "\n",
    "#F = [[-1,0],\n",
    "#     [0,1]]\n",
    "\n",
    "L = np.matrix(F)\n",
    "L = R @ L @ R.T\n",
    "\n",
    "#PI = [[0,0],\n",
    "#      [0,1]]\n",
    "\n",
    "P = np.matrix(PI)\n",
    "P = R @ P @ R.T\n",
    "\n",
    "print(\"P\")\n",
    "print(P)\n",
    "print(\"L\")\n",
    "print(L)\n",
    "\n",
    "show_TL(K)\n",
    "show_TL(R.T)\n",
    "show_TL(P)\n",
    "show_TL(L)"
   ]
  },
  {
   "cell_type": "markdown",
   "metadata": {
    "id": "HqLrHPY77g1D"
   },
   "source": [
    "## Limitaciones de una transformación lineal."
   ]
  },
  {
   "cell_type": "markdown",
   "metadata": {
    "id": "xbravj4H4Jtm"
   },
   "source": [
    "Hemos visto que hay cosas que una matriz o una transformación lineal no puede hacer. Sería interesante saber cuales son los límites de una transforamción lineal.\n",
    "\n",
    "Por definición, las transformaciones lineales deben preservar sumas y multiplicaciones por un escalar.\n",
    "\n",
    "Si $M$ es una transformación lineal, $x$ e $y$ vectores y α un escalar entonces M debe verificar:\n",
    "\n",
    "$M(x + y) = Mx + My$\n",
    "\n",
    "$M(\\alpha x) = \\alpha(Mx)$\n",
    "\n",
    "Para todo $x$, $y$, $\\alpha$"
   ]
  },
  {
   "cell_type": "markdown",
   "metadata": {
    "id": "7DdKVuTs9dxf"
   },
   "source": [
    "A partir de la definición anterior, se puede ver que la inversa y el determinante no pueden ser transformaciones lineales"
   ]
  },
  {
   "cell_type": "markdown",
   "metadata": {
    "id": "LVVmtNYL9qEr"
   },
   "source": [
    "#### Inversa de una martiz\n"
   ]
  },
  {
   "cell_type": "markdown",
   "metadata": {
    "id": "G4-5qOve53h5"
   },
   "source": [
    "$\\mathrm{Inv}(I) = \n",
    "\\mathrm{Inv}\\left(\\begin{bmatrix}\n",
    "1 & 0\\\\\n",
    "0 & 1\\\\\n",
    "\\end{bmatrix}\\right)=\\begin{bmatrix}\n",
    "1 & 0\\\\\n",
    "0 & 1\\\\\n",
    "\\end{bmatrix}$\n",
    "\n",
    "$\\mathrm{Inv}(0I) = \n",
    "\\mathrm{Inv}\\left(0\\begin{bmatrix}\n",
    "1 & 0\\\\\n",
    "0 & 1\\\\\n",
    "\\end{bmatrix}\\right)=0\\mathrm{Inv}\\left(\\begin{bmatrix}\n",
    "1 & 0\\\\\n",
    "0 & 1\\\\\n",
    "\\end{bmatrix}\\right)=0\\begin{bmatrix}\n",
    "1 & 0\\\\\n",
    "0 & 1\\\\\n",
    "\\end{bmatrix}=\\begin{bmatrix}\n",
    "0 & 0\\\\\n",
    "0 & 0\\\\\n",
    "\\end{bmatrix}$\n",
    "\n",
    "¡Pero la matriz $0I$ No tiene inversa!"
   ]
  },
  {
   "cell_type": "markdown",
   "metadata": {
    "id": "gJR6sfGE9uHI"
   },
   "source": [
    "#### Determinante de una martiz"
   ]
  },
  {
   "cell_type": "markdown",
   "metadata": {
    "id": "EARyNOaS9t4n"
   },
   "source": [
    "$\\det(I)=\\det\\left(\\begin{bmatrix}\n",
    "1 & 0\\\\\n",
    "0 & 1\\\\\n",
    "\\end{bmatrix}\\right) = 1$\n",
    "\n",
    "$\\det(2I) = \\det(I + I) = \\det(I) + \\det(I) = 1 + 1$\n",
    "\n",
    "Pero:\n",
    "\n",
    "$\\det(2I)=\\det\\left(\\begin{bmatrix}\n",
    "2 & 0\\\\\n",
    "0 & 2\\\\\n",
    "\\end{bmatrix}\\right) = 4$\n"
   ]
  },
  {
   "cell_type": "markdown",
   "metadata": {
    "id": "iOCGWT2dFfrp"
   },
   "source": [
    "## Composición de funciones\n",
    "\n",
    "Para calcular $P$ y $L$ hemos aplicado una rotación $R^T$, luego multiplicamos por una matriz diagonal y luego por otra rotación $R$\n",
    "\n",
    "$$\\Pi =\n",
    "\\begin{bmatrix}\n",
    "0&0\\\\\n",
    "0&1\n",
    "\\end{bmatrix}$$\n",
    "\n",
    "$$ R = \\begin{bmatrix}\n",
    "\\frac{3}{5} & -\\frac{4}{5}\\\\\n",
    "\\frac{4}{5} & \\frac{3}{5}\\\\\n",
    "\\end{bmatrix}$$\n",
    "\n",
    "$$ F = \\begin{bmatrix}\n",
    "-1 & 0\\\\\n",
    "0 & 1\\\\\n",
    "\\end{bmatrix}$$\n",
    "\n",
    "$P = R\\Pi R^T$\n",
    "\n",
    "$L = RFR^T$\n",
    "\n",
    "La idea de esto es componer transformaciones lineales. Es decir, aplicar una a continuación de la otra. La justificación explicar por que esto funcióna es sencilla. \n",
    "\n",
    "Empecemos por la reflexión:\n",
    "\n",
    "Primero necesitamos rotar nuestro sistemas de coordenadas para llevar los puntos del eje $x$ a la recta $4x - 3y = 0$. Eso es lo que hace $R^T$"
   ]
  },
  {
   "cell_type": "code",
   "execution_count": 23,
   "metadata": {
    "colab": {
     "base_uri": "https://localhost:8080/",
     "height": 232
    },
    "executionInfo": {
     "elapsed": 370,
     "status": "ok",
     "timestamp": 1653038924743,
     "user": {
      "displayName": "martin dottori",
      "userId": "02525236306280084468"
     },
     "user_tz": 180
    },
    "id": "CIcPu3OcRJqf",
    "outputId": "8a276c94-94ba-4e67-a89f-c15268878fc4"
   },
   "outputs": [
    {
     "data": {
      "image/png": "[encoded data removed]",
      "text/plain": [
       "<Figure size 725.76x241.92 with 3 Axes>"
      ]
     },
     "metadata": {
      "needs_background": "light"
     },
     "output_type": "display_data"
    }
   ],
   "source": [
    "show_TL(R.T)"
   ]
  },
  {
   "cell_type": "markdown",
   "metadata": {
    "id": "sgW_FQJrRYdn"
   },
   "source": [
    "Luego realizamos una reflexión,con la matriz $F$. De hecho ya sabíamos como hacer eso cuando estudiamos $F$"
   ]
  },
  {
   "cell_type": "code",
   "execution_count": 24,
   "metadata": {
    "colab": {
     "base_uri": "https://localhost:8080/",
     "height": 232
    },
    "executionInfo": {
     "elapsed": 381,
     "status": "ok",
     "timestamp": 1653038945155,
     "user": {
      "displayName": "martin dottori",
      "userId": "02525236306280084468"
     },
     "user_tz": 180
    },
    "id": "ea5lYv5mRRV4",
    "outputId": "7cb98899-d9d2-4046-bbbc-3b36dbccb694"
   },
   "outputs": [
    {
     "data": {
      "image/png": "[encoded data removed]",
      "text/plain": [
       "<Figure size 725.76x241.92 with 3 Axes>"
      ]
     },
     "metadata": {
      "needs_background": "light"
     },
     "output_type": "display_data"
    }
   ],
   "source": [
    "show_TL(F@R.T)"
   ]
  },
  {
   "cell_type": "markdown",
   "metadata": {
    "id": "7751z7w1Rrmi"
   },
   "source": [
    "Por ultimo regresamos a las coordenas originales. por medio de $R$"
   ]
  },
  {
   "cell_type": "code",
   "execution_count": 25,
   "metadata": {
    "colab": {
     "base_uri": "https://localhost:8080/",
     "height": 210
    },
    "executionInfo": {
     "elapsed": 775,
     "status": "ok",
     "timestamp": 1653038989723,
     "user": {
      "displayName": "martin dottori",
      "userId": "02525236306280084468"
     },
     "user_tz": 180
    },
    "id": "92cfHAEPRT0t",
    "outputId": "6e6cc34a-6881-4a6f-f000-a02efa04fe61"
   },
   "outputs": [
    {
     "data": {
      "image/png": "[encoded data removed]",
      "text/plain": [
       "<Figure size 642.816x214.272 with 3 Axes>"
      ]
     },
     "metadata": {
      "needs_background": "light"
     },
     "output_type": "display_data"
    }
   ],
   "source": [
    "show_TL(R@F@R.T)"
   ]
  },
  {
   "cell_type": "markdown",
   "metadata": {
    "id": "QE0C-jfJ3M5q"
   },
   "source": [
    "## ¿Existe una forma de representar las transformaciones lineales a paritr de transformaciones básicas?\n"
   ]
  },
  {
   "cell_type": "markdown",
   "metadata": {
    "id": "iSYN8OSKgSiZ"
   },
   "source": [
    "Hemos visto que en algunos casos, algunas transformaciones lineales pueden representarse u obtenerse a traves de transformaciones más sencillas. Por ejemplo las proyecciones y las reflexiones. Pero esto dos deja la pregunta de si este resultado es general para toda transformación lineal. \n",
    "\n",
    "Analicemos una matriz $M$ y tratemos de describirla *cualitativamente* como hemos hecho hasta ahora"
   ]
  },
  {
   "cell_type": "markdown",
   "metadata": {
    "id": "bhmDV5oc2vts"
   },
   "source": [
    "$ M = \\begin{bmatrix}\n",
    "-\\frac{3}{2} & 2\\\\\n",
    "0 & \\frac{1}{2}\\\\\n",
    "\\end{bmatrix}$"
   ]
  },
  {
   "cell_type": "code",
   "execution_count": 26,
   "metadata": {
    "colab": {
     "base_uri": "https://localhost:8080/",
     "height": 141
    },
    "executionInfo": {
     "elapsed": 358,
     "status": "ok",
     "timestamp": 1653039089893,
     "user": {
      "displayName": "martin dottori",
      "userId": "02525236306280084468"
     },
     "user_tz": 180
    },
    "id": "5NWxRL1x4dhC",
    "outputId": "ab8efef5-7b22-42cc-efdf-4b4e9fca0c73"
   },
   "outputs": [
    {
     "data": {
      "image/png": "[encoded data removed]",
      "text/plain": [
       "<Figure size 1289.23x122.784 with 3 Axes>"
      ]
     },
     "metadata": {
      "needs_background": "light"
     },
     "output_type": "display_data"
    }
   ],
   "source": [
    "M = [[-1.5, 2], [0, 0.5]]\n",
    "show_TL(M)"
   ]
  },
  {
   "cell_type": "markdown",
   "metadata": {
    "id": "kPQCCRWk0Jcu"
   },
   "source": [
    "Vemos que esta matriz hace deformaciones de cortes y luego comprime y expande en otras direcciones."
   ]
  },
  {
   "cell_type": "markdown",
   "metadata": {
    "id": "hITsb5VRglCI"
   },
   "source": [
    "Sin embargo, no todos vectores son iguales para nuestra matriz."
   ]
  },
  {
   "cell_type": "markdown",
   "metadata": {
    "id": "VEKhLM8FxJOo"
   },
   "source": [
    "$ M = \\begin{bmatrix}\n",
    "-\\frac{3}{2} & 2\\\\\n",
    "0 & \\frac{1}{2}\\\\\n",
    "\\end{bmatrix},~\n",
    "x_1 = \\begin{bmatrix}\n",
    "1\\\\\n",
    "0 \\\\\n",
    "\\end{bmatrix},~\n",
    "x_2 = \\begin{bmatrix}\n",
    "1\\\\\n",
    "1\\\\\n",
    "\\end{bmatrix},~\n",
    "x_3 = \\begin{bmatrix}\n",
    "0\\\\\n",
    "1\\\\\n",
    "\\end{bmatrix}$"
   ]
  },
  {
   "cell_type": "code",
   "execution_count": 27,
   "metadata": {
    "colab": {
     "base_uri": "https://localhost:8080/"
    },
    "executionInfo": {
     "elapsed": 279,
     "status": "ok",
     "timestamp": 1653039118422,
     "user": {
      "displayName": "martin dottori",
      "userId": "02525236306280084468"
     },
     "user_tz": 180
    },
    "id": "WW1WF96D36V5",
    "outputId": "54cf366d-f1eb-4f52-f91c-6099b2b4a1b7"
   },
   "outputs": [
    {
     "name": "stdout",
     "output_type": "stream",
     "text": [
      "y1 = M(x1)\n",
      "y2 = M(x2)\n",
      "y3 = M(x3)\n",
      "\n",
      "[['x1' 'y1' 'x2' 'y2' 'x3' 'y3']]\n",
      "---------------------------------\n",
      "[[ 1.  -1.5  1.   0.5  0.   2. ]\n",
      " [ 0.   0.   1.   0.5  1.   0.5]]\n"
     ]
    }
   ],
   "source": [
    "M = np.matrix([[-1.5, 2], [0, 0.5]])\n",
    "x_1 = np.matrix([1,0]).T # me aseguro que sean columnas\n",
    "x_2 = np.matrix([1,1]).T\n",
    "x_3 = np.matrix([0,1]).T\n",
    "y_1 = M @ x_1\n",
    "y_2 = M @ x_2\n",
    "y_3 = M @ x_3\n",
    "data = np.concatenate((x_1 , y_1, x_2 , y_2, x_3 , y_3),1) \n",
    "label = np.matrix([[\"x1\",\"y1\",\"x2\",\"y2\",\"x3\",\"y3\"]])\n",
    "\n",
    "print(\"y1 = M(x1)\")\n",
    "print(\"y2 = M(x2)\")\n",
    "print(\"y3 = M(x3)\")\n",
    "print()\n",
    "print(label)\n",
    "print(\"---------------------------------\")\n",
    "print(data)\n"
   ]
  },
  {
   "cell_type": "markdown",
   "metadata": {
    "id": "_scQV4hqi2mX"
   },
   "source": [
    "¡Hay direcciones donde el efecto de la matriz es solo multiplicarar por un número!"
   ]
  },
  {
   "cell_type": "markdown",
   "metadata": {
    "id": "edxDmVst4HSj"
   },
   "source": [
    "$$ M = \\begin{bmatrix}\n",
    "-\\frac{3}{2} & 2\\\\\n",
    "0 & \\frac{1}{2}\\\\\n",
    "\\end{bmatrix},~\n",
    "x_1 = \\begin{bmatrix}\n",
    "1\\\\\n",
    "0 \\\\\n",
    "\\end{bmatrix},~\n",
    "x_2 = \\begin{bmatrix}\n",
    "1\\\\\n",
    "1\\\\\n",
    "\\end{bmatrix},~\n",
    "x_3 = \\begin{bmatrix}\n",
    "0\\\\\n",
    "1\\\\\n",
    "\\end{bmatrix}$$\n",
    "\n",
    "$$M(x_1) = \\begin{bmatrix}\n",
    "-\\frac{3}{2} & 2\\\\\n",
    "0 & \\frac{1}{2}\\\\\n",
    "\\end{bmatrix} \n",
    "\\begin{bmatrix}\n",
    "1\\\\\n",
    "0 \\\\\n",
    "\\end{bmatrix} = \n",
    "\\begin{bmatrix}\n",
    "-\\frac{3}{2}\\\\\n",
    "0\\\\\n",
    "\\end{bmatrix} =\n",
    "-\\frac{3}{2} \\begin{bmatrix}\n",
    "1\\\\\n",
    "0 \\\\\n",
    "\\end{bmatrix} =\n",
    " -\\dfrac{3}{2}x_1$$\n",
    "\n",
    "$$M(x_2) = \n",
    "\\begin{bmatrix}\n",
    "-\\frac{3}{2} & 2\\\\\n",
    "0 & \\frac{1}{2}\\\\\n",
    "\\end{bmatrix} \n",
    "\\begin{bmatrix}\n",
    "1\\\\\n",
    "1 \\\\\n",
    "\\end{bmatrix} =\n",
    "\\begin{bmatrix}\n",
    "\\frac{1}{2}\\\\\n",
    "\\frac{1}{2}\\\\ \n",
    "\\end{bmatrix} =\n",
    "\\frac{1}{2} \\begin{bmatrix}\n",
    "1\\\\\n",
    "1 \\\\\n",
    "\\end{bmatrix} =\n",
    "\\dfrac{1}{2}x_2$$\n",
    "\n",
    "$$M(x_3) = \n",
    "\\begin{bmatrix}\n",
    "-\\frac{3}{2} & 2\\\\\n",
    "0 & \\frac{1}{2}\\\\\n",
    "\\end{bmatrix} \n",
    "\\begin{bmatrix}\n",
    "0\\\\\n",
    "1 \\\\\n",
    "\\end{bmatrix} =\n",
    "\\begin{bmatrix}\n",
    "2\\\\\n",
    "\\frac{1}{2}\\\\ \n",
    "\\end{bmatrix}$$"
   ]
  },
  {
   "cell_type": "markdown",
   "metadata": {
    "id": "pPHph23bz1Q-"
   },
   "source": [
    "Tal vez encontrar estas direcciones preferenciales nos den una pista para encontrar una más sencilla de forma sencilla de nuestras matrices."
   ]
  },
  {
   "cell_type": "markdown",
   "metadata": {
    "id": "eg230sF9UbCG"
   },
   "source": [
    "## Autovalores y autovectores"
   ]
  },
  {
   "cell_type": "markdown",
   "metadata": {
    "id": "UuakoRgt7EdY"
   },
   "source": [
    "Al parecer nuestra matriz $M$, tiene direcciones preferenciales. Cuando $M$ actua sobre un vector $x_i$ en estas direcciones, $M$ solo multiplica por una constante, componente a componente.\n",
    "\n",
    "En una matriz arbitraria, estos vectores $x_i$ son conocidos como ***autovectores*** o ***eigenvectores*** y las constante $λ_i$ que multiplican los vectores se llaman ***autovalores*** o ***eigenvalores***"
   ]
  },
  {
   "cell_type": "markdown",
   "metadata": {
    "id": "k6PS-H-fjWjE"
   },
   "source": [
    "$ M = \\begin{bmatrix}\n",
    "-\\frac{3}{2} & 2\\\\\n",
    "0 & \\frac{1}{2}\\\\\n",
    "\\end{bmatrix}$"
   ]
  },
  {
   "cell_type": "markdown",
   "metadata": {
    "id": "emBW79uR8k3g"
   },
   "source": [
    "Los autovalores y autovectores de $M$ son:\n",
    "\n",
    "$x_1 = \\begin{bmatrix}\n",
    "1\\\\\n",
    "0 \\\\\n",
    "\\end{bmatrix},~ \\lambda_1 = -\\dfrac{3}{2}\\\\\n",
    "x_2 = \\begin{bmatrix}\n",
    "1\\\\\n",
    "1\\\\\n",
    "\\end{bmatrix},~ \\lambda_2 = \\dfrac{1}{2}$\n"
   ]
  },
  {
   "cell_type": "markdown",
   "metadata": {
    "id": "KWxeAfytTVhv"
   },
   "source": [
    "## Diagonalización de una matriz:"
   ]
  },
  {
   "cell_type": "markdown",
   "metadata": {
    "id": "ezcPITKKIAzJ"
   },
   "source": [
    "### Ejemplo de cálculo de autovectores y autovalores\n"
   ]
  },
  {
   "cell_type": "markdown",
   "metadata": {
    "id": "Q1MzuCG8lfFf"
   },
   "source": [
    "Consideremos nuestra matriz $M$. Hasta ahora, alguien nos entrego sus autovalores y autovectores. Pero sería bueno saber como encontrarlos. "
   ]
  },
  {
   "cell_type": "markdown",
   "metadata": {
    "id": "9Pkr7iOKb6ag"
   },
   "source": [
    "#### Métodos iterativos para autovalores y autovectores"
   ]
  },
  {
   "cell_type": "markdown",
   "metadata": {
    "id": "-yY1UaGRYIdE"
   },
   "source": [
    "Por ahora lo único que sabemos es que queremos encontrar un autovector $x_i$ y un autovalor $λ_i$ que verifican.\n",
    "\n",
    "$Mx_i = \\lambda_ix_i$\n",
    "\n",
    "Supongamos que tenemos solo un vector inicial $v$ y apliquemos sucesivas veces $M$"
   ]
  },
  {
   "cell_type": "code",
   "execution_count": 30,
   "metadata": {
    "colab": {
     "base_uri": "https://localhost:8080/"
    },
    "executionInfo": {
     "elapsed": 271,
     "status": "ok",
     "timestamp": 1653040427843,
     "user": {
      "displayName": "martin dottori",
      "userId": "02525236306280084468"
     },
     "user_tz": 180
    },
    "id": "3G1mcUn2nbtG",
    "outputId": "1db3780f-7f63-4053-cf02-10704900ea2c"
   },
   "outputs": [
    {
     "name": "stdout",
     "output_type": "stream",
     "text": [
      "itereación: 0 [[-2]] [[1]]\n",
      "itereación: 1 [[5.]] [[0.5]]\n",
      "itereación: 2 [[-6.5]] [[0.25]]\n",
      "itereación: 3 [[10.25]] [[0.125]]\n",
      "itereación: 4 [[-15.125]] [[0.0625]]\n",
      "itereación: 5 [[22.8125]] [[0.03125]]\n",
      "itereación: 6 [[-34.15625]] [[0.015625]]\n",
      "itereación: 7 [[51.265625]] [[0.0078125]]\n",
      "itereación: 8 [[-76.8828125]] [[0.00390625]]\n",
      "itereación: 9 [[115.33203125]] [[0.00195312]]\n",
      "itereación: 10 [[-172.99414062]] [[0.00097656]]\n"
     ]
    }
   ],
   "source": [
    "v = np.matrix([-2, 1]).T\n",
    "print(\"itereación: 0\", v[0],v[1])\n",
    "for i in range(10):\n",
    "  v = M @ v\n",
    "  print(\"itereación:\",i+1,v[0],v[1])"
   ]
  },
  {
   "cell_type": "markdown",
   "metadata": {
    "id": "lUhv9KFworZa"
   },
   "source": [
    "\n",
    "\n",
    "Despues de iteraciones con un vector arbitrario obtenemos algo parecido a un autovector. Decimos que es algo parecido a un auto vector por lo siguiente: \n",
    "\n",
    "Sabíamos que $(x_1)^T = \\begin{bmatrix} 1&0\\end{bmatrix}$ era un autovector, pero tambien lo será $(y)^T = \\begin{bmatrix} -2&0\\end{bmatrix}$, $(u)^T = \\begin{bmatrix} 100&0\\end{bmatrix}$ o $(w)^T = \\begin{bmatrix} -173&0\\end{bmatrix}$. En neustra iteración final, estamos cerca de un valor similar a $w$, un autovector propiamente dicho.\n",
    "\n",
    "Vemos que las aplicaciones sucesivas sobre un vector nos acerca a un autovector. Con lo cual podemos proponer este truco para encontrar un autovector. De hecho podemos proponer una mejora. Dado que algunas componentes pueden aumentar, es recomendable ir achicando nuestros vectores para evitar que estos crezcan indefinidamente. Lo mismo si nuestro vectores se achicaran. Para solucionar esto, eligiremos dividir la mayor componente en valor absoluto. Por ejemplo en nuestro vector $(v)^T = \\begin{bmatrix}-2&1\\end{bmatrix}$ deberiamos dividir todo por $-2$"
   ]
  },
  {
   "cell_type": "code",
   "execution_count": 31,
   "metadata": {
    "colab": {
     "base_uri": "https://localhost:8080/"
    },
    "executionInfo": {
     "elapsed": 288,
     "status": "ok",
     "timestamp": 1653040481847,
     "user": {
      "displayName": "martin dottori",
      "userId": "02525236306280084468"
     },
     "user_tz": 180
    },
    "id": "l02jgtabr4EM",
    "outputId": "8da17cb7-0379-456f-ec30-8fd19cd11798"
   },
   "outputs": [
    {
     "name": "stdout",
     "output_type": "stream",
     "text": [
      "itereación: 0 [[-2]] [[1]]\n",
      "itereación: 1 [[1.]] [[0.1]] [[5.]] 0\n",
      "itereación: 2 [[1.]] [[-0.03846154]] [[-1.3]] 0\n",
      "itereación: 3 [[1.]] [[0.01219512]] [[-1.57692308]] 0\n",
      "itereación: 4 [[1.]] [[-0.00413223]] [[-1.47560976]] 0\n",
      "itereación: 5 [[1.]] [[0.00136986]] [[-1.50826446]] 0\n",
      "itereación: 6 [[1.]] [[-0.00045746]] [[-1.49726027]] 0\n",
      "itereación: 7 [[1.]] [[0.00015239]] [[-1.50091491]] 0\n",
      "itereación: 8 [[1.]] [[-5.08078447e-05]] [[-1.49969521]] 0\n",
      "itereación: 9 [[1.]] [[1.6934801e-05]] [[-1.50010162]] 0\n",
      "itereación: 10 [[1.]] [[-5.64506114e-06]] [[-1.49996613]] 0\n"
     ]
    }
   ],
   "source": [
    "v = np.matrix([-2, 1]).T\n",
    "print(\"itereación: 0\", v[0],v[1])\n",
    "for i in range(10):\n",
    "  v = M @ v\n",
    "  v_abs = abs(v) # aplicamos valor absoluto componente a componente\n",
    "  n = v_abs.argmax() # elegimos la componente con mayor valor absoluto\n",
    "  lamb = v[n].copy() # guardamos la componente con mayor valor absoluto  \n",
    "  v /= lamb #dividimos por la componente con mayor valor absoluto  \n",
    "  print(\"itereación:\",i+1,v[0],v[1],lamb,n)"
   ]
  },
  {
   "cell_type": "markdown",
   "metadata": {
    "id": "SNTBAdHQuOc7"
   },
   "source": [
    "Al guardar la componente con mayor valor absoluto y dividir por ella, en esencia hemos encontrado también un autovalor.\n",
    "\n",
    "La elección de dividir por la componente en mayor valor absoluto no es arbitraria. Puede demostrarse que nuestro algoritmo converge a un autovector si dividimos nuestros resultados por cualquier norma de $v$. En ese sentido, podríamos haber dividido por cualquier norma. Podríamos haber dividido por la norma euclidiana para encontrar los autovectores. Sin embargo, si elegimos la llamada **norma infinito**, esta norma nos devuelve el valor absoluto de el autovalor correpondiente. De hecho al quedarnos con la componente original, recuperamos el signo.\n",
    "\n",
    "NormaInfinito($v$):\n",
    "  1. calculo el valor absoluto de cada componente de $v$\n",
    "  2. busco $k$, el máximo de los valores absolutos \n",
    "  3. devuelvo el valor $k$ encontrado.\n",
    "\n",
    "```\n",
    "def NormaInfinito(v):\n",
    "  u = v.abs()\n",
    "  k = u.max()\n",
    "  return k\n",
    "```"
   ]
  },
  {
   "cell_type": "markdown",
   "metadata": {
    "id": "NOAghEYoydvg"
   },
   "source": [
    "Podemos ver que algoritmo nos ha permitdo calcular un solo autovector y un solo autovalor. De hecho, puede demostrarse que siempre encuentra el autovalor con mayor valor absoluto y autovector asociado.\n",
    "\n",
    "Sin embargo, aun nos faltan encontrar otros autovalores y autovectores. Vemos que este problema puede ser muy intensivo en cálculo, si seguimos por este camino.\n",
    "\n",
    "Afortunadamente, existen técnicas númericas más avanzadas inspiradas en este algoritmo. Estás técnicas pemiten encontrar todos los autovalores y autovectores. Además, estás ya se encuentran incluidas en `numpy`"
   ]
  },
  {
   "cell_type": "code",
   "execution_count": 32,
   "metadata": {
    "colab": {
     "base_uri": "https://localhost:8080/"
    },
    "executionInfo": {
     "elapsed": 310,
     "status": "ok",
     "timestamp": 1653040613915,
     "user": {
      "displayName": "martin dottori",
      "userId": "02525236306280084468"
     },
     "user_tz": 180
    },
    "id": "U7_2qJzk_Aii",
    "outputId": "abbcde79-d663-4849-c5e7-bd204efb1a11"
   },
   "outputs": [
    {
     "name": "stdout",
     "output_type": "stream",
     "text": [
      "-1.5 [[1. 0.]]\n",
      "0.5 [[0.70710678 0.70710678]]\n"
     ]
    }
   ],
   "source": [
    "eigenvalues, eigenvectors = np.linalg.eig(M) #cálculo de autosistema\n",
    "print(eigenvalues[0], eigenvectors.T[0])\n",
    "print(eigenvalues[1], eigenvectors.T[1])\n"
   ]
  },
  {
   "cell_type": "markdown",
   "metadata": {
    "id": "BELya1ceAqn7"
   },
   "source": [
    "En efecto, a la salida tenemos cada autovalor y su autovector correspondiente. Debido a como se trabaja el algoritmo, los autovectores siempre terminan normalizados con norma euclidiana."
   ]
  },
  {
   "cell_type": "markdown",
   "metadata": {
    "id": "cnhBij5_f05m"
   },
   "source": [
    "### Diagonalización"
   ]
  },
  {
   "cell_type": "markdown",
   "metadata": {
    "id": "-XCVWQhJfqpN"
   },
   "source": [
    "Definamos las siguientes matrices a partir de los autovectores y autovalores de $M$ arbitraria:\n",
    "\n",
    "$$\\Lambda = \\begin{bmatrix}\n",
    "λ_1&0&\\dots & 0\\\\\n",
    "0&λ_2&\\dots & 0\\\\\n",
    "\\vdots&\\vdots&\\ddots & \\vdots\\\\\n",
    "0&0&\\dots & λ_n\\\\\n",
    "\\end{bmatrix}$$\n",
    "\n",
    "$$X = \n",
    "\\begin{bmatrix}\n",
    "x_1|x_2|\\dots |x_n\n",
    "\\end{bmatrix}$$\n",
    "\n",
    "Es decir, en $\\Lambda$ ponemos todos los autovalores $\\lambda_i$ de $M$ en la diagonal. El resto de los elementos los llenamos de 0. Por otro lado en $X$ podemos a los autovectores $x_i$ de $M$ como columnas, **respetando que el orden de los auto vectores coindida con los autovalores**. \n",
    "\n",
    "Se puede demostrar que si $X$ es invertible, entonces:\n",
    "\n",
    "$M = XΛX^{-1}$\n",
    "\n",
    "$XΛX^{-1}$ es la composición de aplicar  $X^{-1}$, luego $Λ$ y finalmente $X$. Para nuestra $M$ tenemos:"
   ]
  },
  {
   "cell_type": "markdown",
   "metadata": {
    "id": "XtwC4mASNVek"
   },
   "source": [
    "$M = X\\Lambda X^{-1}$\n",
    "\n",
    "$M = \\begin{bmatrix}\n",
    "-\\frac{3}{2} & 2\\\\\n",
    "0 & \\frac{1}{2}\\\\\n",
    "\\end{bmatrix},~\n",
    "\\Lambda = \\begin{bmatrix}\n",
    "-\\frac{3}{2} & 0\\\\\n",
    "0 & \\frac{1}{2}\\\\\n",
    "\\end{bmatrix}$\n",
    "\n",
    "$$ X^{-1} =\n",
    "\\begin{bmatrix}\n",
    "1 & -1\\\\\n",
    "0 & \\sqrt{2}\\\\\n",
    "\\end{bmatrix},~ \n",
    "X = \\begin{bmatrix}\n",
    "1 & \\dfrac{\\sqrt{2}}{2}\\\\\n",
    "0 & \\dfrac{\\sqrt{2}}{2}\\\\\n",
    "\\end{bmatrix}$$"
   ]
  },
  {
   "cell_type": "code",
   "execution_count": 34,
   "metadata": {
    "colab": {
     "base_uri": "https://localhost:8080/"
    },
    "executionInfo": {
     "elapsed": 364,
     "status": "ok",
     "timestamp": 1653040947521,
     "user": {
      "displayName": "martin dottori",
      "userId": "02525236306280084468"
     },
     "user_tz": 180
    },
    "id": "2PJLAW9UCW9s",
    "outputId": "3db1b652-74cd-496b-d4a2-ec9e0c8180b8"
   },
   "outputs": [
    {
     "name": "stdout",
     "output_type": "stream",
     "text": [
      "[[-1.5  2. ]\n",
      " [ 0.   0.5]]\n",
      "[[-1.5  2. ]\n",
      " [ 0.   0.5]]\n"
     ]
    }
   ],
   "source": [
    "X = eigenvectors\n",
    "X_inv = np.linalg.inv(X)\n",
    "\n",
    "Lambda_M = np.zeros(M.shape)\n",
    "for i in range(eigenvalues.size):\n",
    "  Lambda_M[i][i] = eigenvalues[i]\n",
    "\n",
    "print(X @ Lambda_M @ X_inv)\n",
    "print(M)"
   ]
  },
  {
   "cell_type": "markdown",
   "metadata": {
    "id": "zzWdNPCSucJf"
   },
   "source": [
    "En función a lo anterior podemos ver que hay matrices, como $M$, que pueden ser representadas como diagonales. Para que puedan ser representadas como diagonales, necesitamos que esta matriz X$ de autovectores sea invertible."
   ]
  },
  {
   "cell_type": "markdown",
   "metadata": {
    "id": "qdx4oaYGWMtH"
   },
   "source": [
    "#### Observación:"
   ]
  },
  {
   "cell_type": "markdown",
   "metadata": {
    "id": "tQemihENOUxN"
   },
   "source": [
    "Para diagonalizar una matriz necesitamos a $X$ y su inversa.\n",
    "\n",
    "Podrían existir tres matrices $U$, $Y$, $\\Sigma$ con $\\Sigma$ diagonal tal que \n",
    "\n",
    "$M = U\\Sigma Y$\n",
    "\n",
    "pero \n",
    "\n",
    "$UY \\neq I$\n",
    "\n",
    "$YU \\neq I$"
   ]
  },
  {
   "cell_type": "markdown",
   "metadata": {
    "id": "jJ4HfsxANDW3"
   },
   "source": [
    "### La diagonalización no es única"
   ]
  },
  {
   "cell_type": "markdown",
   "metadata": {
    "id": "SDvFYerNhm5U"
   },
   "source": [
    "$M = X^{-1}\\Lambda X = Y^{-1}\\Lambda Y$\n",
    "\n",
    "$M = \\begin{bmatrix}\n",
    "-\\frac{3}{2} & 2\\\\\n",
    "0 & \\frac{1}{2}\\\\\n",
    "\\end{bmatrix},~\n",
    "\\Lambda = \\begin{bmatrix}\n",
    "-\\frac{3}{2} & 0\\\\\n",
    "0 & \\frac{1}{2}\\\\\n",
    "\\end{bmatrix}$\n",
    "\n",
    "$ Y^{-1} =\n",
    "\\begin{bmatrix}\n",
    "1 & 1\\\\\n",
    "0 & 1\\\\\n",
    "\\end{bmatrix},~ \n",
    "Y = \\begin{bmatrix}\n",
    "1 & -1\\\\\n",
    "0 & 1\\\\\n",
    "\\end{bmatrix}$\n",
    "\n",
    "$ X^{-1} =\n",
    "\\begin{bmatrix}\n",
    "1 & -1\\\\\n",
    "0 & \\sqrt{2}\\\\\n",
    "\\end{bmatrix},~ \n",
    "X = \\begin{bmatrix}\n",
    "1 & \\dfrac{\\sqrt{2}}{2}\\\\\n",
    "0 & \\dfrac{\\sqrt{2}}{2}\\\\\n",
    "\\end{bmatrix}$"
   ]
  },
  {
   "cell_type": "code",
   "execution_count": 35,
   "metadata": {
    "colab": {
     "base_uri": "https://localhost:8080/"
    },
    "executionInfo": {
     "elapsed": 340,
     "status": "ok",
     "timestamp": 1653041250382,
     "user": {
      "displayName": "martin dottori",
      "userId": "02525236306280084468"
     },
     "user_tz": 180
    },
    "id": "YegqlTL0FnSy",
    "outputId": "47452c70-3a1c-4315-b27f-c72b80af075f"
   },
   "outputs": [
    {
     "name": "stdout",
     "output_type": "stream",
     "text": [
      "[[-1.5  2. ]\n",
      " [ 0.   0.5]]\n",
      "[[-1.5  2. ]\n",
      " [ 0.   0.5]]\n",
      "[[-1.5  2. ]\n",
      " [ 0.   0.5]]\n"
     ]
    }
   ],
   "source": [
    "X = eigenvectors\n",
    "X_inv = np.linalg.inv(X)\n",
    "\n",
    "Y = np.matrix([[1,1],\n",
    "               [0,1]])\n",
    "Y_inv = np.linalg.inv(Y)\n",
    "\n",
    "Lambda_M = np.zeros(M.shape)\n",
    "for i in range(eigenvalues.size):\n",
    "  Lambda_M[i][i] = eigenvalues[i]\n",
    "\n",
    "print(X @ Lambda_M @ X_inv)\n",
    "print(Y @ Lambda_M @ Y_inv)\n",
    "print(M)"
   ]
  },
  {
   "cell_type": "markdown",
   "metadata": {
    "id": "98p_kKlwh7Uu"
   },
   "source": [
    "### No toda matriz es diagonalizable"
   ]
  },
  {
   "cell_type": "markdown",
   "metadata": {
    "id": "iNxZCDsPvlDJ"
   },
   "source": [
    "* Las matrices que representan rotaciones son diagonalizables... *si usamos números complejos como autovalores*\n",
    "\n",
    "* Una deformación de corte no puede diagonalizarse. Para esos casos se usan otras herramientas que generalizan noción de *diagonalización* (Formas de Jordan)"
   ]
  },
  {
   "cell_type": "markdown",
   "metadata": {
    "id": "Hqh3GtehiQ5m"
   },
   "source": [
    "### Diagonalización de matrices simétricas"
   ]
  },
  {
   "cell_type": "markdown",
   "metadata": {
    "id": "kJ7SdoD2MMaw"
   },
   "source": [
    "Toda matriz simétrica $B$ es diagonalizable\n",
    "* Todos los autovalores $\\lambda_i$ son *reales*\n",
    "* Los autovectores $x_i$ forman una base ortogonal.\n",
    " \n",
    "  Es decir, si usamos autovectores con norma unitaria para construir $X$ se verifica:\n",
    "\n",
    "  $X^T=X^{-1}$\n",
    "\n",
    "* Equivalentemente $X$ repesenta una rotación"
   ]
  },
  {
   "cell_type": "code",
   "execution_count": 36,
   "metadata": {
    "colab": {
     "base_uri": "https://localhost:8080/"
    },
    "executionInfo": {
     "elapsed": 359,
     "status": "ok",
     "timestamp": 1653041427651,
     "user": {
      "displayName": "martin dottori",
      "userId": "02525236306280084468"
     },
     "user_tz": 180
    },
    "id": "5AvasLskPtOW",
    "outputId": "de573341-72e8-47f2-ad4e-e0d0d90410c7"
   },
   "outputs": [
    {
     "name": "stdout",
     "output_type": "stream",
     "text": [
      "[[1 2]\n",
      " [2 3]]\n",
      "\n",
      "[[-0.23606798  0.        ]\n",
      " [ 0.          4.23606798]]\n",
      "[[-0.85065081  0.52573111]\n",
      " [ 0.52573111  0.85065081]]\n",
      "\n",
      "[[ 1.0000000e+00 -1.2127222e-17]\n",
      " [-1.2127222e-17  1.0000000e+00]]\n",
      "[[1. 2.]\n",
      " [2. 3.]]\n"
     ]
    }
   ],
   "source": [
    "B = np.matrix([[1,2],\n",
    "               [2,3]])\n",
    "# eigh es una función optimizada para matrices simétricas\n",
    "B_values, B_vectors = np.linalg.eigh(B)\n",
    "\n",
    "B_diag = np.zeros(B.shape)\n",
    "for i in range(B_values.size):\n",
    "  B_diag[i][i] = B_values[i]\n",
    "\n",
    "print(B)\n",
    "print()\n",
    "print(B_diag)\n",
    "print(B_vectors)\n",
    "print()\n",
    "print(B_vectors @ B_vectors.T)\n",
    "print(B_vectors @ B_diag @ B_vectors.T)"
   ]
  },
  {
   "cell_type": "markdown",
   "metadata": {
    "id": "4wz8YksFRlzY"
   },
   "source": [
    "## Descomposición en Valores Singulares"
   ]
  },
  {
   "cell_type": "markdown",
   "metadata": {
    "id": "DMzHNbscTOpn"
   },
   "source": [
    "Hasta ahora hemos hablado de matrices cuadradas. Nuestra idea era buscar representar matrices de manera tal que pudieramos explicar el efecto de una matriz, de forma sencilla. \n",
    "\n",
    "En general las matrices no son cuadradas. Además las matrices cuadradas no siempre son diagonalizables. En resumen, nuestros trucos con autovectores y autovalores pueden fallar.\n",
    "\n",
    "Por esta razón necesitamos algo más robusto para nuestro problema."
   ]
  },
  {
   "cell_type": "markdown",
   "metadata": {
    "id": "wiv05c4d-XKC"
   },
   "source": [
    "Al final de la sección anterior dijimos que toda matriz simétrica es diagonalizable. En función de esto podemos proponer trabajar con una matriz simétrica $S$, a partir de una matriz $A$ arbitraria, incluso tal vez rectangular. \n",
    "\n",
    "Antes de hablar de $S$ analicemos como hacemos composición de transformacioens lineales con matriz rectangular \n",
    "\n",
    "$A = \\begin{bmatrix}1&2&3\\\\\n",
    "5&4&3\\end{bmatrix} $\n",
    "\n",
    "$A$ recibe vectores de dimensión 3 y devuelve vectores de dimensión 2\n"
   ]
  },
  {
   "cell_type": "code",
   "execution_count": 39,
   "metadata": {
    "colab": {
     "base_uri": "https://localhost:8080/"
    },
    "executionInfo": {
     "elapsed": 416,
     "status": "ok",
     "timestamp": 1653042393275,
     "user": {
      "displayName": "martin dottori",
      "userId": "02525236306280084468"
     },
     "user_tz": 180
    },
    "id": "g2jc2m01A75N",
    "outputId": "8615b840-df14-4938-93e4-ba80de38ceae"
   },
   "outputs": [
    {
     "data": {
      "text/plain": [
       "(matrix([[1, 5]]), matrix([[1, 0, 0]]))"
      ]
     },
     "execution_count": 39,
     "metadata": {},
     "output_type": "execute_result"
    }
   ],
   "source": [
    "A = np.matrix([[1,2,3],\n",
    "               [5,4,3]])\n",
    "\n",
    "b = np.matrix([1,0,0]).T\n",
    "\n",
    "c = A @ b\n",
    "c.T , b.T"
   ]
  },
  {
   "cell_type": "markdown",
   "metadata": {
    "id": "rkzOjhKnDb8A"
   },
   "source": [
    "Esto nos indica que para que poder componer una matriz rectangular $A$ por otra matriz $B$ debemos hacer que el número de filas de $A$ conicida con el número de columnas de $B$"
   ]
  },
  {
   "cell_type": "code",
   "execution_count": 26,
   "metadata": {
    "colab": {
     "base_uri": "https://localhost:8080/"
    },
    "executionInfo": {
     "elapsed": 339,
     "status": "ok",
     "timestamp": 1653001910415,
     "user": {
      "displayName": "martin dottori",
      "userId": "02525236306280084468"
     },
     "user_tz": 180
    },
    "id": "X-HtGUc2Dbg3",
    "outputId": "20e4aad3-9f1d-4772-de23-8beb174ef35a"
   },
   "outputs": [
    {
     "name": "stdout",
     "output_type": "stream",
     "text": [
      "[[8.5 5.  1.5]\n",
      " [2.5 2.  1.5]]\n",
      "[[-1.5  2. ]\n",
      " [ 0.   0.5]]\n",
      "[[1 2 3]\n",
      " [5 4 3]]\n"
     ]
    }
   ],
   "source": [
    "print(M @ A)\n",
    "print(M)\n",
    "print(A)"
   ]
  },
  {
   "cell_type": "markdown",
   "metadata": {
    "id": "Sjl2AiOSEI3O"
   },
   "source": [
    "Es fácil ver que si el número de filas y columnas no coindice la  composición entre transformaciones lineales es imposible. Solo con esto vemos que en general la composición de transformaciones lineales no es conmutativa. \n",
    "\n",
    "Debido a que esta composición aparece en un montón de otras aplicaciónes, es normal llamar a esta composición ***multiplicación entre matrices***. Por ejemplo, esta multiplicación entre matrices, también nos permite definir el producto escalar de una manera consistente e incluso generalizarlo a otros casos."
   ]
  },
  {
   "cell_type": "markdown",
   "metadata": {
    "id": "AQeOom3UGR-T"
   },
   "source": [
    "En función a lo anterior, vemos que hay precuaciones a considerar para obtener una matriz simétrica $S$ a partir de $A$ multiplicando por otra matriz.\n",
    "\n",
    "Por suerte, podemos elegir una matriz que siempre tiene como cantidad de filas la cantidad de columnas de $A$  y como cantidad de columnas la cantidad de filas de $A$: $A^T$, la transpuesta de $A$\n",
    "\n",
    "$A^T = \\begin{bmatrix}1&5\\\\\n",
    "2&4\\\\\n",
    "3&3\\end{bmatrix} $\n",
    "\n",
    "De hecho, $AA^T$ siempre es simátrica para cualquier matriz $A$, incluso para matrices rectangulares"
   ]
  },
  {
   "cell_type": "code",
   "execution_count": 40,
   "metadata": {
    "colab": {
     "base_uri": "https://localhost:8080/"
    },
    "executionInfo": {
     "elapsed": 323,
     "status": "ok",
     "timestamp": 1653042589147,
     "user": {
      "displayName": "martin dottori",
      "userId": "02525236306280084468"
     },
     "user_tz": 180
    },
    "id": "ULPEGoq9IAEa",
    "outputId": "ff3743ef-08c9-4b0d-8c47-997dee597daf"
   },
   "outputs": [
    {
     "data": {
      "text/plain": [
       "matrix([[14, 22],\n",
       "        [22, 50]])"
      ]
     },
     "execution_count": 40,
     "metadata": {},
     "output_type": "execute_result"
    }
   ],
   "source": [
    "S = A @ A.T\n",
    "S"
   ]
  },
  {
   "cell_type": "markdown",
   "metadata": {
    "id": "ed4Y9BSyIFdB"
   },
   "source": [
    "Por como construimos $S$, además de simétrica, $S$ es definida positiva. Es decir, todos sus auto valores son positivos"
   ]
  },
  {
   "cell_type": "code",
   "execution_count": 41,
   "metadata": {
    "colab": {
     "base_uri": "https://localhost:8080/"
    },
    "executionInfo": {
     "elapsed": 272,
     "status": "ok",
     "timestamp": 1653042620752,
     "user": {
      "displayName": "martin dottori",
      "userId": "02525236306280084468"
     },
     "user_tz": 180
    },
    "id": "jkMEz4lfIYfc",
    "outputId": "0ede7e13-274a-4d46-96c2-2d34def98dd9"
   },
   "outputs": [
    {
     "name": "stdout",
     "output_type": "stream",
     "text": [
      "[ 3.57465919 60.42534081]\n",
      "[[-0.90366968  0.4282302 ]\n",
      " [ 0.4282302   0.90366968]]\n"
     ]
    }
   ],
   "source": [
    "values, vectors =  np.linalg.eigh(S)\n",
    "# eigh es una función optimizada para matrices simétricas\n",
    "\n",
    "print(values)\n",
    "print(vectors)"
   ]
  },
  {
   "cell_type": "markdown",
   "metadata": {
    "id": "vOao7rReJc-S"
   },
   "source": [
    "También podríamos construir $H = A^TA$. En ese caso notariamos algo interesante:"
   ]
  },
  {
   "cell_type": "code",
   "execution_count": 29,
   "metadata": {
    "colab": {
     "base_uri": "https://localhost:8080/"
    },
    "executionInfo": {
     "elapsed": 299,
     "status": "ok",
     "timestamp": 1653001919682,
     "user": {
      "displayName": "martin dottori",
      "userId": "02525236306280084468"
     },
     "user_tz": 180
    },
    "id": "MGh6C80JJcRP",
    "outputId": "bdab16db-f514-4095-9769-27709c9d9387"
   },
   "outputs": [
    {
     "name": "stdout",
     "output_type": "stream",
     "text": [
      "[[26 22 18]\n",
      " [22 20 18]\n",
      " [18 18 18]]\n",
      "\n",
      "[-7.11216106e-15  3.57465919e+00  6.04253408e+01]\n",
      "[[-0.40824829  0.6545176  -0.63634899]\n",
      " [ 0.81649658 -0.04993903 -0.57518643]\n",
      " [-0.40824829 -0.75439565 -0.51402386]]\n"
     ]
    }
   ],
   "source": [
    "H = A.T @ A\n",
    "print(H)\n",
    "print()\n",
    "\n",
    "newValues, newVectors = np.linalg.eigh(H)\n",
    "print(newValues)\n",
    "print(newVectors)"
   ]
  },
  {
   "cell_type": "markdown",
   "metadata": {
    "id": "On9r4oidKOwO"
   },
   "source": [
    "Dos de los autovalores de $S$ coinciden con los autovalores de $H$. El restante es muy cercano a 0. De hecho, eso se debe a un problema del cálculo en una PC. Si pudieramos tener precisión arbitraria el autovalor restante debe ser 0.\n",
    "\n",
    "Además, existe otra propiedad, Si $A$ hubiera sido una matriz diagonalizable, los autovalores de $A$ son la raiz cuadrada de los autovalores de $S$, a menos de signo."
   ]
  },
  {
   "cell_type": "markdown",
   "metadata": {
    "id": "YVwx3G5rLLyE"
   },
   "source": [
    "A partir de este experimento con S y H podemos ver algo interesante:\n",
    "\n",
    "$A^TA = VDV^T$\n",
    "\n",
    "$AA^T = U\\Lambda U^T$\n",
    "\n",
    "Concentremos nos en la parte con $A$\n",
    "\n",
    "$A^T\\underline{A} = VD\\underline{V^T}$\n",
    "\n",
    "$\\underline{A}A^T = \\underline{U}\\Lambda U^T$\n",
    "\n",
    "La notación nos sugiere que podemos escribir $A$ como:\n",
    "\n",
    "$A = U\\Sigma V^T$\n",
    "\n",
    "Donde $\\Sigma$ tiene información de $D$ y $Λ$. $U$ y $V^T$ son cuadradas. De aquí vemos que $\\Sigma$ tiene la misma forma que $A$. Ademas:\n",
    "\n",
    "$Σ^TΣ = D$\n",
    "\n",
    "$ΣΣ^T = Λ$\n",
    "\n",
    "Es decir, $Σ$ es una especie de raiz cuadrada de $D$ y $Λ$, a menos de un signo.\n",
    "\n",
    "Esta forma de rescribir $A$, se conoce como **descomposición en valores singulares**"
   ]
  },
  {
   "cell_type": "code",
   "execution_count": 38,
   "metadata": {
    "colab": {
     "base_uri": "https://localhost:8080/"
    },
    "executionInfo": {
     "elapsed": 280,
     "status": "ok",
     "timestamp": 1653041732626,
     "user": {
      "displayName": "martin dottori",
      "userId": "02525236306280084468"
     },
     "user_tz": 180
    },
    "id": "wxrUAwrGOJqt",
    "outputId": "7e6e22e8-838d-4f53-8947-f001bac33045"
   },
   "outputs": [
    {
     "name": "stdout",
     "output_type": "stream",
     "text": [
      "[[1 2 3]\n",
      " [5 4 3]]\n",
      "\n",
      "[[-0.4282302  -0.90366968]\n",
      " [-0.90366968  0.4282302 ]]\n",
      "[[7.77337384 0.         0.        ]\n",
      " [0.         1.89067691 0.        ]]\n",
      "[[-0.63634899 -0.57518643 -0.51402386]\n",
      " [ 0.6545176  -0.04993903 -0.75439565]\n",
      " [ 0.40824829 -0.81649658  0.40824829]]\n",
      "\n",
      "[[1. 2. 3.]\n",
      " [5. 4. 3.]]\n"
     ]
    }
   ],
   "source": [
    "U, Sigma, V_T = np.linalg.svd(A)\n",
    "\n",
    "print(A)\n",
    "print()\n",
    "print(U)\n",
    "Sigma_M = np.zeros(A.shape)\n",
    "for i in range(Sigma.size):\n",
    "  Sigma_M[i][i] = Sigma[i]\n",
    "print(Sigma_M)\n",
    "print(V_T)\n",
    "print()\n",
    "print(U @ Sigma_M @ V_T)"
   ]
  },
  {
   "cell_type": "markdown",
   "metadata": {
    "id": "q4zYFqtqURii"
   },
   "source": [
    "### Algoritmo 1"
   ]
  },
  {
   "cell_type": "markdown",
   "metadata": {
    "id": "POBAvc8fjwuo"
   },
   "source": [
    "* Representamos un vector $v$ como combinación lineal de los vectores $x_i$, es decir, los autovectores de $A$\n",
    "  * $v = \\alpha_1x_1 + \\alpha_1x_1 + … + \\alpha_nx_n$\n",
    "* Aplicamos los autovalores de $A$ segun corresponda\n",
    "  * $x_1 \\to \\lambda_1x_1$\n",
    "  * $x_2 \\to \\lambda_2x_2$\n",
    "  * $\\vdots$\n",
    "  * $x_n \\to \\lambda_nx_n$\n",
    "* Sumamos los resultados parciales.\n",
    "  * $Mv = \\lambda_1\\alpha_1x_1 + \\lambda_2\\alpha_2x_2 + … + \\lambda_n\\alpha_1x_n$"
   ]
  },
  {
   "cell_type": "markdown",
   "metadata": {
    "id": "hWL-74pwGLEp"
   },
   "source": [
    "### $M$ y el Algoritmo 1\n"
   ]
  },
  {
   "cell_type": "markdown",
   "metadata": {
    "id": "weRQk1ocNqIQ"
   },
   "source": [
    "En el apartado anterior encontramos los autovectores y autovalores de $M$. Esto significa que ahora podemos calcular $M$ como propusimos en el Algoritmo 1"
   ]
  },
  {
   "cell_type": "markdown",
   "metadata": {
    "id": "oaesXQoK4as3"
   },
   "source": [
    "$ M = \\begin{bmatrix}\n",
    "-\\frac{3}{2} & 2\\\\\n",
    "0 & \\frac{1}{2}\\\\\n",
    "\\end{bmatrix}$\n",
    "\n",
    "$M(x_1) = \\lambda_1 x_1,~x_1 = \\begin{bmatrix}\n",
    "1\\\\\n",
    "0 \\\\\n",
    "\\end{bmatrix},~ \\lambda_1 = -\\dfrac{3}{2}\\\\\n",
    "M(x_2) = \\lambda_2 x_2,~x_2 = \\begin{bmatrix}\n",
    "1\\\\\n",
    "1\\\\\n",
    "\\end{bmatrix},~ \\lambda_2 = \\dfrac{1}{2}$"
   ]
  },
  {
   "cell_type": "markdown",
   "metadata": {
    "id": "y_4qQkchrGWV"
   },
   "source": [
    "El primer paso del Algoritmo 1 nos pide saber como escribir un vector arbitrario $v$ en términos de $x_i$, los autovectores de $A$. Es decir queremos conocer los $\\alpha_i$ que verifican:\n",
    "\n",
    "$v = \\alpha_1x_1 + \\alpha_1x_1 + … + \\alpha_nx_n$\n",
    "\n",
    "Esto lo podemos reescribir esto de la siguiente manera:\n",
    "\n",
    "$v = Xa$\n",
    "\n",
    "$$X = \n",
    "\\begin{bmatrix}\n",
    "x_1|x_2|\\dots |x_n\n",
    "\\end{bmatrix}$$\n",
    "\n",
    "$$a = \n",
    "\\begin{bmatrix}\n",
    "\\alpha_1\\\\ \\hline\n",
    "\\alpha_2\\\\\\hline\n",
    "\\vdots\\\\ \\hline\n",
    "\\alpha_n\n",
    "\\end{bmatrix}$$\n",
    "\n",
    "Hemos apilado los $\\alpha_i$ en un vector columna y unido los vectores columnas de $x_i$ para crear la matriz $X$. Puede parecer que lo que hicimos es meramente un cambio de notación. Sin embargo, la notación nos dice como calcular los $\\alpha_i$. Si los $x_i$ forman una base, eso significa que $X$ debe tener inversa. Por lo tanto:\n",
    "\n",
    "$X^{-1}v = a$\n",
    "\n",
    "Al final del primer paso tenemos\n",
    "\n",
    "$v \\to a$\n",
    "\n",
    "$a = X^{-1} v$\n",
    "\n",
    "Ahora tenemos un vector columna $a$ sobre el que ya aplicaremos $M$. Como $a$ está en términos de los autovectores $x_i$, solo tenemos que multiplicar componente a componente usando los autovalores $λ_i$. Aprovechando la notación anterior definiremos la matriz $\\Lambda$:\n",
    "\n",
    "$$\\Lambda = \\begin{bmatrix}\n",
    "λ_1&0&\\dots & 0\\\\\n",
    "0&λ_2&\\dots & 0\\\\\n",
    "\\vdots&\\vdots&\\ddots & \\vdots\\\\\n",
    "0&0&\\dots & λ_n\\\\\n",
    "\\end{bmatrix}$$\n",
    "\n",
    "De esta manera, para proceder con nuestro segundo paso ahora debemos calcular:\n",
    "\n",
    "$a \\to \\Lambda a$\n",
    "\n",
    "$\\Lambda a = \\Lambda X^{-1} v$\n",
    "\n",
    "Para terminar, debemos hacer que $\\Lambda a$ deje de estar en términos de $x_i$. Sin embargo, ya sabemos como eliminar eso. De hecho lo vimos al principio de esta sección:\n",
    "\n",
    "$v = Xa$\n",
    "\n",
    "En efecto $a$ ha dejado de estar en términos de $x_i$ y ahora a vuelto a su forma anterior, $v$. Por lo tanto, el paso final es:\n",
    "\n",
    "$\\Lambda a \\to X\\Lambda a$\n",
    "\n",
    "Finalmente tenemos\n",
    "\n",
    "$Mv = X \\Lambda X^{-1} v$\n",
    "\n",
    "Como $v$ es un vector arbitrario, podemos asegurar:\n",
    "\n",
    "$M = X \\Lambda X^{-1}$"
   ]
  },
  {
   "cell_type": "markdown",
   "metadata": {
    "id": "10FOn7uyGjb9"
   },
   "source": [
    "$$M = \\begin{bmatrix}\n",
    "-\\frac{3}{2} & 2\\\\\n",
    "0 & \\frac{1}{2}\\\\\n",
    "\\end{bmatrix},~\n",
    "\\Lambda = \\begin{bmatrix}\n",
    "-\\frac{3}{2} & 0\\\\\n",
    "0 & \\frac{1}{2}\\\\\n",
    "\\end{bmatrix}$$\n",
    "\n",
    "$$ X^{-1} =\n",
    "\\begin{bmatrix}\n",
    "1 & 1\\\\\n",
    "0 & 1\\\\\n",
    "\\end{bmatrix},~ \n",
    "X = \\begin{bmatrix}\n",
    "1 & -1\\\\\n",
    "0 & 1\\\\\n",
    "\\end{bmatrix}$$\n",
    "\n",
    "Como $X$ y $X^{-1}$ deben ser inversas, estas matrices deben verificar:\n",
    "\n",
    "$$X^{-1}X = \n",
    "\\begin{bmatrix}\n",
    "1 & 1\\\\\n",
    "0 & 1\\\\\n",
    "\\end{bmatrix}\n",
    "\\begin{bmatrix}\n",
    "1 & -1\\\\\n",
    "0 & 1\\\\\n",
    "\\end{bmatrix} = \n",
    "\\begin{bmatrix}\n",
    "1 & 0\\\\\n",
    "0 & 1\\\\\n",
    "\\end{bmatrix} = I$$\n",
    "\n",
    "$$XX^{-1} = \n",
    "\\begin{bmatrix}\n",
    "1 & -1\\\\\n",
    "0 & 1\\\\\n",
    "\\end{bmatrix}\n",
    "\\begin{bmatrix}\n",
    "1 & 1\\\\\n",
    "0 & 1\\\\\n",
    "\\end{bmatrix} = \n",
    "\\begin{bmatrix}\n",
    "1 & 0\\\\\n",
    "0 & 1\\\\\n",
    "\\end{bmatrix} = I$$"
   ]
  },
  {
   "cell_type": "markdown",
   "metadata": {
    "id": "2yf9742qGjEY"
   },
   "source": [
    "Vemos que en realidad el Algoritmo 1 no es útil. No solo debemos aplicar 3 matrices, sino que una de ellas es una inversa. "
   ]
  },
  {
   "cell_type": "markdown",
   "metadata": {
    "id": "WvjRLHNMcUO-"
   },
   "source": [
    "#### Calculo analítico de autovectores y autovalores"
   ]
  },
  {
   "cell_type": "markdown",
   "metadata": {
    "id": "yCXznBVAlm12"
   },
   "source": [
    "Para encontrar los autovectores de $M$ debemos resolver el sistema \n",
    "\n",
    "$(M - \\lambda_iI)x_i = 0$\n"
   ]
  },
  {
   "cell_type": "markdown",
   "metadata": {
    "id": "ZeJjqNvtcfGw"
   },
   "source": [
    "Primero calcularemos $M - \\lambda_1I$\n",
    "\n",
    "$$ M - \\lambda_1 I = \\begin{bmatrix}\n",
    "-\\frac{3}{2} - \\lambda_1& 2\\\\\n",
    "0 & \\frac{1}{2} - \\lambda_1\\\\\n",
    "\\end{bmatrix}$$\n",
    "\n",
    "$$ M - \\lambda_1 I = \\begin{bmatrix}\n",
    "-\\frac{3}{2} - (-\\frac{3}{2})& 2\\\\\n",
    "0 & \\frac{1}{2} - (-\\frac{3}{2})\\\\\n",
    "\\end{bmatrix}$$\n",
    "\n",
    "$$ M - \\lambda_1 I = \\begin{bmatrix}\n",
    "0& 2\\\\\n",
    "0 & 2\\\\\n",
    "\\end{bmatrix}$$\n",
    "\n",
    "Aplicamos ahora a $M - \\lambda_1 I$ sobre un vector arbitrario\n",
    "\n",
    "$$ (M - \\lambda_1 I)x_1 = \\begin{bmatrix}\n",
    "0& 2\\\\\n",
    "0 & 2\\\\\n",
    "\\end{bmatrix}\n",
    "\\begin{bmatrix}\n",
    "\\alpha\\\\\n",
    "\\beta \\\\\n",
    "\\end{bmatrix}$$\n",
    "\n",
    "Esto genera dos ecuaciones iguales:\n",
    "\n",
    "$2\\beta = 0$\n",
    "\n",
    "$\\beta = 0$\n",
    "\n",
    "Por lo tanto nuestras solucioens son de la forma:\n",
    "\n",
    "$$ \\begin{bmatrix}\n",
    "\\alpha\\\\\n",
    "0 \\\\\n",
    "\\end{bmatrix}= \\alpha \\begin{bmatrix}\n",
    "1\\\\\n",
    "0 \\\\\n",
    "\\end{bmatrix}$$\n",
    "\n",
    "Elegimos nuestro autovector $x_1$\n",
    "\n",
    "$$x_1 = \\begin{bmatrix}\n",
    "1\\\\\n",
    "0 \\\\\n",
    "\\end{bmatrix}$$"
   ]
  },
  {
   "cell_type": "markdown",
   "metadata": {
    "id": "YcPVNTLmgMl9"
   },
   "source": [
    "\n",
    "De manera analoga para $\\lambda_2$ tenemos:\n",
    "\n",
    "$$ M - \\lambda_2 I = \\begin{bmatrix}\n",
    "-2& 2\\\\\n",
    "0 & 0\\\\\n",
    "\\end{bmatrix}$$\n",
    "\n",
    "Aplicamos ahora a $M - \\lambda_2 I$ sobre un vector arbitrario\n",
    "\n",
    "$$ (M - \\lambda_2 I)x_2 = \\begin{bmatrix}\n",
    "-2& 2\\\\\n",
    "0 & 0\\\\\n",
    "\\end{bmatrix}\n",
    "\\begin{bmatrix}\n",
    "\\alpha\\\\\n",
    "\\beta \\\\\n",
    "\\end{bmatrix}$$\n",
    "\n",
    "Obtenemos la ecuaciones:\n",
    "\n",
    "$-2\\alpha + 2\\beta = 0$\n",
    "\n",
    "$2\\alpha = 2\\beta$\n",
    "\n",
    "$\\alpha = \\beta$\n",
    "\n",
    "Por lo tanto nuestras soluciones son de la forma:\n",
    "\n",
    "$$ \\begin{bmatrix}\n",
    "\\alpha\\\\\n",
    "\\alpha \\\\\n",
    "\\end{bmatrix}= \\alpha \\begin{bmatrix}\n",
    "1\\\\\n",
    "1 \\\\\n",
    "\\end{bmatrix}$$\n",
    "\n",
    "Elegimos nuestro autovector $x_2$\n",
    "\n",
    "$$x_2 = \\begin{bmatrix}\n",
    "1\\\\\n",
    "1 \\\\\n",
    "\\end{bmatrix}$$"
   ]
  },
  {
   "cell_type": "markdown",
   "metadata": {
    "id": "ScnM8ZAxmTAa"
   },
   "source": [
    "Con esto termina el cálculo de nuestros autovectores y autovalores"
   ]
  }
 ],
 "metadata": {
  "colab": {
   "collapsed_sections": [
    "HqLrHPY77g1D",
    "qdx4oaYGWMtH",
    "7UKvHtVaXFJS"
   ],
   "name": "Clase_Factorizacion.ipynb",
   "provenance": [
    {
     "file_id": "https://github.com/institutohumai/cursos-python/blob/master/MatematicasParaIA/3_Factorizacion/Factorizacion.ipynb",
     "timestamp": 1652907495428
    }
   ]
  },
  "kernelspec": {
   "display_name": "Python 3 (ipykernel)",
   "language": "python",
   "name": "python3"
  },
  "language_info": {
   "codemirror_mode": {
    "name": "ipython",
    "version": 3
   },
   "file_extension": ".py",
   "mimetype": "text/x-python",
   "name": "python",
   "nbconvert_exporter": "python",
   "pygments_lexer": "ipython3",
   "version": "3.12.4"
  }
 },
 "nbformat": 4,
 "nbformat_minor": 4
}
